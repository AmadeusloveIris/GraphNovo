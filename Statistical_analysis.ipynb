{
 "cells": [
  {
   "cell_type": "code",
   "execution_count": 1,
   "id": "fb9dc96e",
   "metadata": {},
   "outputs": [],
   "source": [
    "import pickle\n",
    "from glob import glob\n",
    "import numpy as np\n",
    "import pandas as pd\n",
    "import matplotlib.pyplot as plt\n",
    "from itertools import combinations_with_replacement\n",
    "from genova.utils.BasicClass import Ion, Residual_seq"
   ]
  },
  {
   "cell_type": "code",
   "execution_count": null,
   "id": "e4f3bb53",
   "metadata": {},
   "outputs": [],
   "source": [
    "experiment_name = 'Cerebellum'\n",
    "psm_head = pd.read_csv('/data/z37mao/genova_new/{}_PSMs.csv'.format(experiment_name),index_col = 'File ID')\n",
    "psm_head = psm_head[np.logical_and(psm_head['Percolator PEP']<0.05,psm_head['XCorr']>1)]\n",
    "psm_head = psm_head[psm_head['Annotated Sequence'].str.len()<=32]"
   ]
  },
  {
   "cell_type": "code",
   "execution_count": null,
   "id": "c9588c43",
   "metadata": {},
   "outputs": [],
   "source": [
    "buffer=''\n",
    "for i, (index, seq) in enumerate(psm_head['Annotated Sequence'].iteritems()):\n",
    "    buffer+='>{}\\n'.format(index)\n",
    "    buffer+='{}\\n'.format(seq.upper())"
   ]
  },
  {
   "cell_type": "code",
   "execution_count": null,
   "id": "4ebeec16",
   "metadata": {},
   "outputs": [],
   "source": [
    "def cleavage_find(product_moverz,candidate_moverz,moverz_threshold=0.02):\n",
    "    return np.array([0 if low_bound==high_bound else 1 for low_bound, high_bound in zip(product_moverz.searchsorted(candidate_moverz-moverz_threshold),product_moverz.searchsorted(candidate_moverz+moverz_threshold))])"
   ]
  },
  {
   "cell_type": "code",
   "execution_count": null,
   "id": "c83d5d1f",
   "metadata": {},
   "outputs": [],
   "source": [
    "a=[]\n",
    "b=[]\n",
    "miss_cleavage_num = []\n",
    "with open('/data/z37mao/genova_new/{}.mgfs'.format(experiment_name),'rb') as f:\n",
    "    for i, (seq, charge, pointer, data_len, pep, xcorr) in psm_head[['Annotated Sequence','Charge','MGFS_Datablock_Pointer','MGFS_Datablock_Length','Percolator PEP','XCorr']].iterrows():\n",
    "        f.seek(pointer)\n",
    "        seq = seq.replace('L','I')\n",
    "        product_moverz = pickle.loads(f.read(data_len))['product_ions_moverz']\n",
    "        seq_composition = Residual_seq.seqs2composition_list(seq)\n",
    "        seqaamass = np.array([aa_composition.mass for aa_composition in seq_composition])\n",
    "        a_ion = Ion.sequencemz2ion(seqaamass[:-1].cumsum(),'1a')\n",
    "        b_ion = Ion.sequencemz2ion(seqaamass[:-1].cumsum(),'1b')\n",
    "        y_ion = np.flip(Ion.sequencemz2ion(np.flip(seqaamass)[:-1].cumsum(),'1y'))\n",
    "        y2_ion = np.flip(Ion.sequencemz2ion(np.flip(seqaamass)[:-1].cumsum(),'2y'))\n",
    "        a_ion = a_ion[a_ion<250]\n",
    "        y2_ion = y2_ion[y2_ion>400]\n",
    "        seq_len = len(seq)\n",
    "        #if seq_len>32: continue\n",
    "        a_cleavage = np.pad(cleavage_find(product_moverz,a_ion),[0,seq_len-a_ion.size-1])\n",
    "        b_cleavage = cleavage_find(product_moverz,b_ion)\n",
    "        y_cleavage = cleavage_find(product_moverz,y_ion)\n",
    "        if charge>2:\n",
    "            y2_cleavage = np.pad(cleavage_find(product_moverz,y2_ion),[seq_len-y2_ion.size-1,0])\n",
    "            cleavage_result = (a_cleavage+b_cleavage+y_cleavage+y2_cleavage)>0\n",
    "        else:\n",
    "            cleavage_result = (a_cleavage+b_cleavage+y_cleavage)>0\n",
    "        noncleavate=np.argwhere(cleavage_result).reshape(-1)[1:]-np.argwhere(cleavage_result).reshape(-1)[:-1]\n",
    "        a.append(len(seq))\n",
    "        b.append(np.max(noncleavate))\n",
    "        miss_cleavage_num.append(np.max(noncleavate)-1)\n",
    "        #b.append((noncleavate>2).sum()/noncleavate.size)\n",
    "        #break\n",
    "        #miss_cleavage_num += list(np.argwhere(cleavage_result).reshape(-1)[1:]-np.argwhere(cleavage_result).reshape(-1)[:-1])\n",
    "#miss_cleavage_num = np.array(miss_cleavage_num)-1·"
   ]
  },
  {
   "cell_type": "code",
   "execution_count": 3,
   "id": "0e64970b",
   "metadata": {},
   "outputs": [],
   "source": [
    "psm_head = []\n",
    "for psm_file_name in glob('/data/z37mao/genova_new/*_PSMs.csv'):\n",
    "    #if psm_file_name.split('/')[-1][:-9]=='Plasma' or psm_file_name.split('/')[-1][:-9]=='PXD008844':\n",
    "    #    continue\n",
    "    psm_head_temp = pd.read_csv(psm_file_name)\n",
    "    psm_head_temp['File ID'] = psm_file_name.split('/')[-1][:-9]+':'+psm_head_temp['File ID']\n",
    "    psm_head.append(psm_head_temp)\n",
    "psm_head = pd.concat(psm_head)\n",
    "#psm_head = psm_head[np.logical_and(psm_head['Percolator PEP']<0.05,psm_head['XCorr']>1)]\n",
    "#psm_head = psm_head[psm_head['Annotated Sequence'].str.len()<=32]\n",
    "#candidate_index = psm_head['File ID']"
   ]
  },
  {
   "cell_type": "code",
   "execution_count": 8,
   "id": "09bf8c75",
   "metadata": {},
   "outputs": [],
   "source": [
    "psm_head = psm_head.drop_duplicates('File ID')"
   ]
  },
  {
   "cell_type": "code",
   "execution_count": 16,
   "id": "f57aba53",
   "metadata": {},
   "outputs": [],
   "source": [
    "psm_index = []\n",
    "for psm_file_name in glob('/home/z37mao/temp/*csv'):\n",
    "    psm_head_temp = pd.read_csv(psm_file_name)\n",
    "    #psm_head_temp['File ID'] = psm_file_name.split('/')[-1][:-9]+':'+psm_head_temp['File ID']\n",
    "    psm_index.append(psm_head_temp)\n",
    "psm_index = pd.concat(psm_index)\n",
    "psm_index[['Experiment Name','Raw File ID','Spectrum ID']] = psm_index['Spec Index'].str.split(':',expand=True)\n",
    "psm_index = psm_index.drop_duplicates('Spec Index')\n",
    "psm_index = psm_index.set_index('Spec Index')"
   ]
  },
  {
   "cell_type": "code",
   "execution_count": 17,
   "id": "a0e07ec7",
   "metadata": {},
   "outputs": [
    {
     "data": {
      "text/html": [
       "<div>\n",
       "<style scoped>\n",
       "    .dataframe tbody tr th:only-of-type {\n",
       "        vertical-align: middle;\n",
       "    }\n",
       "\n",
       "    .dataframe tbody tr th {\n",
       "        vertical-align: top;\n",
       "    }\n",
       "\n",
       "    .dataframe thead th {\n",
       "        text-align: right;\n",
       "    }\n",
       "</style>\n",
       "<table border=\"1\" class=\"dataframe\">\n",
       "  <thead>\n",
       "    <tr style=\"text-align: right;\">\n",
       "      <th></th>\n",
       "      <th>Node Number</th>\n",
       "      <th>Relation Num</th>\n",
       "      <th>Edge Num</th>\n",
       "      <th>MSGP File Name</th>\n",
       "      <th>MSGP Datablock Pointer</th>\n",
       "      <th>MSGP Datablock Length</th>\n",
       "      <th>Experiment Name</th>\n",
       "      <th>Raw File ID</th>\n",
       "      <th>Spectrum ID</th>\n",
       "    </tr>\n",
       "    <tr>\n",
       "      <th>Spec Index</th>\n",
       "      <th></th>\n",
       "      <th></th>\n",
       "      <th></th>\n",
       "      <th></th>\n",
       "      <th></th>\n",
       "      <th></th>\n",
       "      <th></th>\n",
       "      <th></th>\n",
       "      <th></th>\n",
       "    </tr>\n",
       "  </thead>\n",
       "  <tbody>\n",
       "    <tr>\n",
       "      <th>Cerebellum:F13.23:13749</th>\n",
       "      <td>111</td>\n",
       "      <td>16785</td>\n",
       "      <td>80167</td>\n",
       "      <td>15_0.msgp</td>\n",
       "      <td>0</td>\n",
       "      <td>410663</td>\n",
       "      <td>Cerebellum</td>\n",
       "      <td>F13.23</td>\n",
       "      <td>13749</td>\n",
       "    </tr>\n",
       "    <tr>\n",
       "      <th>Cerebellum:F13.2:32021</th>\n",
       "      <td>176</td>\n",
       "      <td>65745</td>\n",
       "      <td>197302</td>\n",
       "      <td>15_0.msgp</td>\n",
       "      <td>410663</td>\n",
       "      <td>1071094</td>\n",
       "      <td>Cerebellum</td>\n",
       "      <td>F13.2</td>\n",
       "      <td>32021</td>\n",
       "    </tr>\n",
       "    <tr>\n",
       "      <th>Cerebellum:F13.16:14029</th>\n",
       "      <td>77</td>\n",
       "      <td>8005</td>\n",
       "      <td>33280</td>\n",
       "      <td>15_0.msgp</td>\n",
       "      <td>1481757</td>\n",
       "      <td>169110</td>\n",
       "      <td>Cerebellum</td>\n",
       "      <td>F13.16</td>\n",
       "      <td>14029</td>\n",
       "    </tr>\n",
       "    <tr>\n",
       "      <th>Cerebellum:F8.7:18799</th>\n",
       "      <td>74</td>\n",
       "      <td>8292</td>\n",
       "      <td>33361</td>\n",
       "      <td>15_0.msgp</td>\n",
       "      <td>1650867</td>\n",
       "      <td>175219</td>\n",
       "      <td>Cerebellum</td>\n",
       "      <td>F8.7</td>\n",
       "      <td>18799</td>\n",
       "    </tr>\n",
       "    <tr>\n",
       "      <th>Cerebellum:F8.3:46428</th>\n",
       "      <td>108</td>\n",
       "      <td>21796</td>\n",
       "      <td>109977</td>\n",
       "      <td>15_0.msgp</td>\n",
       "      <td>1826086</td>\n",
       "      <td>536535</td>\n",
       "      <td>Cerebellum</td>\n",
       "      <td>F8.3</td>\n",
       "      <td>46428</td>\n",
       "    </tr>\n",
       "    <tr>\n",
       "      <th>...</th>\n",
       "      <td>...</td>\n",
       "      <td>...</td>\n",
       "      <td>...</td>\n",
       "      <td>...</td>\n",
       "      <td>...</td>\n",
       "      <td>...</td>\n",
       "      <td>...</td>\n",
       "      <td>...</td>\n",
       "      <td>...</td>\n",
       "    </tr>\n",
       "    <tr>\n",
       "      <th>Cerebellum:F8.7:76408</th>\n",
       "      <td>245</td>\n",
       "      <td>209437</td>\n",
       "      <td>473066</td>\n",
       "      <td>20_13.msgp</td>\n",
       "      <td>2637910283</td>\n",
       "      <td>2565042</td>\n",
       "      <td>Cerebellum</td>\n",
       "      <td>F8.7</td>\n",
       "      <td>76408</td>\n",
       "    </tr>\n",
       "    <tr>\n",
       "      <th>Cerebellum:F8.9:5930</th>\n",
       "      <td>46</td>\n",
       "      <td>3379</td>\n",
       "      <td>14026</td>\n",
       "      <td>20_13.msgp</td>\n",
       "      <td>2640475325</td>\n",
       "      <td>69617</td>\n",
       "      <td>Cerebellum</td>\n",
       "      <td>F8.9</td>\n",
       "      <td>5930</td>\n",
       "    </tr>\n",
       "    <tr>\n",
       "      <th>Cerebellum:F13.14:57107</th>\n",
       "      <td>203</td>\n",
       "      <td>91982</td>\n",
       "      <td>263072</td>\n",
       "      <td>20_13.msgp</td>\n",
       "      <td>2640544942</td>\n",
       "      <td>1387970</td>\n",
       "      <td>Cerebellum</td>\n",
       "      <td>F13.14</td>\n",
       "      <td>57107</td>\n",
       "    </tr>\n",
       "    <tr>\n",
       "      <th>Cerebellum:F7.15:56129</th>\n",
       "      <td>268</td>\n",
       "      <td>151037</td>\n",
       "      <td>558422</td>\n",
       "      <td>20_13.msgp</td>\n",
       "      <td>2641932912</td>\n",
       "      <td>2883858</td>\n",
       "      <td>Cerebellum</td>\n",
       "      <td>F7.15</td>\n",
       "      <td>56129</td>\n",
       "    </tr>\n",
       "    <tr>\n",
       "      <th>Cerebellum:F8.21:18424</th>\n",
       "      <td>79</td>\n",
       "      <td>8320</td>\n",
       "      <td>29165</td>\n",
       "      <td>20_13.msgp</td>\n",
       "      <td>2644816770</td>\n",
       "      <td>160501</td>\n",
       "      <td>Cerebellum</td>\n",
       "      <td>F8.21</td>\n",
       "      <td>18424</td>\n",
       "    </tr>\n",
       "  </tbody>\n",
       "</table>\n",
       "<p>1659763 rows × 9 columns</p>\n",
       "</div>"
      ],
      "text/plain": [
       "                         Node Number  Relation Num  Edge Num MSGP File Name  \\\n",
       "Spec Index                                                                    \n",
       "Cerebellum:F13.23:13749          111         16785     80167      15_0.msgp   \n",
       "Cerebellum:F13.2:32021           176         65745    197302      15_0.msgp   \n",
       "Cerebellum:F13.16:14029           77          8005     33280      15_0.msgp   \n",
       "Cerebellum:F8.7:18799             74          8292     33361      15_0.msgp   \n",
       "Cerebellum:F8.3:46428            108         21796    109977      15_0.msgp   \n",
       "...                              ...           ...       ...            ...   \n",
       "Cerebellum:F8.7:76408            245        209437    473066     20_13.msgp   \n",
       "Cerebellum:F8.9:5930              46          3379     14026     20_13.msgp   \n",
       "Cerebellum:F13.14:57107          203         91982    263072     20_13.msgp   \n",
       "Cerebellum:F7.15:56129           268        151037    558422     20_13.msgp   \n",
       "Cerebellum:F8.21:18424            79          8320     29165     20_13.msgp   \n",
       "\n",
       "                         MSGP Datablock Pointer  MSGP Datablock Length  \\\n",
       "Spec Index                                                               \n",
       "Cerebellum:F13.23:13749                       0                 410663   \n",
       "Cerebellum:F13.2:32021                   410663                1071094   \n",
       "Cerebellum:F13.16:14029                 1481757                 169110   \n",
       "Cerebellum:F8.7:18799                   1650867                 175219   \n",
       "Cerebellum:F8.3:46428                   1826086                 536535   \n",
       "...                                         ...                    ...   \n",
       "Cerebellum:F8.7:76408                2637910283                2565042   \n",
       "Cerebellum:F8.9:5930                 2640475325                  69617   \n",
       "Cerebellum:F13.14:57107              2640544942                1387970   \n",
       "Cerebellum:F7.15:56129               2641932912                2883858   \n",
       "Cerebellum:F8.21:18424               2644816770                 160501   \n",
       "\n",
       "                        Experiment Name Raw File ID Spectrum ID  \n",
       "Spec Index                                                       \n",
       "Cerebellum:F13.23:13749      Cerebellum      F13.23       13749  \n",
       "Cerebellum:F13.2:32021       Cerebellum       F13.2       32021  \n",
       "Cerebellum:F13.16:14029      Cerebellum      F13.16       14029  \n",
       "Cerebellum:F8.7:18799        Cerebellum        F8.7       18799  \n",
       "Cerebellum:F8.3:46428        Cerebellum        F8.3       46428  \n",
       "...                                 ...         ...         ...  \n",
       "Cerebellum:F8.7:76408        Cerebellum        F8.7       76408  \n",
       "Cerebellum:F8.9:5930         Cerebellum        F8.9        5930  \n",
       "Cerebellum:F13.14:57107      Cerebellum      F13.14       57107  \n",
       "Cerebellum:F7.15:56129       Cerebellum       F7.15       56129  \n",
       "Cerebellum:F8.21:18424       Cerebellum       F8.21       18424  \n",
       "\n",
       "[1659763 rows x 9 columns]"
      ]
     },
     "execution_count": 17,
     "metadata": {},
     "output_type": "execute_result"
    }
   ],
   "source": [
    "psm_index"
   ]
  },
  {
   "cell_type": "code",
   "execution_count": 20,
   "id": "731a8b8e",
   "metadata": {},
   "outputs": [],
   "source": [
    "psm_head = psm_head.set_index('File ID')"
   ]
  },
  {
   "cell_type": "code",
   "execution_count": 23,
   "id": "53d5a659",
   "metadata": {},
   "outputs": [],
   "source": [
    "psm_index = pd.concat([psm_head,psm_index],axis=1,join='inner')"
   ]
  },
  {
   "cell_type": "code",
   "execution_count": 24,
   "id": "31cb5e29",
   "metadata": {},
   "outputs": [],
   "source": [
    "psm_index.to_csv('/home/z37mao/genova_filted_dataset_index.csv',index_label='Index')"
   ]
  },
  {
   "cell_type": "code",
   "execution_count": 32,
   "id": "9849a1e7",
   "metadata": {},
   "outputs": [
    {
     "data": {
      "text/plain": [
       "False"
      ]
     },
     "execution_count": 32,
     "metadata": {},
     "output_type": "execute_result"
    }
   ],
   "source": [
    "np.any(psm_index['XCorr']==1)"
   ]
  },
  {
   "cell_type": "code",
   "execution_count": 33,
   "id": "ece7144b",
   "metadata": {},
   "outputs": [
    {
     "data": {
      "text/plain": [
       "False"
      ]
     },
     "execution_count": 33,
     "metadata": {},
     "output_type": "execute_result"
    }
   ],
   "source": [
    "np.any(psm_index['Percolator PEP']==0.05)"
   ]
  },
  {
   "cell_type": "code",
   "execution_count": 37,
   "id": "9056e376",
   "metadata": {},
   "outputs": [
    {
     "data": {
      "text/plain": [
       "False"
      ]
     },
     "execution_count": 37,
     "metadata": {},
     "output_type": "execute_result"
    }
   ],
   "source": [
    "np.any(psm_index['Node Number']>=5e5)"
   ]
  },
  {
   "cell_type": "code",
   "execution_count": null,
   "id": "b589de30",
   "metadata": {},
   "outputs": [],
   "source": []
  }
 ],
 "metadata": {
  "kernelspec": {
   "display_name": "genova_torch",
   "language": "python",
   "name": "genova_torch"
  },
  "language_info": {
   "codemirror_mode": {
    "name": "ipython",
    "version": 3
   },
   "file_extension": ".py",
   "mimetype": "text/x-python",
   "name": "python",
   "nbconvert_exporter": "python",
   "pygments_lexer": "ipython3",
   "version": "3.9.7"
  }
 },
 "nbformat": 4,
 "nbformat_minor": 5
}
