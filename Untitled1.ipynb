{
 "cells": [
  {
   "cell_type": "code",
   "execution_count": 1,
   "id": "1d55aa7e",
   "metadata": {},
   "outputs": [],
   "source": [
    "import genova\n",
    "import numpy as np\n",
    "import pandas as pd\n",
    "from omegaconf import OmegaConf\n",
    "from genova.utils.BasicClass import Residual_seq"
   ]
  },
  {
   "cell_type": "code",
   "execution_count": 2,
   "id": "8ff5bc04",
   "metadata": {},
   "outputs": [],
   "source": [
    "spec_header = pd.read_csv('/home/z37mao/genova_dataset_index.csv',low_memory=False,index_col='Spec Index')\n",
    "spec_header = spec_header[spec_header['MSGP File Name']=='1_3.msgp']"
   ]
  },
  {
   "cell_type": "code",
   "execution_count": 3,
   "id": "8d35b53d",
   "metadata": {},
   "outputs": [],
   "source": [
    "cfg = OmegaConf.load('configs/genova_dda_light.yaml')"
   ]
  },
  {
   "cell_type": "code",
   "execution_count": 60,
   "id": "cdda5a63",
   "metadata": {},
   "outputs": [],
   "source": [
    "import os\n",
    "import gzip\n",
    "import torch\n",
    "import pickle\n",
    "from torch.utils.data import Dataset\n",
    "\n",
    "class GenovaDataset(Dataset):\n",
    "    def __init__(self, cfg, *, spec_header, dataset_dir_path, aa_datablock_dict = None):\n",
    "        super().__init__()\n",
    "        self.cfg = cfg\n",
    "        self.spec_header = spec_header\n",
    "        self.dataset_dir_path = dataset_dir_path\n",
    "        if cfg.task == 'sequence_generation' or cfg.task == 'optimum_path_sequence': \n",
    "            assert aa_datablock_dict\n",
    "            self.aa_datablock_dict = aa_datablock_dict\n",
    "\n",
    "    def __getitem__(self, idx):\n",
    "        if torch.is_tensor(idx): idx = idx.tolist()\n",
    "        spec_head = dict(self.spec_header.loc[idx])\n",
    "        with open(os.path.join(self.dataset_dir_path, spec_head['MSGP File Name']), 'rb') as f:\n",
    "            f.seek(spec_head['MSGP Datablock Pointer'])\n",
    "            spec = pickle.loads(gzip.decompress(f.read(spec_head['MSGP Datablock Length'])))\n",
    "\n",
    "        spec['node_input']['charge'] = spec_head['Charge']\n",
    "        graph_label = spec.pop('graph_label').T\n",
    "        graph_label = graph_label[graph_label.any(-1)]\n",
    "        node_mass = spec.pop('node_mass')\n",
    "        seq = spec_head['Annotated Sequence']\n",
    "        if self.cfg.task == 'node_classification':\n",
    "            spec['graph_label'] = torch.any(graph_label, 0).long()\n",
    "            return spec\n",
    "        \n",
    "        elif self.cfg.task == 'optimum_path_sequence':\n",
    "            raise NotImplementedError\n",
    "            \n",
    "        elif self.cfg.task == 'sequence_generation':\n",
    "            target = {}\n",
    "            seq_blocks = self.seq2seqblock(seq, graph_label)\n",
    "            target['tgt'] = seq_blocks\n",
    "            target['trans_mask'] = self.trans_mask_sequence_generation(seq_blocks, node_mass)\n",
    "            return spec, target\n",
    "        \n",
    "        elif self.cfg.task == 'optimum_path':\n",
    "            trans_mask = torch.Tensor(self.trans_mask_optimum_path(graph_label))\n",
    "            graph_probability = torch.Tensor(self.graph_probability_gen(graph_label))\n",
    "            tgt = {}\n",
    "            tgt['tgt'] = graph_probability[:-1]\n",
    "            tgt['trans_mask'] = trans_mask\n",
    "            return spec, tgt, graph_probability[1:]\n",
    "            \n",
    "    def graph_probability_gen(self, graph_label):\n",
    "        graph_probability = graph_label/graph_label.sum(-1).unsqueeze(1)\n",
    "        return graph_probability\n",
    "    \n",
    "    def trans_mask_sequence_generation(self,seq_blocks,node_mass):\n",
    "        seq_mass = np.array([Residual_seq(seq_block.replace('L','I')).mass for seq_block in seq_blocks]).cumsum()\n",
    "        trans_mask = torch.zeros((seq_mass.size,node_mass.size))\n",
    "        trans_mask[0,0] = -float('inf')\n",
    "        for i, board in enumerate(node_mass.searchsorted(seq_mass+0.02,side='right')[:-1],start=1):\n",
    "            trans_mask[i,:board] = -float('inf')\n",
    "        return trans_mask\n",
    "    \n",
    "    def trans_mask_optimum_path(self,graph_label):\n",
    "        graph_label = graph_label[1:-1]\n",
    "        trans_mask = torch.zeros((graph_label.shape[0]+1,graph_label.shape[1]))\n",
    "        trans_mask[0,0] = -float('inf')\n",
    "        for i, node_pos in enumerate(graph_label,start=1):\n",
    "            trans_mask[i,:torch.where(node_pos)[0].max().item()] = -float('inf')\n",
    "        return trans_mask\n",
    "    \n",
    "    def seq2seqblock(self, seq, graph_label):\n",
    "        seq_block = []\n",
    "        for i, combine_flag in enumerate(~graph_label.any(-1)[1:]):\n",
    "            if combine_flag:\n",
    "                if 'combine_start_index' not in locals():\n",
    "                    combine_start_index = i\n",
    "            else:\n",
    "                try:\n",
    "                    if i+1-combine_start_index>6: seq_block.append('X')\n",
    "                    else:\n",
    "                        seq_block.append(seq[combine_start_index:i+1])\n",
    "                        del(combine_start_index)\n",
    "                except:\n",
    "                    seq_block.append(seq[i])\n",
    "        return seq_block\n",
    "    \n",
    "    def __len__(self):\n",
    "        return len(self.spec_header)"
   ]
  },
  {
   "cell_type": "code",
   "execution_count": 193,
   "id": "c8da81d8",
   "metadata": {},
   "outputs": [],
   "source": [
    "class GenovaCollator(object):\n",
    "    def __init__(self, cfg):\n",
    "        self.cfg = cfg\n",
    "\n",
    "    def __call__(self, batch):\n",
    "        if self.cfg.task == 'optimum_path':\n",
    "            spec = [record[0] for record in batch]\n",
    "            tgt = [record[1] for record in batch]\n",
    "            label = [record[2] for record in batch]\n",
    "            encoder_input = self.encoder_collate(spec)\n",
    "            decoder_input, graph_probability = self.decoder_collate(tgt)\n",
    "            label, label_mask = self.label_collate(label)\n",
    "            return encoder_input, decoder_input, graph_probability, label, label_mask\n",
    "        \n",
    "        elif self.cfg.task == 'sequence_generation':\n",
    "            raise NotImplementedError\n",
    "        \n",
    "        elif self.cfg.task == 'node_classification':\n",
    "            raise NotImplementedError\n",
    "    \n",
    "    def decoder_collate(self, decoder_input):\n",
    "        if self.cfg.task == 'optimum_path':\n",
    "            tgts_list = [record['tgt'] for record in decoder_input]\n",
    "            trans_mask_list = [record['trans_mask'] for record in decoder_input]\n",
    "            shape_list = np.array([tgt.shape for tgt in tgts_list])\n",
    "            seqdblock_max = shape_list[:,0].max()\n",
    "            node_max = shape_list[:,1].max()\n",
    "            \n",
    "            graph_probability = []\n",
    "            trans_mask = []\n",
    "            for i in range(len(tgts_list)):\n",
    "                graph_probability.append(pad(tgts_list[i],[0,node_max-shape_list[i,1],\n",
    "                                                           0,seqdblock_max-shape_list[i,0]]))\n",
    "                trans_mask_temp = pad(trans_mask_list[i],[0,node_max-shape_list[i,1]],\n",
    "                                      value=-float('inf'))\n",
    "                trans_mask.append(pad(trans_mask_temp,[0,0,0,seqdblock_max-shape_list[i,0]]))\n",
    "            graph_probability = torch.stack(graph_probability)\n",
    "            decoder_input = {'trans_mask': torch.stack(trans_mask).unsqueeze(-1), \n",
    "                             'self_mask': (-float('inf')*torch.ones(seqdblock_max,seqdblock_max)) \\\n",
    "                             .triu(diagonal=1).unsqueeze(-1)}\n",
    "            return decoder_input, graph_probability\n",
    "            \n",
    "    def label_collate(self, labels):\n",
    "        if self.cfg.task == 'optimum_path':\n",
    "            shape_list = np.array([label.shape for label in labels])\n",
    "            seqdblock_max = shape_list[:,0].max()\n",
    "            node_max = shape_list[:,1].max()\n",
    "            result = []\n",
    "            result_pading_mask = torch.ones(len(labels),seqdblock_max,dtype=bool)\n",
    "            for i, label in enumerate(labels):\n",
    "                result_pading_mask[i, label.shape[0]:] = 0\n",
    "                label = pad(label,[0,node_max-label.shape[1],0,seqdblock_max-label.shape[0]])\n",
    "                result.append(label)\n",
    "            return torch.stack(result), result_pading_mask\n",
    "    \n",
    "    def encoder_collate(self, spec):\n",
    "        node_inputs = [record['node_input'] for record in spec]\n",
    "        path_inputs = [record['rel_input'] for record in spec]\n",
    "        edge_inputs = [record['edge_input'] for record in spec]\n",
    "        \n",
    "        node_shape = np.array([node_input['node_sourceion'].shape for node_input in node_inputs]).T\n",
    "        max_node = node_shape[0].max()\n",
    "        max_subgraph_node = node_shape[1].max()\n",
    "        \n",
    "        node_input = self.node_collate(node_inputs, max_node, max_subgraph_node)\n",
    "        path_input = self.path_collate(path_inputs, max_node, node_shape)\n",
    "        edge_input = self.edge_collate(edge_inputs, max_node)\n",
    "        rel_mask = self.rel_collate(node_shape, max_node)\n",
    "        encoder_input = {'node_input':node_input,'path_input':path_input,\n",
    "                         'edge_input':edge_input,'rel_mask':rel_mask}\n",
    "        return encoder_input\n",
    "\n",
    "    def node_collate(self, node_inputs, max_node, max_subgraph_node):\n",
    "        node_feat = []\n",
    "        node_sourceion = []\n",
    "        charge = torch.IntTensor([node_input['charge'] for node_input in node_inputs])\n",
    "        for node_input in node_inputs:\n",
    "            node_num, node_subgraph_node = node_input['node_sourceion'].shape\n",
    "            node_feat.append(pad(node_input['node_feat'], \n",
    "                                 [0, 0, 0, max_subgraph_node - node_subgraph_node, 0, max_node - node_num]))\n",
    "            node_sourceion.append(pad(node_input['node_sourceion'], \n",
    "                                      [0, max_subgraph_node - node_subgraph_node, 0, max_node - node_num]))\n",
    "        return {'node_feat':torch.stack(node_feat),'node_sourceion':torch.stack(node_sourceion),'charge':charge}\n",
    "    \n",
    "    def path_collate(self, path_inputs, max_node, node_shape):\n",
    "        rel_type = torch.concat([path_input['rel_type'] for path_input in path_inputs]).squeeze(-1)\n",
    "        rel_error = torch.concat([path_input['rel_error'] for path_input in path_inputs])\n",
    "        rel_coor = torch.concat([pad(path_input['rel_coor'],[1,0],value=i) for i, path_input in enumerate(path_inputs)]).T\n",
    "        rel_coor_cated = torch.stack([rel_coor[0]*max_node**2+rel_coor[1]*max_node+rel_coor[2],\n",
    "                                      rel_coor[-2]*self.cfg.preprocessing.edge_type_num+rel_coor[-1]])\n",
    "        \n",
    "        rel_pos = torch.concat([path_input['rel_coor'][:,-2] for path_input in path_inputs])\n",
    "        dist = torch.stack([pad(path_input['dist'],[0,max_node-node_shape[0,i],0,max_node-node_shape[0,i]]) for i, path_input in enumerate(path_inputs)])\n",
    "        \n",
    "        return {'rel_type':rel_type,'rel_error':rel_error,\n",
    "                'rel_pos':rel_pos,'dist':dist,\n",
    "                'rel_coor_cated':rel_coor_cated,\n",
    "                'max_node': max_node, 'batch_num': len(path_inputs)}\n",
    "        \n",
    "        \n",
    "    def edge_collate(self, edge_inputs, max_node):\n",
    "        rel_type = torch.concat([edge_input['edge_type'] for edge_input in edge_inputs]).squeeze(-1)\n",
    "        rel_error = torch.concat([edge_input['edge_error'] for edge_input in edge_inputs])\n",
    "        rel_coor = torch.concat([pad(edge_input['edge_coor'],[1,0],value=i) for i, edge_input in enumerate(edge_inputs)]).T\n",
    "        rel_coor_cated = torch.stack([rel_coor[0]*max_node**2+rel_coor[1]*max_node+rel_coor[2],\n",
    "                                      rel_coor[-1]])\n",
    "        \n",
    "        return {'rel_type':rel_type,'rel_error':rel_error,\n",
    "                'rel_coor_cated':rel_coor_cated, \n",
    "                'max_node': max_node, 'batch_num': len(edge_inputs)}\n",
    "        \n",
    "    def rel_collate(self, node_shape, max_node):\n",
    "        rel_masks = []\n",
    "        for i in node_shape[0]:\n",
    "            rel_mask = -np.inf * torch.ones(max_node,max_node,1)\n",
    "            rel_mask[:,:i] = 0\n",
    "            rel_masks.append(rel_mask)\n",
    "        rel_masks = torch.stack(rel_masks)\n",
    "        return rel_masks\n",
    "    \n",
    "    def nodelabel_collate(self, node_labels_temp, max_node):\n",
    "        node_mask = torch.ones(len(node_labels_temp),max_node).bool()\n",
    "        node_labels = []\n",
    "        for i, node_label in enumerate(node_labels_temp):\n",
    "            node_mask[i, node_label.shape[0]:] = 0\n",
    "            node_labels.append(pad(node_label,[0,max_node-node_label.shape[0]]))\n",
    "        node_labels = torch.stack(node_labels)\n",
    "        return node_labels, node_mask"
   ]
  },
  {
   "cell_type": "code",
   "execution_count": 194,
   "id": "9346c06a",
   "metadata": {},
   "outputs": [],
   "source": [
    "ds = GenovaDataset(cfg,spec_header=spec_header,dataset_dir_path='/home/z37mao/')\n",
    "collator = GenovaCollator(cfg)"
   ]
  },
  {
   "cell_type": "code",
   "execution_count": 196,
   "id": "94abdfae",
   "metadata": {},
   "outputs": [],
   "source": [
    "result = collator(batch)"
   ]
  },
  {
   "cell_type": "code",
   "execution_count": 200,
   "id": "517429dc",
   "metadata": {},
   "outputs": [
    {
     "data": {
      "text/plain": [
       "torch.Size([5, 8, 184])"
      ]
     },
     "execution_count": 200,
     "metadata": {},
     "output_type": "execute_result"
    }
   ],
   "source": [
    "result[2].shape"
   ]
  },
  {
   "cell_type": "code",
   "execution_count": 195,
   "id": "1e33c347",
   "metadata": {},
   "outputs": [],
   "source": [
    "batch = [ds[index] for index in spec_header.index[0:5]]"
   ]
  },
  {
   "cell_type": "code",
   "execution_count": 116,
   "id": "aaaf156d",
   "metadata": {},
   "outputs": [],
   "source": [
    "decoder_input = [record[1] for record in batch]\n",
    "labels = [record[2] for record in batch]"
   ]
  },
  {
   "cell_type": "code",
   "execution_count": 79,
   "id": "89a8f833",
   "metadata": {},
   "outputs": [],
   "source": [
    "shape_list = np.array([label.shape for label in labels])"
   ]
  },
  {
   "cell_type": "code",
   "execution_count": 86,
   "id": "4b4b0d8c",
   "metadata": {},
   "outputs": [],
   "source": [
    "from torch.nn.functional import pad"
   ]
  },
  {
   "cell_type": "code",
   "execution_count": 93,
   "id": "a6938c2e",
   "metadata": {},
   "outputs": [
    {
     "data": {
      "text/plain": [
       "torch.Size([8, 184])"
      ]
     },
     "execution_count": 93,
     "metadata": {},
     "output_type": "execute_result"
    }
   ],
   "source": [
    "pad(label,[0,node_max-label.shape[1],0,seqdblock_max-label.shape[0]])"
   ]
  },
  {
   "cell_type": "code",
   "execution_count": 91,
   "id": "505d8775",
   "metadata": {},
   "outputs": [
    {
     "data": {
      "text/plain": [
       "149"
      ]
     },
     "execution_count": 91,
     "metadata": {},
     "output_type": "execute_result"
    }
   ],
   "source": [
    "node_max-label.shape[1]"
   ]
  },
  {
   "cell_type": "code",
   "execution_count": 88,
   "id": "392454b5",
   "metadata": {},
   "outputs": [],
   "source": [
    "seqdblock_max = shape_list[:,0].max()\n",
    "node_max = shape_list[:,1].max()"
   ]
  },
  {
   "cell_type": "code",
   "execution_count": 94,
   "id": "c36a90df",
   "metadata": {},
   "outputs": [],
   "source": [
    "result = []\n",
    "for label in labels:\n",
    "    label = pad(label,[0,node_max-label.shape[1],0,seqdblock_max-label.shape[0]])\n",
    "    result.append(label)"
   ]
  },
  {
   "cell_type": "code",
   "execution_count": 97,
   "id": "33e14b86",
   "metadata": {},
   "outputs": [
    {
     "data": {
      "text/plain": [
       "torch.Size([5, 8, 184])"
      ]
     },
     "execution_count": 97,
     "metadata": {},
     "output_type": "execute_result"
    }
   ],
   "source": [
    "torch.stack(result).shape"
   ]
  },
  {
   "cell_type": "code",
   "execution_count": 69,
   "id": "61cb34ff",
   "metadata": {},
   "outputs": [
    {
     "data": {
      "text/plain": [
       "torch.Size([6, 94])"
      ]
     },
     "execution_count": 69,
     "metadata": {},
     "output_type": "execute_result"
    }
   ],
   "source": [
    "for i in tgt[1]['tgt'].shape"
   ]
  },
  {
   "cell_type": "code",
   "execution_count": 70,
   "id": "04d8bc18",
   "metadata": {},
   "outputs": [
    {
     "data": {
      "text/plain": [
       "torch.Size([8, 184])"
      ]
     },
     "execution_count": 70,
     "metadata": {},
     "output_type": "execute_result"
    }
   ],
   "source": [
    "tgt[0]['tgt'].shape"
   ]
  },
  {
   "cell_type": "code",
   "execution_count": 41,
   "id": "5154ab8b",
   "metadata": {},
   "outputs": [],
   "source": [
    "spec, tgt, graph_probability = ds['Cerebellum:F12.2:11100']"
   ]
  },
  {
   "cell_type": "code",
   "execution_count": null,
   "id": "b240c1b3",
   "metadata": {},
   "outputs": [],
   "source": []
  },
  {
   "cell_type": "code",
   "execution_count": null,
   "id": "64bf6c47",
   "metadata": {},
   "outputs": [],
   "source": [
    "np.where(graph_label)[0][1:]-np.where(graph_label)[0][:-1]"
   ]
  },
  {
   "cell_type": "code",
   "execution_count": null,
   "id": "d787c41e",
   "metadata": {},
   "outputs": [],
   "source": [
    "np.where(graph_label)[0][1:]-np.where(graph_label)[0][:-1]"
   ]
  },
  {
   "cell_type": "code",
   "execution_count": null,
   "id": "7b23070f",
   "metadata": {},
   "outputs": [],
   "source": [
    "a=np.where(~graph_label)[0]\n",
    "for i, flag in enumerate(np.where(~graph_label)[0]):\n",
    "    if flag:\n",
    "        min_index = i\n",
    "    \n",
    "    "
   ]
  },
  {
   "cell_type": "code",
   "execution_count": null,
   "id": "92a5381d",
   "metadata": {},
   "outputs": [],
   "source": [
    "spec"
   ]
  },
  {
   "cell_type": "code",
   "execution_count": null,
   "id": "d88f0449",
   "metadata": {},
   "outputs": [],
   "source": [
    "seq_blocks = target['tgt']\n",
    "seq_mass = np.array([Residual_seq(seq_block.replace('L','I')).mass for seq_block in seq_blocks]).cumsum()"
   ]
  },
  {
   "cell_type": "code",
   "execution_count": null,
   "id": "d2b56262",
   "metadata": {},
   "outputs": [],
   "source": [
    "seq_mass"
   ]
  },
  {
   "cell_type": "code",
   "execution_count": null,
   "id": "17d65741",
   "metadata": {},
   "outputs": [],
   "source": [
    "seq"
   ]
  },
  {
   "cell_type": "code",
   "execution_count": null,
   "id": "a7bc08da",
   "metadata": {},
   "outputs": [],
   "source": [
    "np.array([1,1,1,1,1,1,0],dtype=bool)"
   ]
  },
  {
   "cell_type": "code",
   "execution_count": null,
   "id": "d9da52e0",
   "metadata": {},
   "outputs": [],
   "source": [
    "def seq2seqblock(self, ):\n",
    "    seq_block = []\n",
    "    for i, combine_flag in enumerate(~spec['graph_label'].any(0)[1:]):\n",
    "        if combine_flag:\n",
    "            if 'combine_start_index' not in locals():\n",
    "                combine_start_index = i\n",
    "        else:\n",
    "            try:\n",
    "                seq_block.append(seq[combine_start_index:i+1])\n",
    "                del(combine_start_index)\n",
    "            except:\n",
    "                seq_block.append(seq[i])"
   ]
  },
  {
   "cell_type": "code",
   "execution_count": null,
   "id": "13700d65",
   "metadata": {},
   "outputs": [],
   "source": [
    "tgt"
   ]
  },
  {
   "cell_type": "code",
   "execution_count": null,
   "id": "adb83a04",
   "metadata": {},
   "outputs": [],
   "source": [
    "tgt = []\n",
    "for i, combine_flag in enumerate(~spec['graph_label'].any(0)[1:]):\n",
    "    if combine_flag: \n",
    "        try:\n",
    "            combine_start_index\n",
    "        except:\n",
    "            combine_start_index = i\n",
    "    else:\n",
    "        try:\n",
    "            tgt.append(seq[combine_start_index:i+1])\n",
    "            del(combine_start_index)\n",
    "        except:\n",
    "            tgt.append(seq[i])"
   ]
  },
  {
   "cell_type": "code",
   "execution_count": null,
   "id": "8ba1f759",
   "metadata": {},
   "outputs": [],
   "source": [
    "tgt"
   ]
  },
  {
   "cell_type": "code",
   "execution_count": null,
   "id": "502ad5fb",
   "metadata": {},
   "outputs": [],
   "source": [
    "seq[4:8]"
   ]
  },
  {
   "cell_type": "code",
   "execution_count": null,
   "id": "bd8ecc3d",
   "metadata": {},
   "outputs": [],
   "source": [
    "combine_start_index = 1"
   ]
  },
  {
   "cell_type": "code",
   "execution_count": null,
   "id": "fe0adc28",
   "metadata": {},
   "outputs": [],
   "source": [
    "combine_start_index"
   ]
  },
  {
   "cell_type": "code",
   "execution_count": null,
   "id": "6e2a944e",
   "metadata": {},
   "outputs": [],
   "source": [
    "seq['memory_mask']"
   ]
  },
  {
   "cell_type": "code",
   "execution_count": null,
   "id": "07cae90d",
   "metadata": {},
   "outputs": [],
   "source": [
    "graph_label = spec['graph_label'].T\n",
    "graph_propobility = graph_label/torch.where(graph_label.sum(-1)==0,1,graph_label.sum(-1)).unsqueeze(1)\n",
    "graph_propobility = graph_propobility[torch.any(graph_label,-1)]"
   ]
  },
  {
   "cell_type": "code",
   "execution_count": null,
   "id": "b7ad7b36",
   "metadata": {},
   "outputs": [],
   "source": [
    "graph_propobility"
   ]
  },
  {
   "cell_type": "code",
   "execution_count": null,
   "id": "24756970",
   "metadata": {},
   "outputs": [],
   "source": [
    "a={'fsdaf':'afds'}"
   ]
  },
  {
   "cell_type": "code",
   "execution_count": null,
   "id": "a5b0db8a",
   "metadata": {},
   "outputs": [],
   "source": [
    "'fsdaf' in a"
   ]
  },
  {
   "cell_type": "code",
   "execution_count": null,
   "id": "b388d970",
   "metadata": {},
   "outputs": [],
   "source": [
    "seq_mass = genova.utils.BasicClass.Residual_seq(seq[:-1].replace('L','I')).step_mass-0.02\n",
    "memory_mask = np.zeros((seq_mass.size+1,spec['node_mass'].size))\n",
    "for i, board in enumerate(spec['node_mass'].searchsorted(seq_mass),start=1):\n",
    "    memory_mask[i,:board] = -float('inf')"
   ]
  },
  {
   "cell_type": "code",
   "execution_count": null,
   "id": "6a3b37c2",
   "metadata": {},
   "outputs": [],
   "source": [
    "memory_mask = memory_mask[np.newaxis]"
   ]
  },
  {
   "cell_type": "code",
   "execution_count": null,
   "id": "7081c427",
   "metadata": {},
   "outputs": [],
   "source": [
    "spec['node_mass']"
   ]
  },
  {
   "cell_type": "code",
   "execution_count": null,
   "id": "d1951171",
   "metadata": {},
   "outputs": [],
   "source": [
    "np.repeat(memory_mask,cfg.decoder.num_heads,axis=0)"
   ]
  },
  {
   "cell_type": "code",
   "execution_count": null,
   "id": "211acdad",
   "metadata": {},
   "outputs": [],
   "source": [
    "torch.where(spec['graph_label'][1])[0]"
   ]
  },
  {
   "cell_type": "code",
   "execution_count": null,
   "id": "216d1511",
   "metadata": {},
   "outputs": [],
   "source": [
    "np.where(graph_label[0])[0]"
   ]
  },
  {
   "cell_type": "code",
   "execution_count": null,
   "id": "97ba6280",
   "metadata": {},
   "outputs": [],
   "source": [
    "spec['graph_label']/torch.where(spec['graph_label'].sum(-1)==0,1,spec['graph_label'].sum(-1)).unsqueeze(1)"
   ]
  },
  {
   "cell_type": "code",
   "execution_count": null,
   "id": "52828850",
   "metadata": {},
   "outputs": [],
   "source": [
    "spec['graph_label'].shape"
   ]
  },
  {
   "cell_type": "code",
   "execution_count": null,
   "id": "ae0a5e91",
   "metadata": {},
   "outputs": [],
   "source": [
    "for i, board in enumerate(spec['node_mass'].searchsorted(a),start=1):\n",
    "    b[i,:board] = -float('inf')"
   ]
  },
  {
   "cell_type": "code",
   "execution_count": null,
   "id": "c0f8a20d",
   "metadata": {},
   "outputs": [],
   "source": [
    "import hydra"
   ]
  },
  {
   "cell_type": "code",
   "execution_count": null,
   "id": "935a03de",
   "metadata": {},
   "outputs": [],
   "source": [
    "seq[:-1]"
   ]
  },
  {
   "cell_type": "code",
   "execution_count": null,
   "id": "91579219",
   "metadata": {},
   "outputs": [],
   "source": [
    "a=genova.utils.BasicClass.Residual_seq(seq[:-1].replace('L','I')).step_mass-0.02"
   ]
  },
  {
   "cell_type": "code",
   "execution_count": null,
   "id": "4364e146",
   "metadata": {},
   "outputs": [],
   "source": [
    "genova.utils.BasicClass.Residual_seq(seq.replace('L','I')).step_mass-0.02"
   ]
  },
  {
   "cell_type": "code",
   "execution_count": null,
   "id": "32edd45f",
   "metadata": {},
   "outputs": [],
   "source": [
    "len('DLVILLYETALLSSGFSLEDPQTHANR')"
   ]
  },
  {
   "cell_type": "code",
   "execution_count": null,
   "id": "c5d31966",
   "metadata": {},
   "outputs": [],
   "source": [
    "genova.utils.seq"
   ]
  },
  {
   "cell_type": "code",
   "execution_count": null,
   "id": "ef75774b",
   "metadata": {},
   "outputs": [],
   "source": [
    "spec_header.loc['Cerebellum:F12.12:46468']['Annotated Sequence']"
   ]
  },
  {
   "cell_type": "code",
   "execution_count": null,
   "id": "596ebeb6",
   "metadata": {},
   "outputs": [],
   "source": [
    "spec_header.index"
   ]
  },
  {
   "cell_type": "code",
   "execution_count": null,
   "id": "38d2ce33",
   "metadata": {},
   "outputs": [],
   "source": [
    "len(set(spec_header.index))"
   ]
  },
  {
   "cell_type": "code",
   "execution_count": null,
   "id": "9471c283",
   "metadata": {},
   "outputs": [],
   "source": [
    "genova.utils.BasicClass.Residual_seq('DLVLLLYDTALSSSGFSLFDPQTHNNR'.replace('L','I')).step_mass"
   ]
  },
  {
   "cell_type": "code",
   "execution_count": null,
   "id": "83a5f6a9",
   "metadata": {},
   "outputs": [],
   "source": [
    "genova.utils.BasicClass.Residual_seq('DLVILLYETALLSSGFSLEDPQTHANR'.replace('L','I')).step_mass"
   ]
  },
  {
   "cell_type": "code",
   "execution_count": null,
   "id": "0b85f882",
   "metadata": {},
   "outputs": [],
   "source": [
    "with open('/data/z37mao/genova_new/Cerebellum.mgfs', 'rb') as f:\n",
    "    f.seek(spec_head['MSGP Datablock Pointer'])\n",
    "    spec = pickle.loads(gzip.decompress(f.read(spec_head['MSGP Datablock Length'])))"
   ]
  },
  {
   "cell_type": "code",
   "execution_count": null,
   "id": "aed9d7d4",
   "metadata": {},
   "outputs": [],
   "source": [
    "spec_header"
   ]
  },
  {
   "cell_type": "code",
   "execution_count": null,
   "id": "37c29bf3",
   "metadata": {},
   "outputs": [],
   "source": [
    "import json"
   ]
  },
  {
   "cell_type": "code",
   "execution_count": null,
   "id": "b6bc680a",
   "metadata": {},
   "outputs": [],
   "source": [
    "with open('genova/utils/dictionary') as f:\n",
    "    dictionary = json.load(f)"
   ]
  },
  {
   "cell_type": "code",
   "execution_count": null,
   "id": "c84d6578",
   "metadata": {},
   "outputs": [],
   "source": [
    "from itertools import combinations_with_replacement\n",
    "from genova.utils.BasicClass import Residual_seq\n",
    "\n",
    "all_edge_mass = []\n",
    "aalist = Residual_seq.output_aalist()\n",
    "for num in range(1,7):\n",
    "    for i in combinations_with_replacement(aalist,num):\n",
    "        all_edge_mass.append(Residual_seq(i).mass)\n",
    "all_edge_mass = np.unique(np.array(all_edge_mass))\n",
    "print(len(all_edge_mass))"
   ]
  },
  {
   "cell_type": "code",
   "execution_count": null,
   "id": "20734dcc",
   "metadata": {},
   "outputs": [],
   "source": [
    "from collections import OrderedDict\n",
    "from itertools import combinations_with_replacement\n",
    "from genova.utils.BasicClass import Residual_seq\n",
    "\n",
    "aa_candidate_datablock_temp = {}\n",
    "aalist = Residual_seq.output_aalist()\n",
    "for num in range(1,7):\n",
    "    for i in combinations_with_replacement(aalist,num):\n",
    "        mass = Residual_seq(i).mass\n",
    "        if len(i)==1: aa_db = i[0]\n",
    "        else: aa_db = '[{}]'.format(''.join(i))\n",
    "        if mass in aa_candidate_datablock_temp: aa_candidate_datablock_temp[mass].append(aa_db)\n",
    "        else: aa_candidate_datablock_temp[mass] = [aa_db]\n",
    "\n",
    "aa_candidate_datablock = OrderedDict()\n",
    "for aa_db_mass in sorted(list(aa_candidate_datablock_temp.keys())):\n",
    "    aa_candidate_datablock[aa_db_mass] = aa_candidate_datablock_temp[aa_db_mass]"
   ]
  },
  {
   "cell_type": "code",
   "execution_count": null,
   "id": "2a5d3159",
   "metadata": {},
   "outputs": [],
   "source": [
    "np.array(list(aa_candidate_datablock.keys()))"
   ]
  },
  {
   "cell_type": "code",
   "execution_count": null,
   "id": "78bb6187",
   "metadata": {},
   "outputs": [],
   "source": [
    "aa_candidate_datablock = OrderedDict()\n",
    "for aa_db_mass in sorted(list(aa_candidate_datablock_temp.keys())):\n",
    "    aa_candidate_datablock[aa_db_mass] = aa_candidate_datablock_temp[aa_db_mass]"
   ]
  },
  {
   "cell_type": "code",
   "execution_count": null,
   "id": "94c52928",
   "metadata": {},
   "outputs": [],
   "source": [
    "aa_candidate_datablock"
   ]
  },
  {
   "cell_type": "code",
   "execution_count": null,
   "id": "8d1ed5fd",
   "metadata": {},
   "outputs": [],
   "source": [
    "from collections import OrderedDict"
   ]
  },
  {
   "cell_type": "code",
   "execution_count": null,
   "id": "a3a47f11",
   "metadata": {},
   "outputs": [],
   "source": [
    "for aa_db_mass in aa_candidate_datablock.keys():\n",
    "    print(aa_db_mass)\n",
    "    break"
   ]
  },
  {
   "cell_type": "code",
   "execution_count": null,
   "id": "7057f6d0",
   "metadata": {},
   "outputs": [],
   "source": [
    "a=list(aa_candidate_datablock.items())"
   ]
  },
  {
   "cell_type": "code",
   "execution_count": null,
   "id": "f3c4f5a3",
   "metadata": {},
   "outputs": [],
   "source": [
    "a[0]"
   ]
  },
  {
   "cell_type": "code",
   "execution_count": null,
   "id": "4db258b4",
   "metadata": {},
   "outputs": [],
   "source": [
    "aa_candidate_datablock"
   ]
  },
  {
   "cell_type": "code",
   "execution_count": null,
   "id": "032f8d6f",
   "metadata": {},
   "outputs": [],
   "source": [
    "20214.1205 in aa_datablock"
   ]
  },
  {
   "cell_type": "code",
   "execution_count": null,
   "id": "b43cf5cd",
   "metadata": {},
   "outputs": [],
   "source": [
    "aa_datablock"
   ]
  },
  {
   "cell_type": "code",
   "execution_count": null,
   "id": "7d704fa8",
   "metadata": {},
   "outputs": [],
   "source": [
    "'[ab][cd]'.split('[')"
   ]
  },
  {
   "cell_type": "code",
   "execution_count": null,
   "id": "2debd78e",
   "metadata": {},
   "outputs": [],
   "source": [
    "1/3*np.log(1/3)-1/3*np.log(0.98)"
   ]
  },
  {
   "cell_type": "code",
   "execution_count": null,
   "id": "b8f18018",
   "metadata": {},
   "outputs": [],
   "source": [
    "from genova.utils.BasicClass import Composition"
   ]
  },
  {
   "cell_type": "code",
   "execution_count": null,
   "id": "0095f807",
   "metadata": {},
   "outputs": [],
   "source": [
    "Composition(' ').mass"
   ]
  },
  {
   "cell_type": "code",
   "execution_count": 37,
   "id": "b797f920",
   "metadata": {},
   "outputs": [],
   "source": [
    "a=torch.rand([32,32,32,256])+(-float('inf')*torch.ones((32,32,32))).triu(diagonal=1).unsqueeze(-1)"
   ]
  },
  {
   "cell_type": "code",
   "execution_count": 29,
   "id": "0806682b",
   "metadata": {},
   "outputs": [],
   "source": [
    "a=(-float('inf')*torch.ones((32,32))).triu(diagonal=1)"
   ]
  },
  {
   "cell_type": "code",
   "execution_count": 128,
   "id": "d2e664bd",
   "metadata": {},
   "outputs": [
    {
     "data": {
      "text/plain": [
       "tensor([[[[0.8755, 1.3568, 0.9401,  ..., 1.3450, 0.8885, 1.3301],\n",
       "          [1.1024, 1.3881, 0.9311,  ..., 1.0911, 1.3286, 1.4917],\n",
       "          [1.3135, 1.3447, 1.3518,  ..., 0.9081, 1.0507, 0.8434],\n",
       "          ...,\n",
       "          [1.1560, 1.2221, 1.7016,  ..., 1.8448, 1.6369, 0.9617],\n",
       "          [0.5528, 1.0723, 1.2672,  ..., 0.8729, 0.9173, 0.9895],\n",
       "          [1.5915, 0.8110, 1.1644,  ..., 1.1764, 1.2189, 1.5209]],\n",
       "\n",
       "         [[1.1561, 1.1784, 1.0456,  ..., 1.0298, 0.2042, 0.3168],\n",
       "          [1.0195, 1.7352, 0.7770,  ..., 0.9642, 1.5835, 0.8905],\n",
       "          [1.6254, 1.2550, 0.8563,  ..., 1.1306, 0.8263, 0.7572],\n",
       "          ...,\n",
       "          [1.1828, 1.8997, 1.9298,  ..., 0.9694, 1.0890, 1.1368],\n",
       "          [1.6457, 1.9019, 1.4826,  ..., 1.2657, 1.3327, 1.9615],\n",
       "          [1.7724, 1.0165, 1.8038,  ..., 1.9391, 1.2788, 1.5405]],\n",
       "\n",
       "         [[0.9806, 0.5712, 0.3364,  ..., 0.9172, 0.2433, 0.6554],\n",
       "          [1.0414, 1.3599, 0.9872,  ..., 1.2863, 0.8959, 1.4692],\n",
       "          [1.5346, 0.9124, 1.4485,  ..., 1.3849, 1.5344, 0.9139],\n",
       "          ...,\n",
       "          [0.9559, 1.3699, 1.1425,  ..., 1.8997, 1.5977, 1.1481],\n",
       "          [0.7870, 0.8239, 1.3621,  ..., 0.9549, 1.3101, 0.9444],\n",
       "          [1.6293, 1.4950, 1.6882,  ..., 1.8751, 1.3234, 1.7953]],\n",
       "\n",
       "         ...,\n",
       "\n",
       "         [[1.3925, 0.9811, 0.7919,  ..., 0.9533, 0.8061, 0.5634],\n",
       "          [1.2250, 1.1464, 1.2450,  ..., 0.9527, 0.6649, 0.5259],\n",
       "          [0.4607, 0.8259, 1.0719,  ..., 0.4663, 0.5213, 1.3377],\n",
       "          ...,\n",
       "          [0.7480, 1.3841, 0.7889,  ..., 0.9641, 0.8126, 0.5672],\n",
       "          [0.4326, 1.1765, 0.9892,  ..., 0.2592, 0.6396, 0.5576],\n",
       "          [1.3672, 1.3092, 1.8461,  ..., 1.2170, 1.2185, 1.3008]],\n",
       "\n",
       "         [[0.6447, 0.5290, 0.7003,  ..., 0.8522, 0.8333, 0.6407],\n",
       "          [0.5852, 1.2357, 0.5865,  ..., 0.9137, 0.9097, 0.7679],\n",
       "          [0.8201, 0.7416, 0.8720,  ..., 0.9374, 0.9543, 1.0520],\n",
       "          ...,\n",
       "          [1.3869, 1.6218, 0.9491,  ..., 1.3272, 0.6667, 1.1313],\n",
       "          [1.5128, 0.8281, 1.3435,  ..., 1.2255, 1.0263, 1.0372],\n",
       "          [0.3619, 0.2639, 0.9258,  ..., 0.3961, 0.6128, 0.9127]],\n",
       "\n",
       "         [[1.2704, 1.4026, 1.1672,  ..., 1.0105, 0.8168, 0.5432],\n",
       "          [0.8693, 0.7210, 0.7294,  ..., 1.3178, 0.6547, 0.8388],\n",
       "          [1.2619, 1.1431, 1.4960,  ..., 1.6721, 1.0406, 1.4711],\n",
       "          ...,\n",
       "          [0.1750, 0.3905, 0.5039,  ..., 0.4037, 0.4973, 0.6125],\n",
       "          [0.8230, 0.3053, 0.4884,  ..., 0.8600, 0.3387, 1.0065],\n",
       "          [1.8518, 1.7559, 1.3277,  ..., 1.3207, 1.1843, 1.1041]]],\n",
       "\n",
       "\n",
       "        [[[0.8194, 0.7664, 1.0783,  ..., 1.0540, 0.5989, 0.7672],\n",
       "          [0.6299, 1.0518, 0.6106,  ..., 1.1905, 1.2622, 0.8431],\n",
       "          [0.6404, 1.0201, 1.3603,  ..., 0.4167, 0.3804, 0.7213],\n",
       "          ...,\n",
       "          [1.5656, 1.0644, 1.0328,  ..., 1.6498, 1.2155, 1.3911],\n",
       "          [1.0178, 0.6672, 0.8947,  ..., 1.2606, 0.8824, 0.5027],\n",
       "          [1.2398, 1.2131, 1.1290,  ..., 0.6794, 0.7954, 1.1338]],\n",
       "\n",
       "         [[1.0206, 1.0745, 1.0968,  ..., 0.4552, 0.6640, 1.0783],\n",
       "          [1.4453, 0.9361, 0.9640,  ..., 1.1601, 1.0201, 1.0447],\n",
       "          [0.7888, 1.4179, 0.7846,  ..., 1.5078, 0.9928, 0.7876],\n",
       "          ...,\n",
       "          [1.8012, 1.2180, 1.5045,  ..., 1.5795, 1.9237, 1.2286],\n",
       "          [1.3731, 1.0920, 1.4223,  ..., 1.7451, 1.7080, 1.1790],\n",
       "          [1.0313, 1.4730, 1.9704,  ..., 1.0815, 1.8498, 1.8445]],\n",
       "\n",
       "         [[0.2714, 0.6520, 0.0538,  ..., 0.9201, 0.2973, 0.4198],\n",
       "          [0.7238, 1.0960, 1.1409,  ..., 1.2259, 0.8923, 1.1708],\n",
       "          [0.8455, 1.6936, 1.7029,  ..., 0.9465, 1.3600, 1.4642],\n",
       "          ...,\n",
       "          [1.7751, 1.7081, 1.7271,  ..., 1.5228, 1.4040, 1.7190],\n",
       "          [1.5583, 0.8464, 1.5790,  ..., 0.9347, 1.0673, 1.5763],\n",
       "          [1.4665, 1.0882, 1.5362,  ..., 1.0184, 1.7231, 1.6055]],\n",
       "\n",
       "         ...,\n",
       "\n",
       "         [[1.4843, 0.8213, 0.6426,  ..., 0.7580, 1.2033, 1.1856],\n",
       "          [1.2160, 1.0805, 1.2568,  ..., 1.1010, 1.2392, 0.4486],\n",
       "          [1.0990, 1.2615, 0.6296,  ..., 0.7198, 1.3268, 1.0594],\n",
       "          ...,\n",
       "          [0.6372, 0.6757, 0.5923,  ..., 1.3317, 1.2336, 1.5210],\n",
       "          [0.9568, 0.4055, 0.8635,  ..., 1.2043, 1.0265, 1.0401],\n",
       "          [1.3048, 1.7697, 1.8539,  ..., 1.1733, 1.2991, 0.9979]],\n",
       "\n",
       "         [[0.6338, 0.8811, 0.7397,  ..., 0.9284, 0.9207, 0.5319],\n",
       "          [1.2450, 0.5551, 1.2495,  ..., 0.9361, 0.3389, 1.2140],\n",
       "          [1.5293, 1.4564, 0.7802,  ..., 1.0389, 1.3615, 1.2534],\n",
       "          ...,\n",
       "          [0.8003, 0.8350, 1.6367,  ..., 1.1311, 1.5174, 1.3263],\n",
       "          [0.7596, 1.5375, 1.3333,  ..., 1.6392, 1.0154, 1.3336],\n",
       "          [1.0621, 0.2935, 0.7900,  ..., 0.4004, 1.1978, 0.9118]],\n",
       "\n",
       "         [[1.0798, 0.7692, 0.4618,  ..., 1.3079, 1.1431, 1.2523],\n",
       "          [0.3851, 0.4115, 0.4610,  ..., 0.3900, 0.9334, 1.2237],\n",
       "          [1.6434, 0.9014, 1.6244,  ..., 1.5571, 1.4534, 0.9445],\n",
       "          ...,\n",
       "          [0.2312, 0.9066, 1.1330,  ..., 0.7544, 1.0282, 0.8324],\n",
       "          [0.9982, 0.3978, 1.0708,  ..., 0.3284, 0.5731, 0.9394],\n",
       "          [1.5533, 1.2765, 1.0105,  ..., 1.2834, 1.3836, 1.2628]]],\n",
       "\n",
       "\n",
       "        [[[1.2258, 0.7781, 0.6867,  ..., 0.5442, 1.0319, 1.2708],\n",
       "          [0.9676, 0.5750, 1.1564,  ..., 0.6451, 1.0898, 1.1840],\n",
       "          [0.9639, 0.4727, 0.4847,  ..., 0.6157, 1.2838, 0.9271],\n",
       "          ...,\n",
       "          [1.0341, 1.4312, 1.0715,  ..., 1.6077, 1.3080, 1.5000],\n",
       "          [0.7472, 0.4412, 0.9108,  ..., 1.0974, 0.5474, 0.9470],\n",
       "          [1.5015, 1.3918, 1.1178,  ..., 1.2795, 0.8577, 1.5959]],\n",
       "\n",
       "         [[0.6349, 0.8540, 0.8385,  ..., 0.9536, 0.2726, 0.8850],\n",
       "          [0.8983, 1.5875, 1.3971,  ..., 1.7343, 0.7856, 0.7795],\n",
       "          [1.1092, 0.8998, 1.7044,  ..., 0.8299, 1.6863, 1.4313],\n",
       "          ...,\n",
       "          [1.7962, 1.6120, 1.7678,  ..., 1.4870, 1.1590, 1.3165],\n",
       "          [1.8637, 1.3473, 1.3078,  ..., 1.6700, 1.2351, 1.9551],\n",
       "          [1.2181, 1.4913, 1.4413,  ..., 1.7733, 1.6293, 1.9273]],\n",
       "\n",
       "         [[0.4415, 0.7277, 0.9626,  ..., 0.9658, 0.7857, 0.1699],\n",
       "          [1.5896, 1.2795, 1.0894,  ..., 0.8967, 1.5387, 1.5362],\n",
       "          [1.0124, 0.8180, 1.0702,  ..., 1.2067, 1.3579, 1.4409],\n",
       "          ...,\n",
       "          [1.3461, 0.9370, 1.7784,  ..., 1.7465, 1.0325, 1.1536],\n",
       "          [1.5354, 0.8256, 0.6796,  ..., 1.2057, 1.3233, 0.8115],\n",
       "          [1.4964, 1.7025, 1.3139,  ..., 1.8639, 1.2396, 1.3103]],\n",
       "\n",
       "         ...,\n",
       "\n",
       "         [[1.4566, 1.3362, 0.8999,  ..., 1.2357, 1.2047, 1.3752],\n",
       "          [1.4111, 1.0233, 1.0210,  ..., 0.5579, 1.0696, 1.3275],\n",
       "          [0.6562, 1.2785, 0.5929,  ..., 0.4902, 0.5781, 1.2285],\n",
       "          ...,\n",
       "          [1.5432, 0.7377, 1.0026,  ..., 1.0928, 1.5118, 1.0774],\n",
       "          [0.5546, 0.5088, 0.5173,  ..., 1.1312, 0.9763, 1.0825],\n",
       "          [1.8267, 1.5538, 1.6448,  ..., 1.7513, 1.9519, 1.4814]],\n",
       "\n",
       "         [[0.5263, 1.0389, 0.7632,  ..., 0.9822, 0.6881, 0.9310],\n",
       "          [0.7318, 0.5752, 0.6392,  ..., 0.6133, 0.7004, 0.6072],\n",
       "          [1.2222, 1.3678, 1.0591,  ..., 1.5088, 1.0253, 0.9968],\n",
       "          ...,\n",
       "          [1.5525, 1.5188, 0.8650,  ..., 1.6104, 1.5384, 1.0746],\n",
       "          [1.1009, 1.5912, 1.5865,  ..., 1.3570, 1.1998, 1.2763],\n",
       "          [0.4948, 0.5656, 1.0753,  ..., 0.4489, 0.4272, 0.8831]],\n",
       "\n",
       "         [[0.5828, 0.4636, 1.3804,  ..., 1.3254, 0.7608, 0.6545],\n",
       "          [0.8037, 0.4185, 0.4011,  ..., 0.5854, 0.6819, 1.1664],\n",
       "          [0.8242, 1.6728, 0.9058,  ..., 1.1822, 1.4300, 0.7082],\n",
       "          ...,\n",
       "          [1.1178, 0.6497, 1.1135,  ..., 0.9721, 1.0676, 0.8093],\n",
       "          [0.8443, 0.5376, 0.1920,  ..., 0.3711, 0.6038, 0.4322],\n",
       "          [1.2358, 1.8013, 1.8862,  ..., 1.4281, 1.4579, 1.2192]]],\n",
       "\n",
       "\n",
       "        [[[1.1591, 1.3904, 1.1978,  ..., 1.0136, 1.0443, 1.2376],\n",
       "          [0.9432, 1.2565, 0.8055,  ..., 0.9247, 1.4077, 1.1673],\n",
       "          [1.1545, 0.5091, 1.3149,  ..., 1.2467, 0.4112, 1.2590],\n",
       "          ...,\n",
       "          [1.3853, 1.5902, 1.5545,  ..., 1.0610, 1.1495, 1.2032],\n",
       "          [0.9354, 1.2874, 0.7049,  ..., 0.8517, 0.9338, 1.0665],\n",
       "          [1.3471, 0.8673, 0.9628,  ..., 0.6689, 1.0750, 1.1176]],\n",
       "\n",
       "         [[0.9336, 0.3680, 0.4427,  ..., 0.3971, 0.7478, 1.0334],\n",
       "          [1.4080, 1.3314, 1.0977,  ..., 1.4743, 1.3216, 1.0755],\n",
       "          [1.6817, 1.6138, 1.6973,  ..., 1.0833, 1.5786, 1.0838],\n",
       "          ...,\n",
       "          [1.6975, 1.3861, 1.1353,  ..., 1.9167, 1.8330, 1.4492],\n",
       "          [1.6950, 1.5482, 1.4086,  ..., 1.5760, 1.4012, 1.6422],\n",
       "          [1.5170, 1.7752, 1.6008,  ..., 1.4985, 1.6501, 1.7185]],\n",
       "\n",
       "         [[0.5270, 0.7723, 0.7188,  ..., 0.3724, 0.6947, 0.5395],\n",
       "          [0.8023, 0.7965, 0.8726,  ..., 1.3984, 1.0045, 1.5137],\n",
       "          [1.2260, 1.4803, 1.4877,  ..., 0.7744, 1.6495, 1.1786],\n",
       "          ...,\n",
       "          [1.5528, 1.5217, 1.4624,  ..., 1.2415, 1.2192, 1.3477],\n",
       "          [1.1843, 1.5418, 0.7741,  ..., 0.8723, 1.6469, 1.5246],\n",
       "          [1.0348, 1.7419, 1.2448,  ..., 1.6919, 1.8054, 1.9739]],\n",
       "\n",
       "         ...,\n",
       "\n",
       "         [[1.3596, 1.0987, 0.5498,  ..., 0.5469, 1.0571, 0.9990],\n",
       "          [0.8843, 0.4897, 1.0183,  ..., 1.4050, 0.7648, 0.4741],\n",
       "          [1.2139, 1.3946, 0.6078,  ..., 1.1441, 1.1666, 0.7824],\n",
       "          ...,\n",
       "          [0.7223, 1.1937, 1.0824,  ..., 1.4044, 1.4988, 1.2309],\n",
       "          [0.7242, 0.7918, 0.5121,  ..., 1.0370, 0.5737, 0.2906],\n",
       "          [1.0281, 1.2983, 1.1464,  ..., 1.2639, 1.8806, 1.2338]],\n",
       "\n",
       "         [[0.9645, 0.7263, 0.9226,  ..., 0.5323, 1.3371, 0.8900],\n",
       "          [1.1489, 1.1483, 1.0858,  ..., 0.6009, 1.0072, 1.1400],\n",
       "          [1.5371, 0.7692, 1.3381,  ..., 1.0290, 1.4164, 1.1960],\n",
       "          ...,\n",
       "          [1.0780, 1.1753, 1.5690,  ..., 0.8764, 1.2707, 1.5355],\n",
       "          [1.1152, 1.0604, 1.1044,  ..., 0.9842, 1.2665, 0.9067],\n",
       "          [0.7539, 0.6848, 0.3586,  ..., 0.9036, 0.5007, 0.7196]],\n",
       "\n",
       "         [[1.2871, 1.1586, 0.9100,  ..., 0.6375, 1.1517, 0.5104],\n",
       "          [0.4999, 0.7071, 1.1029,  ..., 1.0552, 1.0909, 0.5381],\n",
       "          [1.2212, 1.1500, 1.4393,  ..., 1.0473, 1.0834, 1.4912],\n",
       "          ...,\n",
       "          [0.7971, 0.6183, 1.1349,  ..., 0.2654, 0.7879, 0.1921],\n",
       "          [0.7981, 0.1184, 0.3056,  ..., 0.8795, 0.5389, 0.5073],\n",
       "          [1.4630, 0.9562, 1.0377,  ..., 0.9592, 1.2178, 1.0414]]]])"
      ]
     },
     "execution_count": 128,
     "metadata": {},
     "output_type": "execute_result"
    }
   ],
   "source": [
    "torch.rand(4,32,32,25)+torch.rand(32,32).unsqueeze(-1)"
   ]
  },
  {
   "cell_type": "code",
   "execution_count": null,
   "id": "301da84a",
   "metadata": {},
   "outputs": [],
   "source": []
  }
 ],
 "metadata": {
  "kernelspec": {
   "display_name": "genova_torch",
   "language": "python",
   "name": "genova_torch"
  },
  "language_info": {
   "codemirror_mode": {
    "name": "ipython",
    "version": 3
   },
   "file_extension": ".py",
   "mimetype": "text/x-python",
   "name": "python",
   "nbconvert_exporter": "python",
   "pygments_lexer": "ipython3",
   "version": "3.9.7"
  }
 },
 "nbformat": 4,
 "nbformat_minor": 5
}
