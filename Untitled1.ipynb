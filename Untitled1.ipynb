{
 "cells": [
  {
   "cell_type": "code",
   "execution_count": 1,
   "id": "1d55aa7e",
   "metadata": {},
   "outputs": [],
   "source": [
    "import hydra\n",
    "import wandb\n",
    "import torch\n",
    "from torch.cuda.amp import autocast\n",
    "from torch.cuda.amp import GradScaler\n",
    "import genova\n",
    "import numpy as np\n",
    "import pandas as pd\n",
    "from omegaconf import OmegaConf, open_dict\n",
    "from genova.utils.BasicClass import Residual_seq\n",
    "from torch.utils.data import DataLoader"
   ]
  },
  {
   "cell_type": "code",
   "execution_count": 2,
   "id": "0c0f0bce",
   "metadata": {},
   "outputs": [],
   "source": [
    "hydra.initialize('configs')\n",
    "cfg = hydra.compose('config.yaml')\n",
    "with open_dict(cfg):\n",
    "    cfg.task = 'optimum_path'"
   ]
  },
  {
   "cell_type": "code",
   "execution_count": 3,
   "id": "8ff5bc04",
   "metadata": {},
   "outputs": [],
   "source": [
    "spec_header = pd.read_csv('/home/z37mao/genova_dataset_index.csv',low_memory=False,index_col='Spec Index')\n",
    "#spec_header = spec_header[spec_header['MSGP File Name']=='1_3.msgp']\n",
    "#spec_header = spec_header[spec_header['Node Number']<=512]"
   ]
  },
  {
   "cell_type": "code",
   "execution_count": 4,
   "id": "e68b88c4",
   "metadata": {},
   "outputs": [],
   "source": [
    "model = genova.models.Genova(cfg).to(3)\n",
    "ds = genova.data.GenovaDataset(cfg,spec_header=spec_header,dataset_dir_path='/home/z37mao/')\n",
    "sampler = genova.data.GenovaBatchSampler(cfg,torch.device(3),0.9,spec_header,[0,128,256,512], model)\n",
    "collate_fn = genova.data.GenovaCollator(cfg)\n",
    "dl = DataLoader(ds, batch_sampler=sampler, collate_fn=collate_fn, pin_memory=True, num_workers=2)\n",
    "dl = genova.data.DataPrefetcher(dl,torch.device(3))\n",
    "loss_fn = torch.nn.KLDivLoss(reduction='batchmean')\n",
    "optimizer = torch.optim.Adam(model.parameters(),lr=1e-5)\n",
    "scaler = GradScaler()"
   ]
  },
  {
   "cell_type": "code",
   "execution_count": null,
   "id": "86294217",
   "metadata": {},
   "outputs": [],
   "source": [
    "epochs = 5\n",
    "loss_cum = 0\n",
    "for epoch in range(epochs):\n",
    "    print('new epoch')\n",
    "    for i, batch in enumerate(dl, start=1):\n",
    "        encoder_input, decoder_input, graph_probability, label, label_mask = batch\n",
    "        optimizer.zero_grad()\n",
    "        with autocast():\n",
    "            output = model(encoder_input=encoder_input, decoder_input=decoder_input, graph_probability=graph_probability)\n",
    "            output = output.log_softmax(-1)\n",
    "            loss = loss_fn(output[label_mask],label[label_mask])\n",
    "        #break\n",
    "        loss_cum += loss.item()\n",
    "        if i%100==0:\n",
    "            print(loss_cum/100)\n",
    "            #wandb.log({'loss':loss_cum})\n",
    "            loss_cum = 0\n",
    "        scaler.scale(loss).backward()\n",
    "        scaler.step(optimizer)\n",
    "        scaler.update()"
   ]
  },
  {
   "cell_type": "code",
   "execution_count": null,
   "id": "b66d182c",
   "metadata": {},
   "outputs": [],
   "source": [
    "sample_num = np.zeros(3)\n",
    "sample_count = np.zeros(3)\n",
    "for i, (bsz, index) in enumerate(sampler,start=1):\n",
    "    if i==20000: break\n",
    "    sample_num[index] += bsz\n",
    "    sample_count[index] += 1\n",
    "print(np.round(sample_num/sample_count))"
   ]
  },
  {
   "cell_type": "code",
   "execution_count": null,
   "id": "455a3665",
   "metadata": {},
   "outputs": [],
   "source": [
    "sample_num/sample_count"
   ]
  },
  {
   "cell_type": "code",
   "execution_count": null,
   "id": "75af6fa6",
   "metadata": {},
   "outputs": [],
   "source": [
    "for i, (bsz, index) in enumerate(sampler,start=1):\n",
    "    pass"
   ]
  },
  {
   "cell_type": "code",
   "execution_count": null,
   "id": "a0f70258",
   "metadata": {},
   "outputs": [],
   "source": [
    "sampler.gpu_capacity = 80*1024**3*0.9"
   ]
  },
  {
   "cell_type": "code",
   "execution_count": null,
   "id": "523767d8",
   "metadata": {},
   "outputs": [],
   "source": [
    "sampler.gpu_capacity = torch.cuda.get_device_properties(3).total_memory*0.9"
   ]
  },
  {
   "cell_type": "code",
   "execution_count": null,
   "id": "38bb9003",
   "metadata": {},
   "outputs": [],
   "source": [
    "sampler.bin_len"
   ]
  },
  {
   "cell_type": "code",
   "execution_count": null,
   "id": "2a30dc11",
   "metadata": {},
   "outputs": [],
   "source": [
    "sampler.bins_readpointer"
   ]
  },
  {
   "cell_type": "code",
   "execution_count": null,
   "id": "70696447",
   "metadata": {},
   "outputs": [],
   "source": [
    "len(sampler.spec_header)"
   ]
  },
  {
   "cell_type": "code",
   "execution_count": null,
   "id": "29961c33",
   "metadata": {},
   "outputs": [],
   "source": []
  }
 ],
 "metadata": {
  "kernelspec": {
   "display_name": "genova_torch",
   "language": "python",
   "name": "genova_torch"
  },
  "language_info": {
   "codemirror_mode": {
    "name": "ipython",
    "version": 3
   },
   "file_extension": ".py",
   "mimetype": "text/x-python",
   "name": "python",
   "nbconvert_exporter": "python",
   "pygments_lexer": "ipython3",
   "version": "3.9.7"
  }
 },
 "nbformat": 4,
 "nbformat_minor": 5
}
