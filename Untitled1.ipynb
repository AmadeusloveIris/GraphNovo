{
 "cells": [
  {
   "cell_type": "code",
   "execution_count": 1,
   "id": "1d55aa7e",
   "metadata": {},
   "outputs": [],
   "source": [
    "import hydra\n",
    "import wandb\n",
    "import torch\n",
    "from torch.cuda.amp import autocast\n",
    "from torch.cuda.amp import GradScaler\n",
    "import genova\n",
    "import numpy as np\n",
    "import pandas as pd\n",
    "from omegaconf import OmegaConf, open_dict\n",
    "from genova.utils.BasicClass import Residual_seq\n",
    "from torch.utils.data import DataLoader"
   ]
  },
  {
   "cell_type": "code",
   "execution_count": 2,
   "id": "0c0f0bce",
   "metadata": {},
   "outputs": [],
   "source": [
    "hydra.initialize('configs')\n",
    "cfg = hydra.compose('config.yaml')\n",
    "with open_dict(cfg):\n",
    "    cfg.task = 'optimum_path'"
   ]
  },
  {
   "cell_type": "code",
   "execution_count": 3,
   "id": "8ff5bc04",
   "metadata": {},
   "outputs": [],
   "source": [
    "spec_header = pd.read_csv('/home/z37mao/genova_dataset_index.csv',low_memory=False,index_col='Spec Index')\n",
    "spec_header = spec_header[spec_header['MSGP File Name']=='1_3.msgp']\n",
    "#spec_header = spec_header[spec_header['Node Number']<=512]"
   ]
  },
  {
   "cell_type": "code",
   "execution_count": 4,
   "id": "5dcb9382",
   "metadata": {},
   "outputs": [],
   "source": [
    "from itertools import combinations_with_replacement\n",
    "aa_datablock_dict = {}\n",
    "aalist = Residual_seq.output_aalist()\n",
    "for num in range(1,7):\n",
    "    for i in combinations_with_replacement(aalist,num):\n",
    "        aa_datablock_dict[i] = Residual_seq(i).mass"
   ]
  },
  {
   "cell_type": "code",
   "execution_count": 5,
   "id": "e68b88c4",
   "metadata": {},
   "outputs": [],
   "source": [
    "model = genova.models.Genova(cfg).to('cuda')\n",
    "ds = genova.data.GenovaDataset(cfg,spec_header=spec_header,dataset_dir_path='/home/z37mao/', aa_datablock_dict=aa_datablock_dict)\n",
    "sampler = genova.data.GenovaBatchSampler(cfg,'cuda',0.95,spec_header,[0,128,256,512], model)\n",
    "collate_fn = genova.data.GenovaCollator(cfg)\n",
    "dl = DataLoader(ds, batch_sampler=sampler, collate_fn=collate_fn, pin_memory=True, num_workers=4, prefetch_factor=4)\n",
    "dl = genova.data.DataPrefetcher(dl,'cuda')\n",
    "loss_fn = torch.nn.KLDivLoss(reduction='batchmean')\n",
    "optimizer = torch.optim.Adam(model.parameters(),lr=2e-4)\n",
    "scaler = GradScaler()"
   ]
  },
  {
   "cell_type": "code",
   "execution_count": 6,
   "id": "a933e6d5",
   "metadata": {},
   "outputs": [],
   "source": [
    "def train(dl,loss_fn,optimizer,scaler,model):\n",
    "    total_step = 1\n",
    "    for epoch in range(0, 40):\n",
    "        print('new epoch')\n",
    "        for encoder_input, decoder_input, graph_probability, label, label_mask in dl:\n",
    "            if total_step%100 == 1: loss_cum = 0\n",
    "            elif total_step%100 == 0 and total_step != 0: yield loss_cum/100, total_step\n",
    "            optimizer.zero_grad()\n",
    "            with autocast():\n",
    "                output = model(encoder_input=encoder_input, decoder_input=decoder_input, graph_probability=graph_probability)\n",
    "                output = output.log_softmax(-1)\n",
    "                loss = loss_fn(output[label_mask],label[label_mask])\n",
    "            assert loss.item()!=float('nan')\n",
    "            loss_cum += loss\n",
    "            scaler.scale(loss).backward()\n",
    "            scaler.step(optimizer)\n",
    "            scaler.update()\n",
    "            total_step += 1"
   ]
  },
  {
   "cell_type": "code",
   "execution_count": null,
   "id": "9defd925",
   "metadata": {},
   "outputs": [],
   "source": [
    "for encoder_input, decoder_input, graph_probability, label, label_mask in dl:\n",
    "    optimizer.zero_grad()\n",
    "    with autocast():\n",
    "        output = model(encoder_input=encoder_input, decoder_input=decoder_input, graph_probability=graph_probability)\n",
    "        output = output.log_softmax(-1)\n",
    "        loss = loss_fn(output[label_mask],label[label_mask])\n",
    "    break"
   ]
  },
  {
   "cell_type": "code",
   "execution_count": null,
   "id": "c69b9407",
   "metadata": {},
   "outputs": [],
   "source": [
    "spec, graph_label, node_mass = ds[spec_header.index[0]]"
   ]
  },
  {
   "cell_type": "code",
   "execution_count": null,
   "id": "8d6a2f1e",
   "metadata": {},
   "outputs": [],
   "source": [
    "node_num = node_mass.size\n",
    "edge_mask = torch.zeros(node_num,node_num,dtype=bool)\n",
    "for x,y in enumerate(node_mass.searchsorted(node_mass+max(aa_datablock_dict.values())+0.04)):\n",
    "    edge_mask[x,y:] = True"
   ]
  },
  {
   "cell_type": "code",
   "execution_count": null,
   "id": "3b2d8e66",
   "metadata": {},
   "outputs": [],
   "source": [
    "edge_mask = torch.logical_or(edge_mask,spec['rel_input']['dist']!=0)"
   ]
  },
  {
   "cell_type": "code",
   "execution_count": null,
   "id": "4744f3c0",
   "metadata": {},
   "outputs": [],
   "source": [
    "trans_mask=((graph_label@edge_mask.int())!=0).bool()"
   ]
  },
  {
   "cell_type": "code",
   "execution_count": null,
   "id": "2a06633f",
   "metadata": {},
   "outputs": [],
   "source": [
    "trans_mask = torch.where(trans_mask,0.0,-float('inf'))"
   ]
  },
  {
   "cell_type": "code",
   "execution_count": null,
   "id": "b6a1e6bb",
   "metadata": {},
   "outputs": [],
   "source": [
    "trans_mask"
   ]
  },
  {
   "cell_type": "code",
   "execution_count": null,
   "id": "5bcd8f38",
   "metadata": {},
   "outputs": [],
   "source": [
    "decoder_input['trans_mask'].squeeze(-1)[label_mask]"
   ]
  },
  {
   "cell_type": "code",
   "execution_count": null,
   "id": "e5f339eb",
   "metadata": {},
   "outputs": [],
   "source": [
    "label[label_mask]"
   ]
  },
  {
   "cell_type": "code",
   "execution_count": null,
   "id": "9f37dcc8",
   "metadata": {},
   "outputs": [],
   "source": [
    "output[label_mask]"
   ]
  },
  {
   "cell_type": "code",
   "execution_count": null,
   "id": "9593f20a",
   "metadata": {},
   "outputs": [],
   "source": [
    "loss"
   ]
  },
  {
   "cell_type": "code",
   "execution_count": null,
   "id": "65892b06",
   "metadata": {},
   "outputs": [],
   "source": [
    "total_step = 1\n",
    "for epoch in range(0, 40):\n",
    "    print('new epoch')\n",
    "    for encoder_input, decoder_input, graph_probability, label, label_mask in dl:\n",
    "        if total_step%100 == 1: loss_cum = 0\n",
    "        elif total_step%100 == 0 and total_step != 0: yield loss_cum/100, total_step\n",
    "        optimizer.zero_grad()\n",
    "        with autocast():\n",
    "            output = model(encoder_input=encoder_input, decoder_input=decoder_input, graph_probability=graph_probability)\n",
    "            output = output.log_softmax(-1)\n",
    "            loss = loss_fn(output[label_mask],label[label_mask])\n",
    "        break\n",
    "        assert loss.item()!=float('nan')\n",
    "        loss_cum += loss\n",
    "        scaler.scale(loss).backward()\n",
    "        scaler.step(optimizer)\n",
    "        scaler.update()\n",
    "        total_step += 1"
   ]
  },
  {
   "cell_type": "code",
   "execution_count": 7,
   "id": "15f5599e",
   "metadata": {},
   "outputs": [],
   "source": [
    "a=train(dl,loss_fn,optimizer,scaler,model)"
   ]
  },
  {
   "cell_type": "code",
   "execution_count": null,
   "id": "6c66f6cd",
   "metadata": {},
   "outputs": [
    {
     "name": "stdout",
     "output_type": "stream",
     "text": [
      "new epoch\n",
      "100 2.7191948890686035\n",
      "200 1.6735668182373047\n",
      "300 1.1665215492248535\n",
      "400 1.0988348722457886\n",
      "500 1.1268599033355713\n",
      "new epoch\n",
      "600 1.0415360927581787\n",
      "700 1.0329381227493286\n",
      "800 1.0696443319320679\n",
      "900 1.0247608423233032\n",
      "1000 0.9627130627632141\n",
      "1100 0.9908431768417358\n",
      "new epoch\n",
      "1200 0.9778584837913513\n",
      "1300 1.0108410120010376\n",
      "1400 0.9825389385223389\n",
      "1500 0.9055740833282471\n",
      "1600 0.9525673389434814\n",
      "new epoch\n",
      "1700 0.9602628350257874\n",
      "1800 0.895293116569519\n",
      "1900 0.9367225170135498\n",
      "2000 0.9127296209335327\n",
      "2100 0.966590404510498\n",
      "2200 0.9363597631454468\n",
      "new epoch\n",
      "2300 0.9861232042312622\n",
      "2400 0.9264371395111084\n",
      "2500 0.9143365025520325\n",
      "2600 0.8556473255157471\n",
      "2700 0.9989606738090515\n",
      "2800 0.88206946849823\n",
      "new epoch\n",
      "2900 0.8817605376243591\n",
      "3000 0.9165856242179871\n",
      "3100 0.8930440545082092\n",
      "3200 0.885373055934906\n",
      "3300 0.8609936237335205\n",
      "new epoch\n",
      "3400 0.8212180137634277\n",
      "3500 0.8949873447418213\n",
      "3600 0.8365999460220337\n",
      "3700 0.8436170220375061\n",
      "3800 0.8744975328445435\n",
      "3900 0.8325677514076233\n",
      "new epoch\n",
      "4000 0.8204441070556641\n",
      "4100 0.7843909859657288\n",
      "4200 0.8858138918876648\n",
      "4300 0.8236333131790161\n",
      "4400 0.8175445199012756\n",
      "4500 0.8356543779373169\n",
      "new epoch\n",
      "4600 0.856231153011322\n",
      "4700 0.8005751371383667\n",
      "4800 0.8341942429542542\n",
      "4900 0.7774488925933838\n",
      "5000 0.8064146041870117\n",
      "5100 0.8053839802742004\n",
      "new epoch\n",
      "5200 0.7898203134536743\n",
      "5300 0.7834146022796631\n",
      "5400 0.7426679134368896\n",
      "5500 0.8012545108795166\n",
      "5600 0.7439379692077637\n",
      "new epoch\n",
      "5700 0.8150213956832886\n",
      "5800 0.780332088470459\n",
      "5900 0.7296357750892639\n",
      "6000 0.7659522891044617\n",
      "6100 0.7782633304595947\n",
      "6200 0.764167308807373\n",
      "new epoch\n",
      "6300 0.7644043564796448\n",
      "6400 0.7065740823745728\n",
      "6500 0.7914153337478638\n",
      "6600 0.7262325286865234\n",
      "6700 0.768406331539154\n",
      "new epoch\n",
      "6800 0.7362622022628784\n",
      "6900 0.7023506760597229\n",
      "7000 0.763931930065155\n",
      "7100 0.6877686977386475\n",
      "7200 0.7504357695579529\n",
      "7300 0.7598762512207031\n",
      "new epoch\n",
      "7400 0.7093396782875061\n",
      "7500 0.7361329197883606\n",
      "7600 0.6869537830352783\n",
      "7700 0.7561410069465637\n",
      "7800 0.7150614857673645\n",
      "7900 0.668174147605896\n",
      "new epoch\n",
      "8000 0.7718607783317566\n",
      "8100 0.6783943772315979\n",
      "8200 0.6349436640739441\n",
      "8300 0.7229492664337158\n",
      "8400 0.7073812484741211\n",
      "8500 0.6628533005714417\n",
      "new epoch\n",
      "8600 0.6756600737571716\n",
      "8700 0.6760523915290833\n",
      "8800 0.6590390801429749\n",
      "8900 0.6476644277572632\n",
      "9000 0.6703467965126038\n",
      "new epoch\n",
      "9100 0.6974951028823853\n",
      "9200 0.6397751569747925\n",
      "9300 0.6625090837478638\n",
      "9400 0.611774742603302\n",
      "9500 0.6259170174598694\n",
      "9600 0.67766273021698\n",
      "new epoch\n",
      "9700 0.6391529440879822\n",
      "9800 0.5911269783973694\n",
      "9900 0.6685791611671448\n",
      "10000 0.7002770304679871\n",
      "10100 0.621792197227478\n",
      "10200 0.6297793388366699\n",
      "new epoch\n",
      "10300 0.569722592830658\n",
      "10400 0.6481326818466187\n",
      "10500 0.596427321434021\n",
      "10600 0.6062252521514893\n",
      "10700 0.6609303951263428\n",
      "new epoch\n",
      "10800 0.6438632011413574\n",
      "10900 0.54820317029953\n",
      "11000 0.578434407711029\n",
      "11100 0.6062976121902466\n",
      "11200 0.590596079826355\n",
      "11300 0.5916128158569336\n",
      "new epoch\n",
      "11400 0.5588059425354004\n",
      "11500 0.5401275157928467\n",
      "11600 0.5337402820587158\n",
      "11700 0.5252100825309753\n",
      "11800 0.61299067735672\n",
      "11900 0.6401830911636353\n",
      "new epoch\n",
      "12000 0.5663309097290039\n",
      "12100 0.5486330389976501\n",
      "12200 0.5720826387405396\n",
      "12300 0.5655173659324646\n",
      "12400 0.5674002766609192\n",
      "new epoch\n",
      "12500 0.5641236305236816\n",
      "12600 0.4945259094238281\n",
      "12700 0.5220169425010681\n",
      "12800 0.5305275321006775\n",
      "12900 0.5260502696037292\n",
      "13000 0.579497218132019\n",
      "new epoch\n",
      "13100 0.5088590383529663\n",
      "13200 0.48997217416763306\n",
      "13300 0.5122095942497253\n",
      "13400 0.5240802764892578\n",
      "13500 0.5254016518592834\n",
      "13600 0.5464880466461182\n",
      "new epoch\n",
      "13700 0.5170506834983826\n",
      "13800 0.47980883717536926\n",
      "13900 0.5037111043930054\n",
      "14000 0.5042046904563904\n",
      "14100 0.5626997351646423\n",
      "new epoch\n",
      "14200 0.49083247780799866\n",
      "14300 0.4493195712566376\n",
      "14400 0.4737563729286194\n",
      "14500 0.44902536273002625\n",
      "14600 0.4766724705696106\n",
      "14700 0.5076020956039429\n",
      "new epoch\n",
      "14800 0.5351815819740295\n",
      "14900 0.43097013235092163\n",
      "15000 0.4513263702392578\n",
      "15100 0.48293814063072205\n",
      "15200 0.4886690080165863\n",
      "15300 0.4814576208591461\n",
      "new epoch\n",
      "15400 0.4097175598144531\n",
      "15500 0.4243524968624115\n",
      "15600 0.43257594108581543\n",
      "15700 0.44149088859558105\n",
      "15800 0.48871028423309326\n",
      "new epoch\n",
      "15900 0.4504576325416565\n",
      "16000 0.40365931391716003\n",
      "16100 0.39380747079849243\n",
      "16200 0.40545031428337097\n",
      "16300 0.4301539659500122\n",
      "16400 0.4536513388156891\n",
      "new epoch\n",
      "16500 0.42293474078178406\n",
      "16600 0.38782447576522827\n",
      "16700 0.40690624713897705\n",
      "16800 0.430184543132782\n",
      "16900 0.4058663547039032\n",
      "17000 0.4234078824520111\n",
      "new epoch\n",
      "17100 0.39479392766952515\n",
      "17200 0.39076873660087585\n",
      "17300 0.3859621584415436\n",
      "17400 0.3757428228855133\n",
      "17500 0.3901863098144531\n",
      "new epoch\n",
      "17600 0.42771533131599426\n",
      "17700 0.35708147287368774\n",
      "17800 0.4024437367916107\n",
      "17900 0.381497859954834\n",
      "18000 0.36356911063194275\n",
      "18100 0.40250635147094727\n",
      "new epoch\n",
      "18200 0.3978864550590515\n",
      "18300 0.3527805209159851\n",
      "18400 0.3982001543045044\n",
      "18500 0.36756786704063416\n",
      "18600 0.3458012640476227\n",
      "18700 0.3844757676124573\n",
      "new epoch\n",
      "18800 0.3400641083717346\n",
      "18900 0.3565155267715454\n",
      "19000 0.35786741971969604\n",
      "19100 0.3457777202129364\n",
      "19200 0.3591975271701813\n",
      "19300 0.37777820229530334\n",
      "new epoch\n",
      "19400 0.32716304063796997\n",
      "19500 0.31167417764663696\n",
      "19600 0.33736324310302734\n",
      "19700 0.3221483826637268\n",
      "19800 0.3485974669456482\n",
      "new epoch\n",
      "19900 0.34631508588790894\n",
      "20000 0.29600653052330017\n",
      "20100 0.32801908254623413\n",
      "20200 0.3125492334365845\n",
      "20300 0.3327334523200989\n",
      "20400 0.35625138878822327\n",
      "new epoch\n",
      "20500 0.30131006240844727\n",
      "20600 0.3304116129875183\n",
      "20700 0.3156212270259857\n",
      "20800 0.2983901798725128\n",
      "20900 0.33768415451049805\n",
      "21000 0.3319994807243347\n",
      "new epoch\n",
      "21100 0.2714328169822693\n"
     ]
    }
   ],
   "source": [
    "for loss_average, total_step in a:\n",
    "    print(total_step, loss_average.item())"
   ]
  },
  {
   "cell_type": "code",
   "execution_count": null,
   "id": "19927814",
   "metadata": {},
   "outputs": [],
   "source": [
    "for encoder_input, decoder_input, graph_probability, label, label_mask in dl:\n",
    "    break"
   ]
  },
  {
   "cell_type": "code",
   "execution_count": null,
   "id": "8acdec87",
   "metadata": {},
   "outputs": [],
   "source": [
    "graph_probability.shape"
   ]
  },
  {
   "cell_type": "code",
   "execution_count": null,
   "id": "821430b1",
   "metadata": {},
   "outputs": [],
   "source": [
    "decoder_input['trans_mask'].shape"
   ]
  },
  {
   "cell_type": "code",
   "execution_count": null,
   "id": "119c55db",
   "metadata": {},
   "outputs": [],
   "source": [
    "label_mask.sum()"
   ]
  },
  {
   "cell_type": "code",
   "execution_count": null,
   "id": "8b1e7b0f",
   "metadata": {},
   "outputs": [],
   "source": [
    "a=train(dl,loss_fn,optimizer,scaler,model)"
   ]
  },
  {
   "cell_type": "code",
   "execution_count": null,
   "id": "6d12911c",
   "metadata": {},
   "outputs": [],
   "source": [
    "for loss, total_step in a:\n",
    "    #loss, total_step = next(a)\n",
    "    print(loss, total_step)"
   ]
  },
  {
   "cell_type": "code",
   "execution_count": null,
   "id": "ae4c47b0",
   "metadata": {},
   "outputs": [],
   "source": [
    "model.state_dict()"
   ]
  },
  {
   "cell_type": "code",
   "execution_count": null,
   "id": "d898841b",
   "metadata": {},
   "outputs": [],
   "source": [
    "for encoder_input, decoder_input, graph_probability, label, label_mask in dl:\n",
    "    break"
   ]
  },
  {
   "cell_type": "code",
   "execution_count": null,
   "id": "3a3c4101",
   "metadata": {},
   "outputs": [],
   "source": [
    "with autocast():\n",
    "    output = model(encoder_input=encoder_input, decoder_input=decoder_input, graph_probability=graph_probability)\n",
    "    output = output.log_softmax(-1)\n",
    "    loss = loss_fn(output[label_mask],label[label_mask])"
   ]
  },
  {
   "cell_type": "code",
   "execution_count": null,
   "id": "c8e62ffd",
   "metadata": {},
   "outputs": [],
   "source": [
    "loss"
   ]
  },
  {
   "cell_type": "code",
   "execution_count": null,
   "id": "c2472dbf",
   "metadata": {},
   "outputs": [],
   "source": [
    "import os"
   ]
  },
  {
   "cell_type": "code",
   "execution_count": null,
   "id": "98b67678",
   "metadata": {},
   "outputs": [],
   "source": [
    "if os.('/home/z37mao/genova/save'):\n",
    "    print('kfjsadlkf')"
   ]
  },
  {
   "cell_type": "code",
   "execution_count": null,
   "id": "4834e563",
   "metadata": {},
   "outputs": [],
   "source": [
    "os.path.exists(os.path.join('/home/z37mao/genova/save','fjklsfj.pt'))"
   ]
  },
  {
   "cell_type": "code",
   "execution_count": null,
   "id": "3d49c741",
   "metadata": {},
   "outputs": [],
   "source": [
    "torch.save({'model_state_dict': model.state_dict(),\n",
    "            'optimizer_state_dict': optimizer.state_dict()}, '/home/z37mao/genova/save/test.pt')"
   ]
  },
  {
   "cell_type": "code",
   "execution_count": null,
   "id": "9af1643c",
   "metadata": {},
   "outputs": [],
   "source": [
    "torch.load('/home/z37mao/genova/save/test.pt')"
   ]
  },
  {
   "cell_type": "code",
   "execution_count": null,
   "id": "05570072",
   "metadata": {},
   "outputs": [],
   "source": [
    "DDP(model,device_ids=[0])"
   ]
  },
  {
   "cell_type": "code",
   "execution_count": null,
   "id": "41f9296e",
   "metadata": {},
   "outputs": [],
   "source": [
    "for encoder_input, decoder_input, graph_probability, label, label_mask in dl:\n",
    "    break"
   ]
  },
  {
   "cell_type": "code",
   "execution_count": null,
   "id": "1a6b5fc5",
   "metadata": {},
   "outputs": [],
   "source": [
    "encoder_input['path_input']['dist'][0]"
   ]
  },
  {
   "cell_type": "code",
   "execution_count": null,
   "id": "eb970807",
   "metadata": {},
   "outputs": [],
   "source": [
    "ds[spec_header.index[0]][0]"
   ]
  },
  {
   "cell_type": "code",
   "execution_count": null,
   "id": "ae6f3300",
   "metadata": {},
   "outputs": [],
   "source": [
    "from itertools import combinations_with_replacement\n",
    "all_edge_mass = []\n",
    "aalist = Residual_seq.output_aalist()\n",
    "for num in range(1,7):\n",
    "    for i in combinations_with_replacement(aalist,num):\n",
    "        all_edge_mass.append(Residual_seq(i).mass)\n",
    "all_edge_mass = np.unique(np.array(all_edge_mass))"
   ]
  },
  {
   "cell_type": "code",
   "execution_count": null,
   "id": "deaea8bb",
   "metadata": {},
   "outputs": [],
   "source": [
    "from itertools import combinations_with_replacement\n",
    "aa_datablock_dict = {}\n",
    "aalist = Residual_seq.output_aalist()\n",
    "for num in range(1,7):\n",
    "    for i in combinations_with_replacement(aalist,num):\n",
    "        aa_datablock_dict[i] = Residual_seq(i).mass"
   ]
  },
  {
   "cell_type": "code",
   "execution_count": null,
   "id": "f2ba2037",
   "metadata": {},
   "outputs": [],
   "source": [
    "max(aa_datablock_dict.values())"
   ]
  },
  {
   "cell_type": "code",
   "execution_count": null,
   "id": "466ac30b",
   "metadata": {},
   "outputs": [],
   "source": [
    "spec = ds[spec_header.index[0]]"
   ]
  },
  {
   "cell_type": "code",
   "execution_count": null,
   "id": "21a0411c",
   "metadata": {},
   "outputs": [],
   "source": [
    "node_num = spec['node_mass'].size"
   ]
  },
  {
   "cell_type": "code",
   "execution_count": null,
   "id": "fa9cfa63",
   "metadata": {},
   "outputs": [],
   "source": [
    "edge_mask = torch.zeros(node_num,node_num,dtype=bool)\n",
    "for x,y in enumerate(spec['node_mass'].searchsorted(spec['node_mass']+all_edge_mass[-1]+0.04)):\n",
    "    edge_mask[x,y:] = 1"
   ]
  },
  {
   "cell_type": "code",
   "execution_count": null,
   "id": "684b7a30",
   "metadata": {},
   "outputs": [],
   "source": [
    "edge_mask = torch.logical_or(edge_mask,spec['rel_input']['dist']!=0)"
   ]
  },
  {
   "cell_type": "code",
   "execution_count": null,
   "id": "f68fbfcf",
   "metadata": {},
   "outputs": [],
   "source": [
    "edge_mask"
   ]
  },
  {
   "cell_type": "code",
   "execution_count": null,
   "id": "fbb7e3df",
   "metadata": {},
   "outputs": [],
   "source": [
    "b=(graph_label@edge_mask.int()).bool()"
   ]
  },
  {
   "cell_type": "code",
   "execution_count": null,
   "id": "69be82a3",
   "metadata": {},
   "outputs": [],
   "source": [
    "b"
   ]
  },
  {
   "cell_type": "code",
   "execution_count": null,
   "id": "a36ffc7f",
   "metadata": {},
   "outputs": [],
   "source": [
    "torch.where(b,0.0,-float('inf'))"
   ]
  },
  {
   "cell_type": "code",
   "execution_count": null,
   "id": "6282f5fc",
   "metadata": {},
   "outputs": [],
   "source": [
    "graph_label = spec['graph_label'].T"
   ]
  },
  {
   "cell_type": "code",
   "execution_count": null,
   "id": "09a97483",
   "metadata": {},
   "outputs": [],
   "source": [
    "graph_label = graph_label[torch.any(graph_label,-1)]"
   ]
  },
  {
   "cell_type": "code",
   "execution_count": null,
   "id": "c81489d4",
   "metadata": {},
   "outputs": [],
   "source": [
    "graph_label"
   ]
  },
  {
   "cell_type": "code",
   "execution_count": null,
   "id": "f111efcd",
   "metadata": {},
   "outputs": [],
   "source": [
    "spec['graph_label'].bool().T"
   ]
  },
  {
   "cell_type": "code",
   "execution_count": null,
   "id": "53f37988",
   "metadata": {},
   "outputs": [],
   "source": [
    "a='node'"
   ]
  },
  {
   "cell_type": "code",
   "execution_count": null,
   "id": "ad23f592",
   "metadata": {},
   "outputs": [],
   "source": [
    "c=None"
   ]
  },
  {
   "cell_type": "code",
   "execution_count": null,
   "id": "386685f6",
   "metadata": {},
   "outputs": [],
   "source": [
    "assert c or a=='node'"
   ]
  },
  {
   "cell_type": "code",
   "execution_count": null,
   "id": "c2b99373",
   "metadata": {},
   "outputs": [],
   "source": []
  }
 ],
 "metadata": {
  "kernelspec": {
   "display_name": "genova_torch",
   "language": "python",
   "name": "genova_torch"
  },
  "language_info": {
   "codemirror_mode": {
    "name": "ipython",
    "version": 3
   },
   "file_extension": ".py",
   "mimetype": "text/x-python",
   "name": "python",
   "nbconvert_exporter": "python",
   "pygments_lexer": "ipython3",
   "version": "3.9.7"
  }
 },
 "nbformat": 4,
 "nbformat_minor": 5
}
