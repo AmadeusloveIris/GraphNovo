{
 "cells": [
  {
   "cell_type": "code",
   "execution_count": 3,
   "id": "1d55aa7e",
   "metadata": {},
   "outputs": [],
   "source": [
    "import hydra\n",
    "import wandb\n",
    "import torch\n",
    "from torch.cuda.amp import autocast\n",
    "from torch.cuda.amp import GradScaler\n",
    "import genova\n",
    "import numpy as np\n",
    "import pandas as pd\n",
    "from omegaconf import OmegaConf, open_dict\n",
    "from genova.utils.BasicClass import Residual_seq\n",
    "from torch.utils.data import DataLoader"
   ]
  },
  {
   "cell_type": "code",
   "execution_count": 2,
   "id": "f5681b0c",
   "metadata": {},
   "outputs": [],
   "source": [
    "from itertools import combinations_with_replacement\n",
    "aa_datablock_dict = {}\n",
    "aalist = Residual_seq.output_aalist()\n",
    "for num in range(1,7):\n",
    "    for i in combinations_with_replacement(aalist,num):\n",
    "        aa_datablock_dict[i] = Residual_seq(i).mass"
   ]
  },
  {
   "cell_type": "code",
   "execution_count": 3,
   "id": "0c0f0bce",
   "metadata": {},
   "outputs": [],
   "source": [
    "hydra.initialize('configs')\n",
    "cfg = hydra.compose('config.yaml')\n",
    "with open_dict(cfg):\n",
    "    cfg.task = 'optimum_path'\n",
    "    cfg.wandb.project = 'optimum_path'"
   ]
  },
  {
   "cell_type": "code",
   "execution_count": 4,
   "id": "8ff5bc04",
   "metadata": {},
   "outputs": [],
   "source": [
    "spec_header = pd.read_csv('/home/z37mao/genova_dataset_index.csv',low_memory=False,index_col='Spec Index')\n",
    "spec_header = spec_header[spec_header['MSGP File Name']=='1_3.msgp']\n",
    "#spec_header = spec_header[spec_header['Node Number']<=512]"
   ]
  },
  {
   "cell_type": "code",
   "execution_count": 5,
   "id": "07ccf312",
   "metadata": {},
   "outputs": [
    {
     "data": {
      "text/plain": [
       "Index(['PSMs Peptide ID', 'Annotated Sequence', 'Modifications',\n",
       "       'Master Protein Accessions', 'Protein Accessions', 'Charge',\n",
       "       'DeltaScore', 'DeltaCn', 'Rank', 'Search Engine Rank', 'm/z [Da]',\n",
       "       'MH+ [Da]', 'Theo. MH+ [Da]', 'DeltaM [ppm]', 'Deltam/z [Da]',\n",
       "       'Intensity', 'Activation Type', 'NCE [%]', 'MS Order',\n",
       "       'Isolation Interference [%]', 'Ion Inject Time [ms]', 'RT [min]',\n",
       "       'First Scan', 'Master Scan(s)', 'Spectrum File', 'File ID.1', 'XCorr',\n",
       "       'Percolator q-Value', 'Percolator PEP', 'Percolator SVMScore',\n",
       "       'MGFS Experiment Name', 'MGFS_Datablock_Pointer',\n",
       "       'MGFS_Datablock_Length', 'Last Scan', 'Peptides Matched',\n",
       "       'Identifying Node', 'PSM Ambiguity', 'Node Number', 'Relation Num',\n",
       "       'Edge Num', 'MSGP File Name', 'MSGP Datablock Pointer',\n",
       "       'MSGP Datablock Length', 'Experiment Name', 'Raw File ID',\n",
       "       'Spectrum ID'],\n",
       "      dtype='object')"
      ]
     },
     "execution_count": 5,
     "metadata": {},
     "output_type": "execute_result"
    }
   ],
   "source": [
    "spec_header.columns"
   ]
  },
  {
   "cell_type": "code",
   "execution_count": 5,
   "id": "2e87fc01",
   "metadata": {},
   "outputs": [],
   "source": [
    "task = genova.task.Task(cfg,'/home/z37mao/Genova/save', aa_datablock_dict=aa_datablock_dict, distributed=False)"
   ]
  },
  {
   "cell_type": "code",
   "execution_count": 6,
   "id": "25f24124",
   "metadata": {},
   "outputs": [
    {
     "name": "stderr",
     "output_type": "stream",
     "text": [
      "Failed to detect the name of this notebook, you can set it manually with the WANDB_NOTEBOOK_NAME environment variable to enable code saving.\n",
      "\u001b[34m\u001b[1mwandb\u001b[0m: Currently logged in as: \u001b[33mgenova\u001b[0m (use `wandb login --relogin` to force relogin)\n"
     ]
    },
    {
     "data": {
      "text/html": [
       "wandb version 0.12.14 is available!  To upgrade, please run:\n",
       " $ pip install wandb --upgrade"
      ],
      "text/plain": [
       "<IPython.core.display.HTML object>"
      ]
     },
     "metadata": {},
     "output_type": "display_data"
    },
    {
     "data": {
      "text/html": [
       "Tracking run with wandb version 0.12.11"
      ],
      "text/plain": [
       "<IPython.core.display.HTML object>"
      ]
     },
     "metadata": {},
     "output_type": "display_data"
    },
    {
     "data": {
      "text/html": [
       "Run data is saved locally in <code>/home/z37mao/Genova/wandb/run-20220419_044305-2bvll3iu</code>"
      ],
      "text/plain": [
       "<IPython.core.display.HTML object>"
      ]
     },
     "metadata": {},
     "output_type": "display_data"
    },
    {
     "data": {
      "text/html": [
       "Syncing run <strong><a href=\"https://wandb.ai/genova/optimum_path/runs/2bvll3iu\" target=\"_blank\">helpful-vortex-4</a></strong> to <a href=\"https://wandb.ai/genova/optimum_path\" target=\"_blank\">Weights & Biases</a> (<a href=\"https://wandb.me/run\" target=\"_blank\">docs</a>)<br/>"
      ],
      "text/plain": [
       "<IPython.core.display.HTML object>"
      ]
     },
     "metadata": {},
     "output_type": "display_data"
    }
   ],
   "source": [
    "task.initialize(spec_header,'/home/z37mao/',spec_header,'/home/z37mao/')"
   ]
  },
  {
   "cell_type": "code",
   "execution_count": 7,
   "id": "3b5c1a4d",
   "metadata": {},
   "outputs": [
    {
     "name": "stdout",
     "output_type": "stream",
     "text": [
      "1000 tensor(1.3872, device='cuda:0', grad_fn=<DivBackward0>) tensor(1.0219, device='cuda:0')\n",
      "2000 tensor(0.9709, device='cuda:0', grad_fn=<DivBackward0>) tensor(0.9210, device='cuda:0')\n",
      "3000 tensor(0.9101, device='cuda:0', grad_fn=<DivBackward0>) tensor(0.7885, device='cuda:0')\n",
      "4000 tensor(0.8814, device='cuda:0', grad_fn=<DivBackward0>) tensor(0.7286, device='cuda:0')\n"
     ]
    },
    {
     "ename": "KeyboardInterrupt",
     "evalue": "",
     "output_type": "error",
     "traceback": [
      "\u001b[0;31m---------------------------------------------------------------------------\u001b[0m",
      "\u001b[0;31mKeyboardInterrupt\u001b[0m                         Traceback (most recent call last)",
      "\u001b[0;32m/tmp/ipykernel_212681/2866591027.py\u001b[0m in \u001b[0;36m<module>\u001b[0;34m\u001b[0m\n\u001b[1;32m      1\u001b[0m \u001b[0;32mfor\u001b[0m \u001b[0mloss_train\u001b[0m\u001b[0;34m,\u001b[0m \u001b[0mtotal_step\u001b[0m \u001b[0;32min\u001b[0m \u001b[0mtask\u001b[0m\u001b[0;34m.\u001b[0m\u001b[0mtrain\u001b[0m\u001b[0;34m(\u001b[0m\u001b[0;34m)\u001b[0m\u001b[0;34m:\u001b[0m\u001b[0;34m\u001b[0m\u001b[0;34m\u001b[0m\u001b[0m\n\u001b[0;32m----> 2\u001b[0;31m     \u001b[0mloss_eval\u001b[0m\u001b[0;34m,\u001b[0m \u001b[0mtotal_seq_len\u001b[0m \u001b[0;34m=\u001b[0m \u001b[0mtask\u001b[0m\u001b[0;34m.\u001b[0m\u001b[0meval\u001b[0m\u001b[0;34m(\u001b[0m\u001b[0;34m)\u001b[0m\u001b[0;34m\u001b[0m\u001b[0;34m\u001b[0m\u001b[0m\n\u001b[0m\u001b[1;32m      3\u001b[0m     \u001b[0mprint\u001b[0m\u001b[0;34m(\u001b[0m\u001b[0mtotal_step\u001b[0m\u001b[0;34m,\u001b[0m \u001b[0mloss_train\u001b[0m\u001b[0;34m,\u001b[0m \u001b[0mloss_eval\u001b[0m\u001b[0;34m/\u001b[0m\u001b[0mtotal_seq_len\u001b[0m\u001b[0;34m)\u001b[0m\u001b[0;34m\u001b[0m\u001b[0;34m\u001b[0m\u001b[0m\n",
      "\u001b[0;32m~/Genova/genova/task/task.py\u001b[0m in \u001b[0;36meval\u001b[0;34m(self)\u001b[0m\n\u001b[1;32m     86\u001b[0m                 \u001b[0mself\u001b[0m\u001b[0;34m.\u001b[0m\u001b[0mscaler\u001b[0m\u001b[0;34m.\u001b[0m\u001b[0mupdate\u001b[0m\u001b[0;34m(\u001b[0m\u001b[0;34m)\u001b[0m\u001b[0;34m\u001b[0m\u001b[0;34m\u001b[0m\u001b[0m\n\u001b[1;32m     87\u001b[0m                 \u001b[0;32mif\u001b[0m \u001b[0mtotal_step\u001b[0m\u001b[0;34m%\u001b[0m\u001b[0mself\u001b[0m\u001b[0;34m.\u001b[0m\u001b[0mcfg\u001b[0m\u001b[0;34m.\u001b[0m\u001b[0mtrain\u001b[0m\u001b[0;34m.\u001b[0m\u001b[0mdetect_period\u001b[0m \u001b[0;34m==\u001b[0m \u001b[0;36m0\u001b[0m\u001b[0;34m:\u001b[0m \u001b[0;32myield\u001b[0m \u001b[0mloss_cum\u001b[0m\u001b[0;34m/\u001b[0m\u001b[0mself\u001b[0m\u001b[0;34m.\u001b[0m\u001b[0mcfg\u001b[0m\u001b[0;34m.\u001b[0m\u001b[0mtrain\u001b[0m\u001b[0;34m.\u001b[0m\u001b[0mdetect_period\u001b[0m\u001b[0;34m,\u001b[0m \u001b[0mtotal_step\u001b[0m\u001b[0;34m\u001b[0m\u001b[0;34m\u001b[0m\u001b[0m\n\u001b[0;32m---> 88\u001b[0;31m \u001b[0;34m\u001b[0m\u001b[0m\n\u001b[0m\u001b[1;32m     89\u001b[0m     \u001b[0;32mdef\u001b[0m \u001b[0meval\u001b[0m\u001b[0;34m(\u001b[0m\u001b[0mself\u001b[0m\u001b[0;34m)\u001b[0m \u001b[0;34m->\u001b[0m \u001b[0mfloat\u001b[0m\u001b[0;34m:\u001b[0m\u001b[0;34m\u001b[0m\u001b[0;34m\u001b[0m\u001b[0m\n\u001b[1;32m     90\u001b[0m         \u001b[0mloss_cum\u001b[0m \u001b[0;34m=\u001b[0m \u001b[0;36m0\u001b[0m\u001b[0;34m\u001b[0m\u001b[0;34m\u001b[0m\u001b[0m\n",
      "\u001b[0;31mKeyboardInterrupt\u001b[0m: "
     ]
    }
   ],
   "source": [
    "for loss_train, total_step in task.train():\n",
    "    loss_eval, total_seq_len = task.eval()\n",
    "    print(total_step, loss_train, loss_eval/total_seq_len)"
   ]
  },
  {
   "cell_type": "code",
   "execution_count": null,
   "id": "4bd7c11b",
   "metadata": {},
   "outputs": [],
   "source": [
    "loss_cum, total_seq_len = task.eval()"
   ]
  },
  {
   "cell_type": "code",
   "execution_count": null,
   "id": "e68b88c4",
   "metadata": {},
   "outputs": [],
   "source": [
    "model = genova.models.Genova(cfg).to('cuda')\n",
    "ds = genova.data.GenovaDataset(cfg,spec_header=spec_header,dataset_dir_path='/home/z37mao/', aa_datablock_dict=aa_datablock_dict)\n",
    "sampler = genova.data.GenovaBatchSampler(cfg,'cuda',0.95,spec_header,[0,128,256,512], model)\n",
    "collate_fn = genova.data.GenovaCollator(cfg)\n",
    "dl = DataLoader(ds, batch_sampler=sampler, collate_fn=collate_fn, pin_memory=True, num_workers=4, prefetch_factor=4)\n",
    "dl = genova.data.DataPrefetcher(dl,'cuda')\n",
    "loss_fn = torch.nn.KLDivLoss(reduction='batchmean')\n",
    "optimizer = torch.optim.Adam(model.parameters(),lr=2e-4)\n",
    "scaler = GradScaler()"
   ]
  },
  {
   "cell_type": "code",
   "execution_count": null,
   "id": "60fa10eb",
   "metadata": {},
   "outputs": [],
   "source": [
    "optimizer.state_dict()"
   ]
  },
  {
   "cell_type": "code",
   "execution_count": null,
   "id": "a933e6d5",
   "metadata": {},
   "outputs": [],
   "source": [
    "def train(dl,loss_fn,optimizer,scaler,model):\n",
    "    total_step = 1\n",
    "    for epoch in range(0, 40):\n",
    "        print('new epoch')\n",
    "        for encoder_input, decoder_input, graph_probability, label, label_mask in dl:\n",
    "            if total_step%100 == 1: loss_cum = 0\n",
    "            elif total_step%100 == 0 and total_step != 0: yield loss_cum/100, total_step\n",
    "            optimizer.zero_grad()\n",
    "            with autocast():\n",
    "                output = model(encoder_input=encoder_input, decoder_input=decoder_input, graph_probability=graph_probability)\n",
    "                output = output.log_softmax(-1)\n",
    "                loss = loss_fn(output[label_mask],label[label_mask])\n",
    "            assert loss.item()!=float('nan')\n",
    "            loss_cum += loss\n",
    "            scaler.scale(loss).backward()\n",
    "            scaler.step(optimizer)\n",
    "            scaler.update()\n",
    "            total_step += 1"
   ]
  },
  {
   "cell_type": "code",
   "execution_count": null,
   "id": "36243e81",
   "metadata": {},
   "outputs": [],
   "source": [
    "for encoder_input, decoder_input, graph_probability, label, label_mask in dl:\n",
    "    optimizer.zero_grad()\n",
    "    with autocast():\n",
    "        output = model(encoder_input=encoder_input, decoder_input=decoder_input, graph_probability=graph_probability)\n",
    "        output = output.log_softmax(-1)\n",
    "        loss = loss_fn(output[label_mask],label[label_mask])\n",
    "    break"
   ]
  },
  {
   "cell_type": "code",
   "execution_count": null,
   "id": "48c8da00",
   "metadata": {},
   "outputs": [],
   "source": [
    "spec, graph_label, node_mass = ds[spec_header.index[0]]"
   ]
  },
  {
   "cell_type": "code",
   "execution_count": null,
   "id": "2b0d54d8",
   "metadata": {},
   "outputs": [],
   "source": [
    "node_num = node_mass.size\n",
    "edge_mask = torch.zeros(node_num,node_num,dtype=bool)\n",
    "for x,y in enumerate(node_mass.searchsorted(node_mass+max(aa_datablock_dict.values())+0.04)):\n",
    "    edge_mask[x,y:] = True"
   ]
  },
  {
   "cell_type": "code",
   "execution_count": null,
   "id": "b2c36d46",
   "metadata": {},
   "outputs": [],
   "source": [
    "edge_mask = torch.logical_or(edge_mask,spec['rel_input']['dist']!=0)"
   ]
  },
  {
   "cell_type": "code",
   "execution_count": null,
   "id": "e79b6ba2",
   "metadata": {},
   "outputs": [],
   "source": [
    "trans_mask=((graph_label@edge_mask.int())!=0).bool()"
   ]
  },
  {
   "cell_type": "code",
   "execution_count": null,
   "id": "be612e7f",
   "metadata": {},
   "outputs": [],
   "source": [
    "trans_mask = torch.where(trans_mask,0.0,-float('inf'))"
   ]
  },
  {
   "cell_type": "code",
   "execution_count": null,
   "id": "d6b1b3d5",
   "metadata": {},
   "outputs": [],
   "source": [
    "trans_mask"
   ]
  },
  {
   "cell_type": "code",
   "execution_count": null,
   "id": "942e2de2",
   "metadata": {},
   "outputs": [],
   "source": [
    "decoder_input['trans_mask'].squeeze(-1)[label_mask]"
   ]
  },
  {
   "cell_type": "code",
   "execution_count": null,
   "id": "0a04f672",
   "metadata": {},
   "outputs": [],
   "source": [
    "label[label_mask]"
   ]
  },
  {
   "cell_type": "code",
   "execution_count": null,
   "id": "40fd70be",
   "metadata": {},
   "outputs": [],
   "source": [
    "output[label_mask]"
   ]
  },
  {
   "cell_type": "code",
   "execution_count": null,
   "id": "ce5742d9",
   "metadata": {},
   "outputs": [],
   "source": [
    "loss"
   ]
  },
  {
   "cell_type": "code",
   "execution_count": null,
   "id": "98862ca4",
   "metadata": {},
   "outputs": [],
   "source": [
    "total_step = 1\n",
    "for epoch in range(0, 40):\n",
    "    print('new epoch')\n",
    "    for encoder_input, decoder_input, graph_probability, label, label_mask in dl:\n",
    "        if total_step%100 == 1: loss_cum = 0\n",
    "        elif total_step%100 == 0 and total_step != 0: yield loss_cum/100, total_step\n",
    "        optimizer.zero_grad()\n",
    "        with autocast():\n",
    "            output = model(encoder_input=encoder_input, decoder_input=decoder_input, graph_probability=graph_probability)\n",
    "            output = output.log_softmax(-1)\n",
    "            loss = loss_fn(output[label_mask],label[label_mask])\n",
    "        break\n",
    "        assert loss.item()!=float('nan')\n",
    "        loss_cum += loss\n",
    "        scaler.scale(loss).backward()\n",
    "        scaler.step(optimizer)\n",
    "        scaler.update()\n",
    "        total_step += 1"
   ]
  },
  {
   "cell_type": "code",
   "execution_count": null,
   "id": "b988ff87",
   "metadata": {},
   "outputs": [],
   "source": [
    "a=train(dl,loss_fn,optimizer,scaler,model)"
   ]
  },
  {
   "cell_type": "code",
   "execution_count": null,
   "id": "bd9e8c7b",
   "metadata": {},
   "outputs": [],
   "source": [
    "for loss_average, total_step in a:\n",
    "    print(total_step, loss_average.item())"
   ]
  },
  {
   "cell_type": "code",
   "execution_count": null,
   "id": "19927814",
   "metadata": {},
   "outputs": [],
   "source": [
    "for encoder_input, decoder_input, graph_probability, label, label_mask in dl:\n",
    "    break"
   ]
  },
  {
   "cell_type": "code",
   "execution_count": null,
   "id": "646909f7",
   "metadata": {},
   "outputs": [],
   "source": [
    "graph_probability.shape"
   ]
  },
  {
   "cell_type": "code",
   "execution_count": null,
   "id": "893f0aad",
   "metadata": {},
   "outputs": [],
   "source": [
    "decoder_input['trans_mask'].shape"
   ]
  },
  {
   "cell_type": "code",
   "execution_count": null,
   "id": "119c55db",
   "metadata": {},
   "outputs": [],
   "source": [
    "label_mask.sum()"
   ]
  },
  {
   "cell_type": "code",
   "execution_count": null,
   "id": "8b1e7b0f",
   "metadata": {},
   "outputs": [],
   "source": [
    "a=train(dl,loss_fn,optimizer,scaler,model)"
   ]
  },
  {
   "cell_type": "code",
   "execution_count": null,
   "id": "6d12911c",
   "metadata": {},
   "outputs": [],
   "source": [
    "for loss, total_step in a:\n",
    "    #loss, total_step = next(a)\n",
    "    print(loss, total_step)"
   ]
  },
  {
   "cell_type": "code",
   "execution_count": null,
   "id": "ae4c47b0",
   "metadata": {},
   "outputs": [],
   "source": [
    "model.state_dict()"
   ]
  },
  {
   "cell_type": "code",
   "execution_count": null,
   "id": "d898841b",
   "metadata": {},
   "outputs": [],
   "source": [
    "for encoder_input, decoder_input, graph_probability, label, label_mask in dl:\n",
    "    break"
   ]
  },
  {
   "cell_type": "code",
   "execution_count": null,
   "id": "3a3c4101",
   "metadata": {},
   "outputs": [],
   "source": [
    "with autocast():\n",
    "    output = model(encoder_input=encoder_input, decoder_input=decoder_input, graph_probability=graph_probability)\n",
    "    output = output.log_softmax(-1)\n",
    "    loss = loss_fn(output[label_mask],label[label_mask])"
   ]
  },
  {
   "cell_type": "code",
   "execution_count": null,
   "id": "c8e62ffd",
   "metadata": {},
   "outputs": [],
   "source": [
    "loss"
   ]
  },
  {
   "cell_type": "code",
   "execution_count": null,
   "id": "c2472dbf",
   "metadata": {},
   "outputs": [],
   "source": [
    "import os"
   ]
  },
  {
   "cell_type": "code",
   "execution_count": null,
   "id": "98b67678",
   "metadata": {},
   "outputs": [],
   "source": [
    "if os.('/home/z37mao/genova/save'):\n",
    "    print('kfjsadlkf')"
   ]
  },
  {
   "cell_type": "code",
   "execution_count": null,
   "id": "4834e563",
   "metadata": {},
   "outputs": [],
   "source": [
    "os.path.exists(os.path.join('/home/z37mao/genova/save','fjklsfj.pt'))"
   ]
  },
  {
   "cell_type": "code",
   "execution_count": null,
   "id": "3d49c741",
   "metadata": {},
   "outputs": [],
   "source": [
    "torch.save({'model_state_dict': model.state_dict(),\n",
    "            'optimizer_state_dict': optimizer.state_dict()}, '/home/z37mao/genova/save/test.pt')"
   ]
  },
  {
   "cell_type": "code",
   "execution_count": null,
   "id": "9af1643c",
   "metadata": {},
   "outputs": [],
   "source": [
    "torch.load('/home/z37mao/genova/save/test.pt')"
   ]
  },
  {
   "cell_type": "code",
   "execution_count": null,
   "id": "05570072",
   "metadata": {},
   "outputs": [],
   "source": [
    "DDP(model,device_ids=[0])"
   ]
  },
  {
   "cell_type": "code",
   "execution_count": null,
   "id": "41f9296e",
   "metadata": {},
   "outputs": [],
   "source": [
    "for encoder_input, decoder_input, graph_probability, label, label_mask in dl:\n",
    "    break"
   ]
  },
  {
   "cell_type": "code",
   "execution_count": null,
   "id": "cc32a220",
   "metadata": {},
   "outputs": [],
   "source": [
    "encoder_input['path_input']['dist'][0]"
   ]
  },
  {
   "cell_type": "code",
   "execution_count": null,
   "id": "31164b92",
   "metadata": {},
   "outputs": [],
   "source": [
    "ds[spec_header.index[0]][0]"
   ]
  },
  {
   "cell_type": "code",
   "execution_count": null,
   "id": "617d7b15",
   "metadata": {},
   "outputs": [],
   "source": [
    "from itertools import combinations_with_replacement\n",
    "all_edge_mass = []\n",
    "aalist = Residual_seq.output_aalist()\n",
    "for num in range(1,7):\n",
    "    for i in combinations_with_replacement(aalist,num):\n",
    "        all_edge_mass.append(Residual_seq(i).mass)\n",
    "all_edge_mass = np.unique(np.array(all_edge_mass))"
   ]
  },
  {
   "cell_type": "code",
   "execution_count": null,
   "id": "737c15db",
   "metadata": {},
   "outputs": [],
   "source": [
    "from itertools import combinations_with_replacement\n",
    "aa_datablock_dict = {}\n",
    "aalist = Residual_seq.output_aalist()\n",
    "for num in range(1,7):\n",
    "    for i in combinations_with_replacement(aalist,num):\n",
    "        aa_datablock_dict[i] = Residual_seq(i).mass"
   ]
  },
  {
   "cell_type": "code",
   "execution_count": null,
   "id": "a7beae5b",
   "metadata": {},
   "outputs": [],
   "source": [
    "max(aa_datablock_dict.values())"
   ]
  },
  {
   "cell_type": "code",
   "execution_count": null,
   "id": "bf5a98cd",
   "metadata": {},
   "outputs": [],
   "source": [
    "spec = ds[spec_header.index[0]]"
   ]
  },
  {
   "cell_type": "code",
   "execution_count": null,
   "id": "bfee0a58",
   "metadata": {},
   "outputs": [],
   "source": [
    "node_num = spec['node_mass'].size"
   ]
  },
  {
   "cell_type": "code",
   "execution_count": null,
   "id": "e8cd5c6c",
   "metadata": {},
   "outputs": [],
   "source": [
    "edge_mask = torch.zeros(node_num,node_num,dtype=bool)\n",
    "for x,y in enumerate(spec['node_mass'].searchsorted(spec['node_mass']+all_edge_mass[-1]+0.04)):\n",
    "    edge_mask[x,y:] = 1"
   ]
  },
  {
   "cell_type": "code",
   "execution_count": null,
   "id": "a922a253",
   "metadata": {},
   "outputs": [],
   "source": [
    "edge_mask = torch.logical_or(edge_mask,spec['rel_input']['dist']!=0)"
   ]
  },
  {
   "cell_type": "code",
   "execution_count": null,
   "id": "c4b3a56d",
   "metadata": {},
   "outputs": [],
   "source": [
    "edge_mask"
   ]
  },
  {
   "cell_type": "code",
   "execution_count": null,
   "id": "40464b9d",
   "metadata": {},
   "outputs": [],
   "source": [
    "b=(graph_label@edge_mask.int()).bool()"
   ]
  },
  {
   "cell_type": "code",
   "execution_count": null,
   "id": "39c28b25",
   "metadata": {},
   "outputs": [],
   "source": [
    "b"
   ]
  },
  {
   "cell_type": "code",
   "execution_count": null,
   "id": "12742fd0",
   "metadata": {},
   "outputs": [],
   "source": [
    "torch.where(b,0.0,-float('inf'))"
   ]
  },
  {
   "cell_type": "code",
   "execution_count": null,
   "id": "6d6e55cb",
   "metadata": {},
   "outputs": [],
   "source": [
    "graph_label = spec['graph_label'].T"
   ]
  },
  {
   "cell_type": "code",
   "execution_count": null,
   "id": "c060c3ae",
   "metadata": {},
   "outputs": [],
   "source": [
    "graph_label = graph_label[torch.any(graph_label,-1)]"
   ]
  },
  {
   "cell_type": "code",
   "execution_count": null,
   "id": "9a152024",
   "metadata": {},
   "outputs": [],
   "source": [
    "graph_label"
   ]
  },
  {
   "cell_type": "code",
   "execution_count": null,
   "id": "5a8866ec",
   "metadata": {},
   "outputs": [],
   "source": [
    "spec['graph_label'].bool().T"
   ]
  },
  {
   "cell_type": "code",
   "execution_count": null,
   "id": "52a637bc",
   "metadata": {},
   "outputs": [],
   "source": [
    "a='node'"
   ]
  },
  {
   "cell_type": "code",
   "execution_count": null,
   "id": "867eec68",
   "metadata": {},
   "outputs": [],
   "source": [
    "c=None"
   ]
  },
  {
   "cell_type": "code",
   "execution_count": null,
   "id": "c8df7bc6",
   "metadata": {},
   "outputs": [],
   "source": [
    "assert c or a=='node'"
   ]
  },
  {
   "cell_type": "code",
   "execution_count": null,
   "id": "6774b417",
   "metadata": {},
   "outputs": [],
   "source": []
  }
 ],
 "metadata": {
  "kernelspec": {
   "display_name": "genova_torch",
   "language": "python",
   "name": "genova_torch"
  },
  "language_info": {
   "codemirror_mode": {
    "name": "ipython",
    "version": 3
   },
   "file_extension": ".py",
   "mimetype": "text/x-python",
   "name": "python",
   "nbconvert_exporter": "python",
   "pygments_lexer": "ipython3",
   "version": "3.9.7"
  }
 },
 "nbformat": 4,
 "nbformat_minor": 5
}
