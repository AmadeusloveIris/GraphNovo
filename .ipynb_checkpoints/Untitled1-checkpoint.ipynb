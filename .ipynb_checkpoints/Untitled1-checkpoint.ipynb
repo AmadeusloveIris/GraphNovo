{
 "cells": [
  {
   "cell_type": "code",
   "execution_count": 1,
   "id": "956aa111",
   "metadata": {},
   "outputs": [],
   "source": [
    "import json\n",
    "import torch\n",
    "import genova\n",
    "from datetime import datetime\n",
    "import numpy as np\n",
    "import pandas as pd\n",
    "from omegaconf import OmegaConf\n",
    "from torch.utils.data import DataLoader\n",
    "from genova.utils.BasicClass import Residual_seq\n",
    "from torch.cuda.amp import autocast as autocast\n",
    "from torch.cuda.amp import GradScaler as GradScaler\n",
    "import torch.nn as nn\n",
    "import torch.optim as optim"
   ]
  },
  {
   "cell_type": "code",
   "execution_count": 2,
   "id": "d4a22bee",
   "metadata": {},
   "outputs": [],
   "source": [
    "with open('genova/utils/dictionary') as f:\n",
    "    dictionary = json.load(f)"
   ]
  },
  {
   "cell_type": "code",
   "execution_count": 3,
   "id": "9890863f",
   "metadata": {},
   "outputs": [],
   "source": [
    "cfg = OmegaConf.load('configs/genova_dda_light.yaml')\n",
    "spec_header = pd.read_csv('/data/z37mao/genova/pretrain_data_sparse/genova_psm.csv',index_col='index')\n",
    "spec_header = spec_header[np.logical_or(spec_header['Experiment Name']=='Cerebellum',spec_header['Experiment Name']=='HeLa')]\n",
    "#spec_header = spec_header[spec_header['Node Number']<=512]\n",
    "#spec_header = spec_header[spec_header['path_matrix_dense_num']<=1e6]\n",
    "small_spec = spec_header[spec_header['Node Number']<=256]\n",
    "dataset = genova.data.GenovaDataset(cfg,dictionary=dictionary,spec_header=small_spec,dataset_dir_path='/data/z37mao/genova/pretrain_data_sparse/')\n",
    "collate_fn  = genova.data.GenovaCollator(cfg,mode='train')\n",
    "dl = DataLoader(dataset,batch_size=4,collate_fn=collate_fn,num_workers=4,shuffle=True)"
   ]
  },
  {
   "cell_type": "code",
   "execution_count": 4,
   "id": "b58e3666",
   "metadata": {},
   "outputs": [],
   "source": [
    "model = genova.models.Genova(cfg).cuda()\n",
    "loss_fn = nn.CrossEntropyLoss()\n",
    "optimizer = optim.AdamW(model.parameters(),lr=1e-5)\n",
    "scaler = GradScaler()\n",
    "#checkpoint = torch.load('save/model.pt')\n",
    "#model.load_state_dict(checkpoint['model_state_dict'])\n",
    "#optimizer.load_state_dict(checkpoint['optimizer_state_dict'])"
   ]
  },
  {
   "cell_type": "code",
   "execution_count": 5,
   "id": "833adc4f",
   "metadata": {},
   "outputs": [],
   "source": [
    "def encoder_input_cuda(encoder_input):\n",
    "    for section_key in encoder_input:\n",
    "        for key in encoder_input[section_key]:\n",
    "            if isinstance(encoder_input[section_key][key],torch.Tensor):\n",
    "                encoder_input[section_key][key] = encoder_input[section_key][key].cuda()\n",
    "    return encoder_input\n",
    "\n",
    "def decoder_input_cuda(decoder_input):\n",
    "    for key in decoder_input:\n",
    "        if isinstance(decoder_input[key],torch.Tensor):\n",
    "            decoder_input[key] = decoder_input[key].cuda()\n",
    "    return decoder_input"
   ]
  },
  {
   "cell_type": "code",
   "execution_count": null,
   "id": "c46965fc",
   "metadata": {},
   "outputs": [
    {
     "name": "stdout",
     "output_type": "stream",
     "text": [
      "2.945377013683319\n",
      "2.756175673007965\n",
      "2.5744961524009704\n",
      "2.522887713909149\n",
      "2.4932640194892883\n",
      "2.469462194442749\n",
      "2.474999210834503\n",
      "2.4739758920669557\n",
      "2.458248772621155\n",
      "2.491481537818909\n",
      "2.4509156107902528\n",
      "2.462229964733124\n",
      "2.455927391052246\n",
      "2.451265037059784\n",
      "2.4515697526931763\n",
      "2.4565942072868348\n"
     ]
    }
   ],
   "source": [
    "loss_detect = 0\n",
    "detect_period = 200\n",
    "for epoch in range(5):\n",
    "    for i, (encoder_input, decoder_input, labels) in enumerate(dl,start=1):\n",
    "        encoder_input = encoder_input_cuda(encoder_input)\n",
    "        decoder_input = decoder_input_cuda(decoder_input)\n",
    "        labels = labels.cuda()\n",
    "        optimizer.zero_grad()\n",
    "        with autocast():\n",
    "            output = model(encoder_input=encoder_input,decoder_input=decoder_input)\n",
    "            loss = loss_fn(output[labels!=0],labels[labels!=0])\n",
    "        loss_detect+=loss.item()\n",
    "        if i%detect_period==0:\n",
    "            print(loss_detect/detect_period)\n",
    "            loss_detect = 0\n",
    "        if i%10000==0:\n",
    "            torch.save({'model_state_dict':model.state_dict(),\n",
    "                        'optim_state_dict':optimizer.state_dict()},\n",
    "                       'save/model_large_{}.pt'.format(datetime.strftime(datetime.now(),'%Y-%m-%d_%H-%M')))\n",
    "        scaler.scale(loss).backward()\n",
    "        scaler.step(optimizer)\n",
    "        scaler.update()"
   ]
  },
  {
   "cell_type": "code",
   "execution_count": null,
   "id": "bbbbed45",
   "metadata": {},
   "outputs": [],
   "source": [
    "model = genova.models.Genova(cfg).cuda()\n",
    "checkpoint = torch.load('save/model.pt')\n",
    "loss_fn = nn.CrossEntropyLoss()\n",
    "model.load_state_dict(checkpoint['model_state_dict'])"
   ]
  },
  {
   "cell_type": "code",
   "execution_count": null,
   "id": "759b0085",
   "metadata": {},
   "outputs": [],
   "source": [
    "loss_detect = 0\n",
    "recall_detect = 0\n",
    "for i, (encoder_input, decoder_input, labels) in enumerate(dl,start=1):\n",
    "    encoder_input = encoder_input_cuda(encoder_input)\n",
    "    decoder_input = decoder_input_cuda(decoder_input)\n",
    "    labels = labels.cuda()\n",
    "    with torch.no_grad() and autocast():\n",
    "        output = model(encoder_input=encoder_input,decoder_input=decoder_input)\n",
    "        loss = loss_fn(output[labels!=0],labels[labels!=0])\n",
    "        recall = (torch.argmax(output[labels!=0],-1)==labels[labels!=0]).sum()/labels[labels!=0].shape[0]\n",
    "    loss_detect+=loss.item()\n",
    "    recall_detect+=recall.item()\n",
    "    if i==2000: break"
   ]
  },
  {
   "cell_type": "code",
   "execution_count": null,
   "id": "72dc9626",
   "metadata": {},
   "outputs": [],
   "source": [
    "print(loss_detect/i,recall_detect/i)"
   ]
  },
  {
   "cell_type": "code",
   "execution_count": null,
   "id": "7f7900bb",
   "metadata": {},
   "outputs": [],
   "source": []
  }
 ],
 "metadata": {
  "kernelspec": {
   "display_name": "genova_torch",
   "language": "python",
   "name": "genova_torch"
  },
  "language_info": {
   "codemirror_mode": {
    "name": "ipython",
    "version": 3
   },
   "file_extension": ".py",
   "mimetype": "text/x-python",
   "name": "python",
   "nbconvert_exporter": "python",
   "pygments_lexer": "ipython3",
   "version": "3.9.7"
  }
 },
 "nbformat": 4,
 "nbformat_minor": 5
}
