{
 "cells": [
  {
   "cell_type": "code",
   "execution_count": 1,
   "id": "1d55aa7e",
   "metadata": {},
   "outputs": [],
   "source": [
    "import hydra\n",
    "import wandb\n",
    "import torch\n",
    "from torch.cuda.amp import autocast\n",
    "from torch.cuda.amp import GradScaler\n",
    "import genova\n",
    "import numpy as np\n",
    "import pandas as pd\n",
    "from omegaconf import OmegaConf, open_dict\n",
    "from genova.utils.BasicClass import Residual_seq\n",
    "from torch.utils.data import DataLoader"
   ]
  },
  {
   "cell_type": "code",
   "execution_count": 2,
   "id": "0c0f0bce",
   "metadata": {},
   "outputs": [],
   "source": [
    "hydra.initialize('configs')\n",
    "cfg = hydra.compose('config.yaml')\n",
    "with open_dict(cfg):\n",
    "    cfg.task = 'optimum_path'"
   ]
  },
  {
   "cell_type": "code",
   "execution_count": 3,
   "id": "8ff5bc04",
   "metadata": {},
   "outputs": [],
   "source": [
    "spec_header = pd.read_csv('/home/z37mao/genova_dataset_index.csv',low_memory=False,index_col='Spec Index')\n",
    "spec_header = spec_header[spec_header['MSGP File Name']=='1_3.msgp']\n",
    "#spec_header = spec_header[spec_header['Node Number']<=512]"
   ]
  },
  {
   "cell_type": "code",
   "execution_count": 4,
   "id": "e68b88c4",
   "metadata": {},
   "outputs": [],
   "source": [
    "model = genova.models.Genova(cfg).to('cuda')\n",
    "ds = genova.data.GenovaDataset(cfg,spec_header=spec_header,dataset_dir_path='/home/z37mao/')\n",
    "sampler = genova.data.GenovaBatchSampler(cfg,'cuda',0.95,spec_header,[0,128,256,512], model)\n",
    "collate_fn = genova.data.GenovaCollator(cfg)\n",
    "dl = DataLoader(ds, batch_sampler=sampler, collate_fn=collate_fn, pin_memory=True, num_workers=4, prefetch_factor=4)\n",
    "dl = genova.data.DataPrefetcher(dl,'cuda')\n",
    "loss_fn = torch.nn.KLDivLoss(reduction='batchmean')\n",
    "optimizer = torch.optim.Adam(model.parameters(),lr=2e-4)\n",
    "scaler = GradScaler()"
   ]
  },
  {
   "cell_type": "code",
   "execution_count": 5,
   "id": "a933e6d5",
   "metadata": {},
   "outputs": [],
   "source": [
    "def train(dl,loss_fn,optimizer,scaler,model):\n",
    "    total_step = 1\n",
    "    for epoch in range(0, 40):\n",
    "        print('new epoch')\n",
    "        for encoder_input, decoder_input, graph_probability, label, label_mask in dl:\n",
    "            if total_step%100 == 1: loss_cum = 0\n",
    "            elif total_step%100 == 0 and total_step != 0: yield loss_cum/100, total_step\n",
    "            optimizer.zero_grad()\n",
    "            with autocast():\n",
    "                output = model(encoder_input=encoder_input, decoder_input=decoder_input, graph_probability=graph_probability)\n",
    "                output = output.log_softmax(-1)\n",
    "                loss = loss_fn(output[label_mask],label[label_mask])\n",
    "            assert loss.item()!=float('nan')\n",
    "            loss_cum += loss.item()\n",
    "            scaler.scale(loss).backward()\n",
    "            scaler.step(optimizer)\n",
    "            scaler.update()\n",
    "            total_step += 1"
   ]
  },
  {
   "cell_type": "code",
   "execution_count": 6,
   "id": "8b1e7b0f",
   "metadata": {},
   "outputs": [],
   "source": [
    "a=train(dl,loss_fn,optimizer,scaler,model)"
   ]
  },
  {
   "cell_type": "code",
   "execution_count": null,
   "id": "6d12911c",
   "metadata": {},
   "outputs": [
    {
     "name": "stdout",
     "output_type": "stream",
     "text": [
      "new epoch\n",
      "3.5507740998268127 100\n",
      "2.5701814818382265 200\n",
      "2.451424291133881 300\n",
      "2.3095486307144166 400\n",
      "2.058634560108185 500\n",
      "new epoch\n",
      "2.1135887134075166 600\n",
      "2.1388607692718504 700\n",
      "2.0987807536125183 800\n",
      "2.11384706735611 900\n",
      "2.1082447481155397 1000\n",
      "2.0386118972301484 1100\n",
      "new epoch\n",
      "2.049446624517441 1200\n",
      "2.047368302345276 1300\n",
      "2.002882659435272 1400\n",
      "2.041422873735428 1500\n",
      "2.0184627091884613 1600\n",
      "new epoch\n",
      "1.9236434638500213 1700\n",
      "1.9879311096668244 1800\n",
      "1.9574641633033751 1900\n",
      "2.068376977443695 2000\n",
      "1.913192287683487 2100\n",
      "1.899888870716095 2200\n",
      "new epoch\n",
      "2.026212674379349 2300\n",
      "1.8480445039272309 2400\n",
      "1.9620160698890685 2500\n",
      "1.995361157655716 2600\n",
      "1.9354383969306945 2700\n",
      "1.980180379152298 2800\n",
      "new epoch\n",
      "1.8846852684020996 2900\n",
      "1.870929878950119 3000\n",
      "1.9276260113716126 3100\n",
      "1.8680173552036285 3200\n",
      "1.9122110176086426 3300\n",
      "new epoch\n",
      "1.9589819991588593 3400\n",
      "1.8494812154769897 3500\n",
      "1.8488487565517426 3600\n",
      "1.9164234125614166 3700\n",
      "1.9303339445590972 3800\n",
      "1.9521107399463653 3900\n",
      "new epoch\n",
      "1.8374666631221772 4000\n",
      "1.8648041534423827 4100\n",
      "1.8713345623016358 4200\n",
      "1.9298896014690399 4300\n",
      "1.849554923772812 4400\n",
      "1.7598419392108917 4500\n",
      "new epoch\n",
      "1.8450145089626313 4600\n",
      "1.8063624095916748 4700\n",
      "1.8151591861248015 4800\n",
      "1.8642393577098846 4900\n",
      "1.8292958092689515 5000\n",
      "new epoch\n",
      "1.7971050667762756 5100\n",
      "1.7055059719085692 5200\n",
      "1.7004755187034606 5300\n",
      "1.8519917976856233 5400\n",
      "1.8021542704105378 5500\n",
      "1.7691450560092925 5600\n",
      "new epoch\n",
      "1.7362797093391418 5700\n",
      "1.653553671836853 5800\n",
      "1.7074134945869446 5900\n",
      "1.6950396597385406 6000\n",
      "1.628658242225647 6100\n",
      "new epoch\n",
      "1.492479653954506 6200\n",
      "1.3672721964120864 6300\n",
      "1.3429652374982834 6400\n",
      "1.3269436663389207 6500\n",
      "1.3160296255350112 6600\n"
     ]
    }
   ],
   "source": [
    "for loss, total_step in a:\n",
    "    #loss, total_step = next(a)\n",
    "    print(loss, total_step)"
   ]
  },
  {
   "cell_type": "code",
   "execution_count": null,
   "id": "ae4c47b0",
   "metadata": {},
   "outputs": [],
   "source": []
  }
 ],
 "metadata": {
  "kernelspec": {
   "display_name": "genova_torch",
   "language": "python",
   "name": "genova_torch"
  },
  "language_info": {
   "codemirror_mode": {
    "name": "ipython",
    "version": 3
   },
   "file_extension": ".py",
   "mimetype": "text/x-python",
   "name": "python",
   "nbconvert_exporter": "python",
   "pygments_lexer": "ipython3",
   "version": "3.9.7"
  }
 },
 "nbformat": 4,
 "nbformat_minor": 5
}
