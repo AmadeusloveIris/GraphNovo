{
 "cells": [
  {
   "cell_type": "code",
   "execution_count": 1,
   "id": "1d55aa7e",
   "metadata": {},
   "outputs": [],
   "source": [
    "import genova\n",
    "import numpy as np\n",
    "import pandas as pd\n",
    "from omegaconf import OmegaConf"
   ]
  },
  {
   "cell_type": "code",
   "execution_count": 2,
   "id": "8ff5bc04",
   "metadata": {},
   "outputs": [],
   "source": [
    "spec_header = pd.read_csv('/home/z37mao/genova_dataset_index.csv',low_memory=False,index_col='Spec Index')\n",
    "spec_header = spec_header[spec_header['MSGP File Name']=='1_3.msgp']"
   ]
  },
  {
   "cell_type": "code",
   "execution_count": 3,
   "id": "8d35b53d",
   "metadata": {},
   "outputs": [],
   "source": [
    "cfg = OmegaConf.load('configs/genova_dda_light.yaml')"
   ]
  },
  {
   "cell_type": "code",
   "execution_count": 169,
   "id": "cdda5a63",
   "metadata": {},
   "outputs": [],
   "source": [
    "import os\n",
    "import gzip\n",
    "import torch\n",
    "import pickle\n",
    "from torch.utils.data import Dataset\n",
    "\n",
    "class GenovaDataset(Dataset):\n",
    "    def __init__(self, cfg, *, spec_header, dataset_dir_path):\n",
    "        super().__init__()\n",
    "        self.cfg = cfg\n",
    "        self.spec_header = spec_header\n",
    "        self.dataset_dir_path = dataset_dir_path\n",
    "\n",
    "    def __getitem__(self, idx):\n",
    "        if torch.is_tensor(idx): idx = idx.tolist()\n",
    "        spec_head = dict(self.spec_header.loc[idx])\n",
    "        with open(os.path.join(self.dataset_dir_path, spec_head['MSGP File Name']), 'rb') as f:\n",
    "            f.seek(spec_head['MSGP Datablock Pointer'])\n",
    "            spec = pickle.loads(gzip.decompress(f.read(spec_head['MSGP Datablock Length'])))\n",
    "\n",
    "        spec['node_input']['charge'] = spec_head['Charge']\n",
    "        seq = spec_head['Annotated Sequence']\n",
    "        #spec.pop('node_mass')\n",
    "        if self.cfg.task == 'node_classification':\n",
    "            spec['graph_label'] = torch.any(spec['graph_label'], -1).long()\n",
    "            return spec\n",
    "        \n",
    "        elif self.cfg.task == 'optimum path sequence':\n",
    "            raise NotImplementedError\n",
    "            \n",
    "        elif self.cfg.task == 'sequence generation':\n",
    "            target = {}\n",
    "            target['tgt'] = seq[:-1]\n",
    "            target['memory_mask'] = self.trans_mask_sequence_generation(seq)\n",
    "            return spec, target\n",
    "        \n",
    "        elif self.cfg.task == 'optimum path':\n",
    "            graph_label = spec.pop('graph_label').T\n",
    "            graph_propobility = graph_label/torch.where(graph_label.sum(-1)==0,1,graph_label.sum(-1)).unsqueeze(1)\n",
    "            graph_propobility = graph_propobility[torch.any(graph_label,-1)]\n",
    "            return spec, graph_label\n",
    "            \n",
    "            \n",
    "        #spec['graph_label'] = torch.any(spec['graph_label'], -1).long()\n",
    "        return spec, target\n",
    "\n",
    "    def trans_mask_sequence_generation(self,seq):\n",
    "        seq_mass = genova.utils.BasicClass.Residual_seq(seq[:-1].replace('L','I')).step_mass-0.02\n",
    "        memory_mask = np.zeros((seq_mass.size+1,spec['node_mass'].size))\n",
    "        for i, board in enumerate(spec['node_mass'].searchsorted(seq_mass),start=1):\n",
    "            memory_mask[i,:board] = -float('inf')\n",
    "        memory_mask = np.repeat(memory_mask[np.newaxis],self.cfg.decoder.num_heads,axis=0)\n",
    "        return memory_mask\n",
    "    \n",
    "    def __len__(self):\n",
    "        return len(self.spec_header)"
   ]
  },
  {
   "cell_type": "code",
   "execution_count": 171,
   "id": "9346c06a",
   "metadata": {},
   "outputs": [],
   "source": [
    "ds = GenovaDataset(cfg,spec_header=spec_header,dataset_dir_path='/home/z37mao/')"
   ]
  },
  {
   "cell_type": "code",
   "execution_count": 170,
   "id": "43412dad",
   "metadata": {},
   "outputs": [],
   "source": [
    "cfg.task = 'optimum path sequence'"
   ]
  },
  {
   "cell_type": "code",
   "execution_count": 172,
   "id": "5154ab8b",
   "metadata": {},
   "outputs": [
    {
     "ename": "NotImplementedError",
     "evalue": "",
     "output_type": "error",
     "traceback": [
      "\u001b[0;31m---------------------------------------------------------------------------\u001b[0m",
      "\u001b[0;31mNotImplementedError\u001b[0m                       Traceback (most recent call last)",
      "\u001b[0;32m/tmp/ipykernel_3318289/744955341.py\u001b[0m in \u001b[0;36m<module>\u001b[0;34m\u001b[0m\n\u001b[0;32m----> 1\u001b[0;31m \u001b[0mspec\u001b[0m\u001b[0;34m,\u001b[0m \u001b[0mseq\u001b[0m \u001b[0;34m=\u001b[0m \u001b[0mds\u001b[0m\u001b[0;34m[\u001b[0m\u001b[0;34m'Cerebellum:F12.2:11100'\u001b[0m\u001b[0;34m]\u001b[0m\u001b[0;34m\u001b[0m\u001b[0;34m\u001b[0m\u001b[0m\n\u001b[0m",
      "\u001b[0;32m/tmp/ipykernel_3318289/3448194523.py\u001b[0m in \u001b[0;36m__getitem__\u001b[0;34m(self, idx)\u001b[0m\n\u001b[1;32m     26\u001b[0m             \u001b[0;32mreturn\u001b[0m \u001b[0mspec\u001b[0m\u001b[0;34m\u001b[0m\u001b[0;34m\u001b[0m\u001b[0m\n\u001b[1;32m     27\u001b[0m         \u001b[0;32melif\u001b[0m \u001b[0mself\u001b[0m\u001b[0;34m.\u001b[0m\u001b[0mcfg\u001b[0m\u001b[0;34m.\u001b[0m\u001b[0mtask\u001b[0m \u001b[0;34m==\u001b[0m \u001b[0;34m'optimum path sequence'\u001b[0m\u001b[0;34m:\u001b[0m\u001b[0;34m\u001b[0m\u001b[0;34m\u001b[0m\u001b[0m\n\u001b[0;32m---> 28\u001b[0;31m             \u001b[0;32mraise\u001b[0m \u001b[0mNotImplementedError\u001b[0m\u001b[0;34m\u001b[0m\u001b[0;34m\u001b[0m\u001b[0m\n\u001b[0m\u001b[1;32m     29\u001b[0m \u001b[0;34m\u001b[0m\u001b[0m\n\u001b[1;32m     30\u001b[0m         \u001b[0;32melif\u001b[0m \u001b[0mself\u001b[0m\u001b[0;34m.\u001b[0m\u001b[0mcfg\u001b[0m\u001b[0;34m.\u001b[0m\u001b[0mtask\u001b[0m \u001b[0;34m==\u001b[0m \u001b[0;34m'sequence generation'\u001b[0m\u001b[0;34m:\u001b[0m\u001b[0;34m\u001b[0m\u001b[0;34m\u001b[0m\u001b[0m\n",
      "\u001b[0;31mNotImplementedError\u001b[0m: "
     ]
    }
   ],
   "source": [
    "spec, seq = ds['Cerebellum:F12.2:11100']"
   ]
  },
  {
   "cell_type": "code",
   "execution_count": 151,
   "id": "07cae90d",
   "metadata": {},
   "outputs": [],
   "source": [
    "graph_label = spec['graph_label'].T\n",
    "graph_propobility = graph_label/torch.where(graph_label.sum(-1)==0,1,graph_label.sum(-1)).unsqueeze(1)\n",
    "graph_propobility = graph_propobility[torch.any(graph_label,-1)]"
   ]
  },
  {
   "cell_type": "code",
   "execution_count": 152,
   "id": "b7ad7b36",
   "metadata": {},
   "outputs": [
    {
     "data": {
      "text/plain": [
       "tensor([[1.0000, 0.0000, 0.0000, 0.0000, 0.0000, 0.0000, 0.0000, 0.0000, 0.0000,\n",
       "         0.0000, 0.0000, 0.0000, 0.0000, 0.0000, 0.0000, 0.0000, 0.0000, 0.0000,\n",
       "         0.0000, 0.0000, 0.0000, 0.0000, 0.0000, 0.0000, 0.0000, 0.0000, 0.0000,\n",
       "         0.0000, 0.0000, 0.0000, 0.0000, 0.0000, 0.0000, 0.0000, 0.0000, 0.0000,\n",
       "         0.0000, 0.0000, 0.0000, 0.0000, 0.0000, 0.0000, 0.0000, 0.0000, 0.0000,\n",
       "         0.0000, 0.0000, 0.0000, 0.0000, 0.0000, 0.0000, 0.0000, 0.0000, 0.0000,\n",
       "         0.0000, 0.0000, 0.0000, 0.0000, 0.0000, 0.0000, 0.0000, 0.0000, 0.0000,\n",
       "         0.0000, 0.0000, 0.0000, 0.0000, 0.0000, 0.0000, 0.0000, 0.0000, 0.0000,\n",
       "         0.0000, 0.0000, 0.0000, 0.0000, 0.0000, 0.0000, 0.0000, 0.0000, 0.0000,\n",
       "         0.0000, 0.0000, 0.0000, 0.0000, 0.0000, 0.0000, 0.0000, 0.0000, 0.0000,\n",
       "         0.0000, 0.0000, 0.0000, 0.0000],\n",
       "        [0.0000, 0.0000, 0.0000, 0.0000, 0.0000, 0.0000, 0.0000, 0.0000, 0.0000,\n",
       "         0.0000, 0.3333, 0.3333, 0.3333, 0.0000, 0.0000, 0.0000, 0.0000, 0.0000,\n",
       "         0.0000, 0.0000, 0.0000, 0.0000, 0.0000, 0.0000, 0.0000, 0.0000, 0.0000,\n",
       "         0.0000, 0.0000, 0.0000, 0.0000, 0.0000, 0.0000, 0.0000, 0.0000, 0.0000,\n",
       "         0.0000, 0.0000, 0.0000, 0.0000, 0.0000, 0.0000, 0.0000, 0.0000, 0.0000,\n",
       "         0.0000, 0.0000, 0.0000, 0.0000, 0.0000, 0.0000, 0.0000, 0.0000, 0.0000,\n",
       "         0.0000, 0.0000, 0.0000, 0.0000, 0.0000, 0.0000, 0.0000, 0.0000, 0.0000,\n",
       "         0.0000, 0.0000, 0.0000, 0.0000, 0.0000, 0.0000, 0.0000, 0.0000, 0.0000,\n",
       "         0.0000, 0.0000, 0.0000, 0.0000, 0.0000, 0.0000, 0.0000, 0.0000, 0.0000,\n",
       "         0.0000, 0.0000, 0.0000, 0.0000, 0.0000, 0.0000, 0.0000, 0.0000, 0.0000,\n",
       "         0.0000, 0.0000, 0.0000, 0.0000],\n",
       "        [0.0000, 0.0000, 0.0000, 0.0000, 0.0000, 0.0000, 0.0000, 0.0000, 0.0000,\n",
       "         0.0000, 0.0000, 0.0000, 0.0000, 0.0000, 0.0000, 0.0000, 0.0000, 0.0000,\n",
       "         0.0000, 0.0000, 0.0000, 0.0000, 0.0000, 0.0000, 0.0000, 0.0000, 0.0000,\n",
       "         0.0000, 0.3333, 0.3333, 0.3333, 0.0000, 0.0000, 0.0000, 0.0000, 0.0000,\n",
       "         0.0000, 0.0000, 0.0000, 0.0000, 0.0000, 0.0000, 0.0000, 0.0000, 0.0000,\n",
       "         0.0000, 0.0000, 0.0000, 0.0000, 0.0000, 0.0000, 0.0000, 0.0000, 0.0000,\n",
       "         0.0000, 0.0000, 0.0000, 0.0000, 0.0000, 0.0000, 0.0000, 0.0000, 0.0000,\n",
       "         0.0000, 0.0000, 0.0000, 0.0000, 0.0000, 0.0000, 0.0000, 0.0000, 0.0000,\n",
       "         0.0000, 0.0000, 0.0000, 0.0000, 0.0000, 0.0000, 0.0000, 0.0000, 0.0000,\n",
       "         0.0000, 0.0000, 0.0000, 0.0000, 0.0000, 0.0000, 0.0000, 0.0000, 0.0000,\n",
       "         0.0000, 0.0000, 0.0000, 0.0000],\n",
       "        [0.0000, 0.0000, 0.0000, 0.0000, 0.0000, 0.0000, 0.0000, 0.0000, 0.0000,\n",
       "         0.0000, 0.0000, 0.0000, 0.0000, 0.0000, 0.0000, 0.0000, 0.0000, 0.0000,\n",
       "         0.0000, 0.0000, 0.0000, 0.0000, 0.0000, 0.0000, 0.0000, 0.0000, 0.0000,\n",
       "         0.0000, 0.0000, 0.0000, 0.0000, 0.0000, 0.0000, 0.0000, 0.0000, 0.0000,\n",
       "         0.0000, 0.0000, 0.0000, 0.0000, 0.0000, 0.0000, 0.0000, 0.0000, 0.0000,\n",
       "         0.0000, 0.0000, 0.0000, 0.0000, 0.0000, 0.0000, 0.0000, 1.0000, 0.0000,\n",
       "         0.0000, 0.0000, 0.0000, 0.0000, 0.0000, 0.0000, 0.0000, 0.0000, 0.0000,\n",
       "         0.0000, 0.0000, 0.0000, 0.0000, 0.0000, 0.0000, 0.0000, 0.0000, 0.0000,\n",
       "         0.0000, 0.0000, 0.0000, 0.0000, 0.0000, 0.0000, 0.0000, 0.0000, 0.0000,\n",
       "         0.0000, 0.0000, 0.0000, 0.0000, 0.0000, 0.0000, 0.0000, 0.0000, 0.0000,\n",
       "         0.0000, 0.0000, 0.0000, 0.0000],\n",
       "        [0.0000, 0.0000, 0.0000, 0.0000, 0.0000, 0.0000, 0.0000, 0.0000, 0.0000,\n",
       "         0.0000, 0.0000, 0.0000, 0.0000, 0.0000, 0.0000, 0.0000, 0.0000, 0.0000,\n",
       "         0.0000, 0.0000, 0.0000, 0.0000, 0.0000, 0.0000, 0.0000, 0.0000, 0.0000,\n",
       "         0.0000, 0.0000, 0.0000, 0.0000, 0.0000, 0.0000, 0.0000, 0.0000, 0.0000,\n",
       "         0.0000, 0.0000, 0.0000, 0.0000, 0.0000, 0.0000, 0.0000, 0.0000, 0.0000,\n",
       "         0.0000, 0.0000, 0.0000, 0.0000, 0.0000, 0.0000, 0.0000, 0.0000, 0.0000,\n",
       "         0.0000, 0.0000, 0.0000, 0.0000, 0.0000, 0.0000, 0.0000, 0.0000, 0.0000,\n",
       "         0.0000, 0.0000, 0.0000, 0.0000, 1.0000, 0.0000, 0.0000, 0.0000, 0.0000,\n",
       "         0.0000, 0.0000, 0.0000, 0.0000, 0.0000, 0.0000, 0.0000, 0.0000, 0.0000,\n",
       "         0.0000, 0.0000, 0.0000, 0.0000, 0.0000, 0.0000, 0.0000, 0.0000, 0.0000,\n",
       "         0.0000, 0.0000, 0.0000, 0.0000],\n",
       "        [0.0000, 0.0000, 0.0000, 0.0000, 0.0000, 0.0000, 0.0000, 0.0000, 0.0000,\n",
       "         0.0000, 0.0000, 0.0000, 0.0000, 0.0000, 0.0000, 0.0000, 0.0000, 0.0000,\n",
       "         0.0000, 0.0000, 0.0000, 0.0000, 0.0000, 0.0000, 0.0000, 0.0000, 0.0000,\n",
       "         0.0000, 0.0000, 0.0000, 0.0000, 0.0000, 0.0000, 0.0000, 0.0000, 0.0000,\n",
       "         0.0000, 0.0000, 0.0000, 0.0000, 0.0000, 0.0000, 0.0000, 0.0000, 0.0000,\n",
       "         0.0000, 0.0000, 0.0000, 0.0000, 0.0000, 0.0000, 0.0000, 0.0000, 0.0000,\n",
       "         0.0000, 0.0000, 0.0000, 0.0000, 0.0000, 0.0000, 0.0000, 0.0000, 0.0000,\n",
       "         0.0000, 0.0000, 0.0000, 0.0000, 0.0000, 0.0000, 0.0000, 0.0000, 0.0000,\n",
       "         0.0000, 0.0000, 0.0000, 0.0000, 0.0000, 0.0000, 0.0000, 0.0000, 0.0000,\n",
       "         0.0000, 0.0000, 0.0000, 0.0000, 0.0000, 1.0000, 0.0000, 0.0000, 0.0000,\n",
       "         0.0000, 0.0000, 0.0000, 0.0000],\n",
       "        [0.0000, 0.0000, 0.0000, 0.0000, 0.0000, 0.0000, 0.0000, 0.0000, 0.0000,\n",
       "         0.0000, 0.0000, 0.0000, 0.0000, 0.0000, 0.0000, 0.0000, 0.0000, 0.0000,\n",
       "         0.0000, 0.0000, 0.0000, 0.0000, 0.0000, 0.0000, 0.0000, 0.0000, 0.0000,\n",
       "         0.0000, 0.0000, 0.0000, 0.0000, 0.0000, 0.0000, 0.0000, 0.0000, 0.0000,\n",
       "         0.0000, 0.0000, 0.0000, 0.0000, 0.0000, 0.0000, 0.0000, 0.0000, 0.0000,\n",
       "         0.0000, 0.0000, 0.0000, 0.0000, 0.0000, 0.0000, 0.0000, 0.0000, 0.0000,\n",
       "         0.0000, 0.0000, 0.0000, 0.0000, 0.0000, 0.0000, 0.0000, 0.0000, 0.0000,\n",
       "         0.0000, 0.0000, 0.0000, 0.0000, 0.0000, 0.0000, 0.0000, 0.0000, 0.0000,\n",
       "         0.0000, 0.0000, 0.0000, 0.0000, 0.0000, 0.0000, 0.0000, 0.0000, 0.0000,\n",
       "         0.0000, 0.0000, 0.0000, 0.0000, 0.0000, 0.0000, 0.0000, 0.0000, 0.0000,\n",
       "         0.0000, 0.0000, 0.0000, 1.0000]])"
      ]
     },
     "execution_count": 152,
     "metadata": {},
     "output_type": "execute_result"
    }
   ],
   "source": [
    "graph_propobility"
   ]
  },
  {
   "cell_type": "code",
   "execution_count": 146,
   "id": "24756970",
   "metadata": {},
   "outputs": [
    {
     "data": {
      "text/plain": [
       "'GAGSVFR'"
      ]
     },
     "execution_count": 146,
     "metadata": {},
     "output_type": "execute_result"
    }
   ],
   "source": [
    "seq"
   ]
  },
  {
   "cell_type": "code",
   "execution_count": 110,
   "id": "b388d970",
   "metadata": {},
   "outputs": [],
   "source": [
    "seq_mass = genova.utils.BasicClass.Residual_seq(seq[:-1].replace('L','I')).step_mass-0.02\n",
    "memory_mask = np.zeros((seq_mass.size+1,spec['node_mass'].size))\n",
    "for i, board in enumerate(spec['node_mass'].searchsorted(seq_mass),start=1):\n",
    "    memory_mask[i,:board] = -float('inf')"
   ]
  },
  {
   "cell_type": "code",
   "execution_count": 116,
   "id": "6a3b37c2",
   "metadata": {},
   "outputs": [],
   "source": [
    "memory_mask = memory_mask[np.newaxis]"
   ]
  },
  {
   "cell_type": "code",
   "execution_count": 148,
   "id": "7081c427",
   "metadata": {},
   "outputs": [
    {
     "data": {
      "text/plain": [
       "array([  0.        ,  87.03205497,  87.03215959,  97.05310959,\n",
       "        99.06870959, 101.04753497, 101.04796959, 113.08434959,\n",
       "       114.06180497, 115.02696959, 128.05747497, 128.05868497,\n",
       "       128.05880959, 128.09495497, 129.04244959, 131.04048959,\n",
       "       137.05922959, 144.05307497, 147.06871959, 154.07441959,\n",
       "       156.08969497, 156.08986959, 163.06336959, 168.08924959,\n",
       "       170.10601959, 172.04798959, 172.08476497, 184.08460959,\n",
       "       185.07988959, 185.08059497, 185.08185497, 186.10006497,\n",
       "       198.13721959, 200.07967959, 200.07997497, 200.11548497,\n",
       "       200.11559959, 202.10659959, 204.09308497, 210.13723959,\n",
       "       214.09497959, 225.11178497, 228.07488959, 228.11039959,\n",
       "       232.08799959, 234.10086497, 243.12102497, 259.12803959,\n",
       "       261.11011497, 262.09416497, 262.09577959, 271.11593959,\n",
       "       272.11020497, 273.14448497, 314.15742497, 318.13898497,\n",
       "       321.18089497, 328.18132497, 332.18034497, 337.17790497,\n",
       "       346.13840497, 346.17896497, 346.18208497, 348.14286497,\n",
       "       355.18314497, 360.18070497, 364.17972497, 371.18015497,\n",
       "       374.19535497, 374.22206497, 378.20362497, 388.20810497,\n",
       "       419.21656497, 424.21504497, 429.23625497, 430.26688497,\n",
       "       431.22626497, 431.25093497, 449.24002497, 458.26018497,\n",
       "       459.22344497, 459.24309497, 460.24678497, 461.22792497,\n",
       "       488.26796497, 506.26098497, 518.24936497, 520.27628497,\n",
       "       537.29136497, 537.29527497, 546.25562497, 546.28636497,\n",
       "       573.28724497, 674.35048525])"
      ]
     },
     "execution_count": 148,
     "metadata": {},
     "output_type": "execute_result"
    }
   ],
   "source": [
    "spec['node_mass']"
   ]
  },
  {
   "cell_type": "code",
   "execution_count": 127,
   "id": "d1951171",
   "metadata": {},
   "outputs": [
    {
     "data": {
      "text/plain": [
       "array([[[  0.,   0.,   0., ...,   0.,   0.,   0.],\n",
       "        [-inf,   0.,   0., ...,   0.,   0.,   0.],\n",
       "        [-inf, -inf, -inf, ...,   0.,   0.,   0.],\n",
       "        ...,\n",
       "        [-inf, -inf, -inf, ...,   0.,   0.,   0.],\n",
       "        [-inf, -inf, -inf, ...,   0.,   0.,   0.],\n",
       "        [-inf, -inf, -inf, ...,   0.,   0.,   0.]],\n",
       "\n",
       "       [[  0.,   0.,   0., ...,   0.,   0.,   0.],\n",
       "        [-inf,   0.,   0., ...,   0.,   0.,   0.],\n",
       "        [-inf, -inf, -inf, ...,   0.,   0.,   0.],\n",
       "        ...,\n",
       "        [-inf, -inf, -inf, ...,   0.,   0.,   0.],\n",
       "        [-inf, -inf, -inf, ...,   0.,   0.,   0.],\n",
       "        [-inf, -inf, -inf, ...,   0.,   0.,   0.]],\n",
       "\n",
       "       [[  0.,   0.,   0., ...,   0.,   0.,   0.],\n",
       "        [-inf,   0.,   0., ...,   0.,   0.,   0.],\n",
       "        [-inf, -inf, -inf, ...,   0.,   0.,   0.],\n",
       "        ...,\n",
       "        [-inf, -inf, -inf, ...,   0.,   0.,   0.],\n",
       "        [-inf, -inf, -inf, ...,   0.,   0.,   0.],\n",
       "        [-inf, -inf, -inf, ...,   0.,   0.,   0.]],\n",
       "\n",
       "       ...,\n",
       "\n",
       "       [[  0.,   0.,   0., ...,   0.,   0.,   0.],\n",
       "        [-inf,   0.,   0., ...,   0.,   0.,   0.],\n",
       "        [-inf, -inf, -inf, ...,   0.,   0.,   0.],\n",
       "        ...,\n",
       "        [-inf, -inf, -inf, ...,   0.,   0.,   0.],\n",
       "        [-inf, -inf, -inf, ...,   0.,   0.,   0.],\n",
       "        [-inf, -inf, -inf, ...,   0.,   0.,   0.]],\n",
       "\n",
       "       [[  0.,   0.,   0., ...,   0.,   0.,   0.],\n",
       "        [-inf,   0.,   0., ...,   0.,   0.,   0.],\n",
       "        [-inf, -inf, -inf, ...,   0.,   0.,   0.],\n",
       "        ...,\n",
       "        [-inf, -inf, -inf, ...,   0.,   0.,   0.],\n",
       "        [-inf, -inf, -inf, ...,   0.,   0.,   0.],\n",
       "        [-inf, -inf, -inf, ...,   0.,   0.,   0.]],\n",
       "\n",
       "       [[  0.,   0.,   0., ...,   0.,   0.,   0.],\n",
       "        [-inf,   0.,   0., ...,   0.,   0.,   0.],\n",
       "        [-inf, -inf, -inf, ...,   0.,   0.,   0.],\n",
       "        ...,\n",
       "        [-inf, -inf, -inf, ...,   0.,   0.,   0.],\n",
       "        [-inf, -inf, -inf, ...,   0.,   0.,   0.],\n",
       "        [-inf, -inf, -inf, ...,   0.,   0.,   0.]]])"
      ]
     },
     "execution_count": 127,
     "metadata": {},
     "output_type": "execute_result"
    }
   ],
   "source": [
    "np.repeat(memory_mask,cfg.decoder.num_heads,axis=0)"
   ]
  },
  {
   "cell_type": "code",
   "execution_count": 97,
   "id": "6e81cd30",
   "metadata": {},
   "outputs": [
    {
     "name": "stdout",
     "output_type": "stream",
     "text": [
      "0\n",
      "1\n"
     ]
    },
    {
     "ename": "ValueError",
     "evalue": "only one element tensors can be converted to Python scalars",
     "output_type": "error",
     "traceback": [
      "\u001b[0;31m---------------------------------------------------------------------------\u001b[0m",
      "\u001b[0;31mValueError\u001b[0m                                Traceback (most recent call last)",
      "\u001b[0;32m/tmp/ipykernel_3318289/1519666985.py\u001b[0m in \u001b[0;36m<module>\u001b[0;34m\u001b[0m\n\u001b[1;32m      1\u001b[0m \u001b[0;32mfor\u001b[0m \u001b[0mi\u001b[0m \u001b[0;32min\u001b[0m \u001b[0mrange\u001b[0m\u001b[0;34m(\u001b[0m\u001b[0mspec\u001b[0m\u001b[0;34m[\u001b[0m\u001b[0;34m'graph_label'\u001b[0m\u001b[0;34m]\u001b[0m\u001b[0;34m.\u001b[0m\u001b[0mshape\u001b[0m\u001b[0;34m[\u001b[0m\u001b[0;36m0\u001b[0m\u001b[0;34m]\u001b[0m\u001b[0;34m)\u001b[0m\u001b[0;34m:\u001b[0m\u001b[0;34m\u001b[0m\u001b[0;34m\u001b[0m\u001b[0m\n\u001b[1;32m      2\u001b[0m     \u001b[0mprint\u001b[0m\u001b[0;34m(\u001b[0m\u001b[0mi\u001b[0m\u001b[0;34m)\u001b[0m\u001b[0;34m\u001b[0m\u001b[0;34m\u001b[0m\u001b[0m\n\u001b[0;32m----> 3\u001b[0;31m     \u001b[0mtorch\u001b[0m\u001b[0;34m.\u001b[0m\u001b[0mwhere\u001b[0m\u001b[0;34m(\u001b[0m\u001b[0mspec\u001b[0m\u001b[0;34m[\u001b[0m\u001b[0;34m'graph_label'\u001b[0m\u001b[0;34m]\u001b[0m\u001b[0;34m[\u001b[0m\u001b[0mi\u001b[0m\u001b[0;34m]\u001b[0m\u001b[0;34m)\u001b[0m\u001b[0;34m[\u001b[0m\u001b[0;36m0\u001b[0m\u001b[0;34m]\u001b[0m\u001b[0;34m.\u001b[0m\u001b[0mitem\u001b[0m\u001b[0;34m(\u001b[0m\u001b[0;34m)\u001b[0m\u001b[0;34m\u001b[0m\u001b[0;34m\u001b[0m\u001b[0m\n\u001b[0m",
      "\u001b[0;31mValueError\u001b[0m: only one element tensors can be converted to Python scalars"
     ]
    }
   ],
   "source": [
    "\n",
    "for i in range(spec['graph_label'].shape[0]):\n",
    "    try:\n",
    "        boarder = torch.where(spec['graph_label'][i])[0].item()\n",
    "        \n",
    "    except:\n",
    "        "
   ]
  },
  {
   "cell_type": "code",
   "execution_count": 98,
   "id": "211acdad",
   "metadata": {},
   "outputs": [
    {
     "data": {
      "text/plain": [
       "tensor([], dtype=torch.int64)"
      ]
     },
     "execution_count": 98,
     "metadata": {},
     "output_type": "execute_result"
    }
   ],
   "source": [
    "torch.where(spec['graph_label'][1])[0]"
   ]
  },
  {
   "cell_type": "code",
   "execution_count": 92,
   "id": "216d1511",
   "metadata": {},
   "outputs": [
    {
     "data": {
      "text/plain": [
       "array([0])"
      ]
     },
     "execution_count": 92,
     "metadata": {},
     "output_type": "execute_result"
    }
   ],
   "source": [
    "np.where(graph_label[0])[0]"
   ]
  },
  {
   "cell_type": "code",
   "execution_count": 68,
   "id": "97ba6280",
   "metadata": {},
   "outputs": [
    {
     "data": {
      "text/plain": [
       "tensor([[1.0000, 0.0000, 0.0000, 0.0000, 0.0000, 0.0000, 0.0000, 0.0000, 0.0000,\n",
       "         0.0000, 0.0000, 0.0000, 0.0000, 0.0000, 0.0000, 0.0000, 0.0000, 0.0000,\n",
       "         0.0000, 0.0000, 0.0000, 0.0000, 0.0000, 0.0000, 0.0000, 0.0000, 0.0000,\n",
       "         0.0000, 0.0000, 0.0000, 0.0000, 0.0000, 0.0000, 0.0000, 0.0000, 0.0000,\n",
       "         0.0000, 0.0000, 0.0000, 0.0000, 0.0000, 0.0000, 0.0000, 0.0000, 0.0000,\n",
       "         0.0000, 0.0000, 0.0000, 0.0000, 0.0000, 0.0000, 0.0000, 0.0000, 0.0000,\n",
       "         0.0000, 0.0000, 0.0000, 0.0000, 0.0000, 0.0000, 0.0000, 0.0000, 0.0000,\n",
       "         0.0000, 0.0000, 0.0000, 0.0000, 0.0000, 0.0000, 0.0000, 0.0000, 0.0000,\n",
       "         0.0000, 0.0000, 0.0000, 0.0000, 0.0000, 0.0000, 0.0000, 0.0000, 0.0000,\n",
       "         0.0000, 0.0000, 0.0000, 0.0000, 0.0000, 0.0000, 0.0000, 0.0000, 0.0000,\n",
       "         0.0000, 0.0000, 0.0000, 0.0000],\n",
       "        [0.0000, 0.0000, 0.0000, 0.0000, 0.0000, 0.0000, 0.0000, 0.0000, 0.0000,\n",
       "         0.0000, 0.0000, 0.0000, 0.0000, 0.0000, 0.0000, 0.0000, 0.0000, 0.0000,\n",
       "         0.0000, 0.0000, 0.0000, 0.0000, 0.0000, 0.0000, 0.0000, 0.0000, 0.0000,\n",
       "         0.0000, 0.0000, 0.0000, 0.0000, 0.0000, 0.0000, 0.0000, 0.0000, 0.0000,\n",
       "         0.0000, 0.0000, 0.0000, 0.0000, 0.0000, 0.0000, 0.0000, 0.0000, 0.0000,\n",
       "         0.0000, 0.0000, 0.0000, 0.0000, 0.0000, 0.0000, 0.0000, 0.0000, 0.0000,\n",
       "         0.0000, 0.0000, 0.0000, 0.0000, 0.0000, 0.0000, 0.0000, 0.0000, 0.0000,\n",
       "         0.0000, 0.0000, 0.0000, 0.0000, 0.0000, 0.0000, 0.0000, 0.0000, 0.0000,\n",
       "         0.0000, 0.0000, 0.0000, 0.0000, 0.0000, 0.0000, 0.0000, 0.0000, 0.0000,\n",
       "         0.0000, 0.0000, 0.0000, 0.0000, 0.0000, 0.0000, 0.0000, 0.0000, 0.0000,\n",
       "         0.0000, 0.0000, 0.0000, 0.0000],\n",
       "        [0.0000, 0.0000, 0.0000, 0.0000, 0.0000, 0.0000, 0.0000, 0.0000, 0.0000,\n",
       "         0.0000, 0.3333, 0.3333, 0.3333, 0.0000, 0.0000, 0.0000, 0.0000, 0.0000,\n",
       "         0.0000, 0.0000, 0.0000, 0.0000, 0.0000, 0.0000, 0.0000, 0.0000, 0.0000,\n",
       "         0.0000, 0.0000, 0.0000, 0.0000, 0.0000, 0.0000, 0.0000, 0.0000, 0.0000,\n",
       "         0.0000, 0.0000, 0.0000, 0.0000, 0.0000, 0.0000, 0.0000, 0.0000, 0.0000,\n",
       "         0.0000, 0.0000, 0.0000, 0.0000, 0.0000, 0.0000, 0.0000, 0.0000, 0.0000,\n",
       "         0.0000, 0.0000, 0.0000, 0.0000, 0.0000, 0.0000, 0.0000, 0.0000, 0.0000,\n",
       "         0.0000, 0.0000, 0.0000, 0.0000, 0.0000, 0.0000, 0.0000, 0.0000, 0.0000,\n",
       "         0.0000, 0.0000, 0.0000, 0.0000, 0.0000, 0.0000, 0.0000, 0.0000, 0.0000,\n",
       "         0.0000, 0.0000, 0.0000, 0.0000, 0.0000, 0.0000, 0.0000, 0.0000, 0.0000,\n",
       "         0.0000, 0.0000, 0.0000, 0.0000],\n",
       "        [0.0000, 0.0000, 0.0000, 0.0000, 0.0000, 0.0000, 0.0000, 0.0000, 0.0000,\n",
       "         0.0000, 0.0000, 0.0000, 0.0000, 0.0000, 0.0000, 0.0000, 0.0000, 0.0000,\n",
       "         0.0000, 0.0000, 0.0000, 0.0000, 0.0000, 0.0000, 0.0000, 0.0000, 0.0000,\n",
       "         0.0000, 0.3333, 0.3333, 0.3333, 0.0000, 0.0000, 0.0000, 0.0000, 0.0000,\n",
       "         0.0000, 0.0000, 0.0000, 0.0000, 0.0000, 0.0000, 0.0000, 0.0000, 0.0000,\n",
       "         0.0000, 0.0000, 0.0000, 0.0000, 0.0000, 0.0000, 0.0000, 0.0000, 0.0000,\n",
       "         0.0000, 0.0000, 0.0000, 0.0000, 0.0000, 0.0000, 0.0000, 0.0000, 0.0000,\n",
       "         0.0000, 0.0000, 0.0000, 0.0000, 0.0000, 0.0000, 0.0000, 0.0000, 0.0000,\n",
       "         0.0000, 0.0000, 0.0000, 0.0000, 0.0000, 0.0000, 0.0000, 0.0000, 0.0000,\n",
       "         0.0000, 0.0000, 0.0000, 0.0000, 0.0000, 0.0000, 0.0000, 0.0000, 0.0000,\n",
       "         0.0000, 0.0000, 0.0000, 0.0000],\n",
       "        [0.0000, 0.0000, 0.0000, 0.0000, 0.0000, 0.0000, 0.0000, 0.0000, 0.0000,\n",
       "         0.0000, 0.0000, 0.0000, 0.0000, 0.0000, 0.0000, 0.0000, 0.0000, 0.0000,\n",
       "         0.0000, 0.0000, 0.0000, 0.0000, 0.0000, 0.0000, 0.0000, 0.0000, 0.0000,\n",
       "         0.0000, 0.0000, 0.0000, 0.0000, 0.0000, 0.0000, 0.0000, 0.0000, 0.0000,\n",
       "         0.0000, 0.0000, 0.0000, 0.0000, 0.0000, 0.0000, 0.0000, 0.0000, 0.0000,\n",
       "         0.0000, 0.0000, 0.0000, 0.0000, 0.0000, 0.0000, 0.0000, 1.0000, 0.0000,\n",
       "         0.0000, 0.0000, 0.0000, 0.0000, 0.0000, 0.0000, 0.0000, 0.0000, 0.0000,\n",
       "         0.0000, 0.0000, 0.0000, 0.0000, 0.0000, 0.0000, 0.0000, 0.0000, 0.0000,\n",
       "         0.0000, 0.0000, 0.0000, 0.0000, 0.0000, 0.0000, 0.0000, 0.0000, 0.0000,\n",
       "         0.0000, 0.0000, 0.0000, 0.0000, 0.0000, 0.0000, 0.0000, 0.0000, 0.0000,\n",
       "         0.0000, 0.0000, 0.0000, 0.0000],\n",
       "        [0.0000, 0.0000, 0.0000, 0.0000, 0.0000, 0.0000, 0.0000, 0.0000, 0.0000,\n",
       "         0.0000, 0.0000, 0.0000, 0.0000, 0.0000, 0.0000, 0.0000, 0.0000, 0.0000,\n",
       "         0.0000, 0.0000, 0.0000, 0.0000, 0.0000, 0.0000, 0.0000, 0.0000, 0.0000,\n",
       "         0.0000, 0.0000, 0.0000, 0.0000, 0.0000, 0.0000, 0.0000, 0.0000, 0.0000,\n",
       "         0.0000, 0.0000, 0.0000, 0.0000, 0.0000, 0.0000, 0.0000, 0.0000, 0.0000,\n",
       "         0.0000, 0.0000, 0.0000, 0.0000, 0.0000, 0.0000, 0.0000, 0.0000, 0.0000,\n",
       "         0.0000, 0.0000, 0.0000, 0.0000, 0.0000, 0.0000, 0.0000, 0.0000, 0.0000,\n",
       "         0.0000, 0.0000, 0.0000, 0.0000, 1.0000, 0.0000, 0.0000, 0.0000, 0.0000,\n",
       "         0.0000, 0.0000, 0.0000, 0.0000, 0.0000, 0.0000, 0.0000, 0.0000, 0.0000,\n",
       "         0.0000, 0.0000, 0.0000, 0.0000, 0.0000, 0.0000, 0.0000, 0.0000, 0.0000,\n",
       "         0.0000, 0.0000, 0.0000, 0.0000],\n",
       "        [0.0000, 0.0000, 0.0000, 0.0000, 0.0000, 0.0000, 0.0000, 0.0000, 0.0000,\n",
       "         0.0000, 0.0000, 0.0000, 0.0000, 0.0000, 0.0000, 0.0000, 0.0000, 0.0000,\n",
       "         0.0000, 0.0000, 0.0000, 0.0000, 0.0000, 0.0000, 0.0000, 0.0000, 0.0000,\n",
       "         0.0000, 0.0000, 0.0000, 0.0000, 0.0000, 0.0000, 0.0000, 0.0000, 0.0000,\n",
       "         0.0000, 0.0000, 0.0000, 0.0000, 0.0000, 0.0000, 0.0000, 0.0000, 0.0000,\n",
       "         0.0000, 0.0000, 0.0000, 0.0000, 0.0000, 0.0000, 0.0000, 0.0000, 0.0000,\n",
       "         0.0000, 0.0000, 0.0000, 0.0000, 0.0000, 0.0000, 0.0000, 0.0000, 0.0000,\n",
       "         0.0000, 0.0000, 0.0000, 0.0000, 0.0000, 0.0000, 0.0000, 0.0000, 0.0000,\n",
       "         0.0000, 0.0000, 0.0000, 0.0000, 0.0000, 0.0000, 0.0000, 0.0000, 0.0000,\n",
       "         0.0000, 0.0000, 0.0000, 0.0000, 0.0000, 1.0000, 0.0000, 0.0000, 0.0000,\n",
       "         0.0000, 0.0000, 0.0000, 0.0000],\n",
       "        [0.0000, 0.0000, 0.0000, 0.0000, 0.0000, 0.0000, 0.0000, 0.0000, 0.0000,\n",
       "         0.0000, 0.0000, 0.0000, 0.0000, 0.0000, 0.0000, 0.0000, 0.0000, 0.0000,\n",
       "         0.0000, 0.0000, 0.0000, 0.0000, 0.0000, 0.0000, 0.0000, 0.0000, 0.0000,\n",
       "         0.0000, 0.0000, 0.0000, 0.0000, 0.0000, 0.0000, 0.0000, 0.0000, 0.0000,\n",
       "         0.0000, 0.0000, 0.0000, 0.0000, 0.0000, 0.0000, 0.0000, 0.0000, 0.0000,\n",
       "         0.0000, 0.0000, 0.0000, 0.0000, 0.0000, 0.0000, 0.0000, 0.0000, 0.0000,\n",
       "         0.0000, 0.0000, 0.0000, 0.0000, 0.0000, 0.0000, 0.0000, 0.0000, 0.0000,\n",
       "         0.0000, 0.0000, 0.0000, 0.0000, 0.0000, 0.0000, 0.0000, 0.0000, 0.0000,\n",
       "         0.0000, 0.0000, 0.0000, 0.0000, 0.0000, 0.0000, 0.0000, 0.0000, 0.0000,\n",
       "         0.0000, 0.0000, 0.0000, 0.0000, 0.0000, 0.0000, 0.0000, 0.0000, 0.0000,\n",
       "         0.0000, 0.0000, 0.0000, 1.0000]])"
      ]
     },
     "execution_count": 68,
     "metadata": {},
     "output_type": "execute_result"
    }
   ],
   "source": [
    "spec['graph_label']/torch.where(spec['graph_label'].sum(-1)==0,1,spec['graph_label'].sum(-1)).unsqueeze(1)"
   ]
  },
  {
   "cell_type": "code",
   "execution_count": 64,
   "id": "52828850",
   "metadata": {},
   "outputs": [
    {
     "data": {
      "text/plain": [
       "torch.Size([8, 94])"
      ]
     },
     "execution_count": 64,
     "metadata": {},
     "output_type": "execute_result"
    }
   ],
   "source": [
    "spec['graph_label'].shape"
   ]
  },
  {
   "cell_type": "code",
   "execution_count": 31,
   "id": "ae0a5e91",
   "metadata": {},
   "outputs": [],
   "source": [
    "for i, board in enumerate(spec['node_mass'].searchsorted(a),start=1):\n",
    "    b[i,:board] = -float('inf')"
   ]
  },
  {
   "cell_type": "code",
   "execution_count": 33,
   "id": "c0f8a20d",
   "metadata": {},
   "outputs": [],
   "source": [
    "import hydra"
   ]
  },
  {
   "cell_type": "code",
   "execution_count": 34,
   "id": "2396cfdf",
   "metadata": {},
   "outputs": [],
   "source": [
    "@hydra.main(config_path=\"config\")\n",
    "def config_print(cfg):\n",
    "    print(print(OmegaConf.to_yaml(cfg)))"
   ]
  },
  {
   "cell_type": "code",
   "execution_count": 35,
   "id": "cf11f0ff",
   "metadata": {},
   "outputs": [
    {
     "name": "stderr",
     "output_type": "stream",
     "text": [
      "usage: ipykernel_launcher.py [--help] [--hydra-help] [--version]\n",
      "                             [--cfg {job,hydra,all}] [--resolve]\n",
      "                             [--package PACKAGE] [--run] [--multirun]\n",
      "                             [--shell-completion] [--config-path CONFIG_PATH]\n",
      "                             [--config-name CONFIG_NAME]\n",
      "                             [--config-dir CONFIG_DIR]\n",
      "                             [--info [{all,config,defaults,defaults-tree,plugins,searchpath}]]\n",
      "                             [overrides ...]\n",
      "ipykernel_launcher.py: error: unrecognized arguments: -f\n"
     ]
    },
    {
     "ename": "SystemExit",
     "evalue": "2",
     "output_type": "error",
     "traceback": [
      "An exception has occurred, use %tb to see the full traceback.\n",
      "\u001b[0;31mSystemExit\u001b[0m\u001b[0;31m:\u001b[0m 2\n"
     ]
    },
    {
     "name": "stderr",
     "output_type": "stream",
     "text": [
      "/home/z37mao/anaconda3/envs/genova_torch/lib/python3.9/site-packages/IPython/core/interactiveshell.py:3452: UserWarning: To exit: use 'exit', 'quit', or Ctrl-D.\n",
      "  warn(\"To exit: use 'exit', 'quit', or Ctrl-D.\", stacklevel=1)\n"
     ]
    }
   ],
   "source": [
    "config_print()"
   ]
  },
  {
   "cell_type": "code",
   "execution_count": 30,
   "id": "b9d2a371",
   "metadata": {},
   "outputs": [],
   "source": [
    "b=np.zeros((a.size+1,spec['node_mass'].size))"
   ]
  },
  {
   "cell_type": "code",
   "execution_count": 24,
   "id": "935a03de",
   "metadata": {},
   "outputs": [
    {
     "data": {
      "text/plain": [
       "'GAGSVF'"
      ]
     },
     "execution_count": 24,
     "metadata": {},
     "output_type": "execute_result"
    }
   ],
   "source": [
    "seq[:-1]"
   ]
  },
  {
   "cell_type": "code",
   "execution_count": 25,
   "id": "91579219",
   "metadata": {},
   "outputs": [],
   "source": [
    "a=genova.utils.BasicClass.Residual_seq(seq[:-1].replace('L','I')).step_mass-0.02"
   ]
  },
  {
   "cell_type": "code",
   "execution_count": 13,
   "id": "4364e146",
   "metadata": {},
   "outputs": [
    {
     "data": {
      "text/plain": [
       "array([ 57.00146372, 128.03857751, 185.06004123, 272.09206963,\n",
       "       371.16048355, 518.22889746, 674.33000848])"
      ]
     },
     "execution_count": 13,
     "metadata": {},
     "output_type": "execute_result"
    }
   ],
   "source": [
    "genova.utils.BasicClass.Residual_seq(seq.replace('L','I')).step_mass-0.02"
   ]
  },
  {
   "cell_type": "code",
   "execution_count": 105,
   "id": "32edd45f",
   "metadata": {},
   "outputs": [
    {
     "data": {
      "text/plain": [
       "27"
      ]
     },
     "execution_count": 105,
     "metadata": {},
     "output_type": "execute_result"
    }
   ],
   "source": [
    "len('DLVILLYETALLSSGFSLEDPQTHANR')"
   ]
  },
  {
   "cell_type": "code",
   "execution_count": null,
   "id": "c5d31966",
   "metadata": {},
   "outputs": [],
   "source": [
    "genova.utils.seq"
   ]
  },
  {
   "cell_type": "code",
   "execution_count": null,
   "id": "ef75774b",
   "metadata": {},
   "outputs": [],
   "source": [
    "spec_header.loc['Cerebellum:F12.12:46468']['Annotated Sequence']"
   ]
  },
  {
   "cell_type": "code",
   "execution_count": null,
   "id": "596ebeb6",
   "metadata": {},
   "outputs": [],
   "source": [
    "spec_header.index"
   ]
  },
  {
   "cell_type": "code",
   "execution_count": null,
   "id": "38d2ce33",
   "metadata": {},
   "outputs": [],
   "source": [
    "len(set(spec_header.index))"
   ]
  },
  {
   "cell_type": "code",
   "execution_count": 109,
   "id": "9471c283",
   "metadata": {},
   "outputs": [
    {
     "data": {
      "text/plain": [
       "array([ 115.02694302,  228.111007  ,  327.17942092,  440.2634849 ,\n",
       "        553.34754887,  666.43161285,  829.49494139,  944.52188441,\n",
       "       1045.56956288, 1116.60667666, 1229.69074064, 1316.72276905,\n",
       "       1403.75479745, 1490.78682586, 1547.80828958, 1694.87670349,\n",
       "       1781.9087319 , 1894.99279588, 2042.06120979, 2157.08815281,\n",
       "       2254.14091666, 2382.19949417, 2483.24717264, 2620.3060845 ,\n",
       "       2734.34901194, 2848.39193938, 3004.4930504 ])"
      ]
     },
     "execution_count": 109,
     "metadata": {},
     "output_type": "execute_result"
    }
   ],
   "source": [
    "genova.utils.BasicClass.Residual_seq('DLVLLLYDTALSSSGFSLFDPQTHNNR'.replace('L','I')).step_mass"
   ]
  },
  {
   "cell_type": "code",
   "execution_count": 108,
   "id": "83a5f6a9",
   "metadata": {},
   "outputs": [
    {
     "data": {
      "text/plain": [
       "array([ 115.02694302,  228.111007  ,  327.17942092,  440.2634849 ,\n",
       "        553.34754887,  666.43161285,  829.49494139,  958.53753447,\n",
       "       1059.58521294, 1130.62232673, 1243.70639071, 1356.79045469,\n",
       "       1443.82248309, 1530.8545115 , 1587.87597522, 1734.94438913,\n",
       "       1821.97641754, 1935.06048151, 2064.1030746 , 2179.13001763,\n",
       "       2276.18278148, 2404.24135898, 2505.28903745, 2642.34794931,\n",
       "       2713.3850631 , 2827.42799054, 2983.52910156])"
      ]
     },
     "execution_count": 108,
     "metadata": {},
     "output_type": "execute_result"
    }
   ],
   "source": [
    "genova.utils.BasicClass.Residual_seq('DLVILLYETALLSSGFSLEDPQTHANR'.replace('L','I')).step_mass"
   ]
  },
  {
   "cell_type": "code",
   "execution_count": null,
   "id": "0b85f882",
   "metadata": {},
   "outputs": [],
   "source": [
    "with open('/data/z37mao/genova_new/Cerebellum.mgfs', 'rb') as f:\n",
    "    f.seek(spec_head['MSGP Datablock Pointer'])\n",
    "    spec = pickle.loads(gzip.decompress(f.read(spec_head['MSGP Datablock Length'])))"
   ]
  },
  {
   "cell_type": "code",
   "execution_count": 100,
   "id": "aed9d7d4",
   "metadata": {},
   "outputs": [
    {
     "data": {
      "text/html": [
       "<div>\n",
       "<style scoped>\n",
       "    .dataframe tbody tr th:only-of-type {\n",
       "        vertical-align: middle;\n",
       "    }\n",
       "\n",
       "    .dataframe tbody tr th {\n",
       "        vertical-align: top;\n",
       "    }\n",
       "\n",
       "    .dataframe thead th {\n",
       "        text-align: right;\n",
       "    }\n",
       "</style>\n",
       "<table border=\"1\" class=\"dataframe\">\n",
       "  <thead>\n",
       "    <tr style=\"text-align: right;\">\n",
       "      <th></th>\n",
       "      <th>PSMs Peptide ID</th>\n",
       "      <th>Annotated Sequence</th>\n",
       "      <th>Modifications</th>\n",
       "      <th>Master Protein Accessions</th>\n",
       "      <th>Protein Accessions</th>\n",
       "      <th>Charge</th>\n",
       "      <th>DeltaScore</th>\n",
       "      <th>DeltaCn</th>\n",
       "      <th>Rank</th>\n",
       "      <th>Search Engine Rank</th>\n",
       "      <th>...</th>\n",
       "      <th>PSM Ambiguity</th>\n",
       "      <th>Node Number</th>\n",
       "      <th>Relation Num</th>\n",
       "      <th>Edge Num</th>\n",
       "      <th>MSGP File Name</th>\n",
       "      <th>MSGP Datablock Pointer</th>\n",
       "      <th>MSGP Datablock Length</th>\n",
       "      <th>Experiment Name</th>\n",
       "      <th>Raw File ID</th>\n",
       "      <th>Spectrum ID</th>\n",
       "    </tr>\n",
       "    <tr>\n",
       "      <th>Spec Index</th>\n",
       "      <th></th>\n",
       "      <th></th>\n",
       "      <th></th>\n",
       "      <th></th>\n",
       "      <th></th>\n",
       "      <th></th>\n",
       "      <th></th>\n",
       "      <th></th>\n",
       "      <th></th>\n",
       "      <th></th>\n",
       "      <th></th>\n",
       "      <th></th>\n",
       "      <th></th>\n",
       "      <th></th>\n",
       "      <th></th>\n",
       "      <th></th>\n",
       "      <th></th>\n",
       "      <th></th>\n",
       "      <th></th>\n",
       "      <th></th>\n",
       "      <th></th>\n",
       "    </tr>\n",
       "  </thead>\n",
       "  <tbody>\n",
       "    <tr>\n",
       "      <th>Cerebellum:F12.12:46468</th>\n",
       "      <td>41012819</td>\n",
       "      <td>AAEGISSDSLLSVPGQK</td>\n",
       "      <td>NaN</td>\n",
       "      <td>NaN</td>\n",
       "      <td>Q8BPN8</td>\n",
       "      <td>3</td>\n",
       "      <td>NaN</td>\n",
       "      <td>NaN</td>\n",
       "      <td>NaN</td>\n",
       "      <td>NaN</td>\n",
       "      <td>...</td>\n",
       "      <td>NaN</td>\n",
       "      <td>184</td>\n",
       "      <td>70470</td>\n",
       "      <td>224055</td>\n",
       "      <td>1_3.msgp</td>\n",
       "      <td>0</td>\n",
       "      <td>1165833</td>\n",
       "      <td>Cerebellum</td>\n",
       "      <td>F12.12</td>\n",
       "      <td>46468</td>\n",
       "    </tr>\n",
       "    <tr>\n",
       "      <th>Cerebellum:F12.2:11100</th>\n",
       "      <td>34797085</td>\n",
       "      <td>GAGSVFR</td>\n",
       "      <td>NaN</td>\n",
       "      <td>NaN</td>\n",
       "      <td>P62918</td>\n",
       "      <td>2</td>\n",
       "      <td>NaN</td>\n",
       "      <td>NaN</td>\n",
       "      <td>NaN</td>\n",
       "      <td>NaN</td>\n",
       "      <td>...</td>\n",
       "      <td>NaN</td>\n",
       "      <td>94</td>\n",
       "      <td>4828</td>\n",
       "      <td>6410</td>\n",
       "      <td>1_3.msgp</td>\n",
       "      <td>1165833</td>\n",
       "      <td>53826</td>\n",
       "      <td>Cerebellum</td>\n",
       "      <td>F12.2</td>\n",
       "      <td>11100</td>\n",
       "    </tr>\n",
       "    <tr>\n",
       "      <th>Cerebellum:F10.2:5845</th>\n",
       "      <td>29752388</td>\n",
       "      <td>FHVEEEGK</td>\n",
       "      <td>NaN</td>\n",
       "      <td>NaN</td>\n",
       "      <td>P09041; P09411</td>\n",
       "      <td>3</td>\n",
       "      <td>NaN</td>\n",
       "      <td>NaN</td>\n",
       "      <td>NaN</td>\n",
       "      <td>NaN</td>\n",
       "      <td>...</td>\n",
       "      <td>NaN</td>\n",
       "      <td>138</td>\n",
       "      <td>20635</td>\n",
       "      <td>67037</td>\n",
       "      <td>1_3.msgp</td>\n",
       "      <td>1219659</td>\n",
       "      <td>359207</td>\n",
       "      <td>Cerebellum</td>\n",
       "      <td>F10.2</td>\n",
       "      <td>5845</td>\n",
       "    </tr>\n",
       "    <tr>\n",
       "      <th>Cerebellum:F13.6:22284</th>\n",
       "      <td>50301677</td>\n",
       "      <td>YTPLYTAR</td>\n",
       "      <td>NaN</td>\n",
       "      <td>NaN</td>\n",
       "      <td>B2RQC2</td>\n",
       "      <td>2</td>\n",
       "      <td>NaN</td>\n",
       "      <td>NaN</td>\n",
       "      <td>NaN</td>\n",
       "      <td>NaN</td>\n",
       "      <td>...</td>\n",
       "      <td>NaN</td>\n",
       "      <td>175</td>\n",
       "      <td>29732</td>\n",
       "      <td>95592</td>\n",
       "      <td>1_3.msgp</td>\n",
       "      <td>1578866</td>\n",
       "      <td>515975</td>\n",
       "      <td>Cerebellum</td>\n",
       "      <td>F13.6</td>\n",
       "      <td>22284</td>\n",
       "    </tr>\n",
       "    <tr>\n",
       "      <th>Cerebellum:F7.8:14768</th>\n",
       "      <td>4315980</td>\n",
       "      <td>VVFEQTK</td>\n",
       "      <td>NaN</td>\n",
       "      <td>NaN</td>\n",
       "      <td>P17751</td>\n",
       "      <td>2</td>\n",
       "      <td>NaN</td>\n",
       "      <td>NaN</td>\n",
       "      <td>NaN</td>\n",
       "      <td>NaN</td>\n",
       "      <td>...</td>\n",
       "      <td>NaN</td>\n",
       "      <td>35</td>\n",
       "      <td>1101</td>\n",
       "      <td>3475</td>\n",
       "      <td>1_3.msgp</td>\n",
       "      <td>2094841</td>\n",
       "      <td>24313</td>\n",
       "      <td>Cerebellum</td>\n",
       "      <td>F7.8</td>\n",
       "      <td>14768</td>\n",
       "    </tr>\n",
       "    <tr>\n",
       "      <th>...</th>\n",
       "      <td>...</td>\n",
       "      <td>...</td>\n",
       "      <td>...</td>\n",
       "      <td>...</td>\n",
       "      <td>...</td>\n",
       "      <td>...</td>\n",
       "      <td>...</td>\n",
       "      <td>...</td>\n",
       "      <td>...</td>\n",
       "      <td>...</td>\n",
       "      <td>...</td>\n",
       "      <td>...</td>\n",
       "      <td>...</td>\n",
       "      <td>...</td>\n",
       "      <td>...</td>\n",
       "      <td>...</td>\n",
       "      <td>...</td>\n",
       "      <td>...</td>\n",
       "      <td>...</td>\n",
       "      <td>...</td>\n",
       "      <td>...</td>\n",
       "    </tr>\n",
       "    <tr>\n",
       "      <th>Cerebellum:F13.19:44960</th>\n",
       "      <td>58034112</td>\n",
       "      <td>APVPASELLDAK</td>\n",
       "      <td>NaN</td>\n",
       "      <td>NaN</td>\n",
       "      <td>Q9QXS1</td>\n",
       "      <td>2</td>\n",
       "      <td>NaN</td>\n",
       "      <td>NaN</td>\n",
       "      <td>NaN</td>\n",
       "      <td>NaN</td>\n",
       "      <td>...</td>\n",
       "      <td>NaN</td>\n",
       "      <td>101</td>\n",
       "      <td>13558</td>\n",
       "      <td>44080</td>\n",
       "      <td>1_3.msgp</td>\n",
       "      <td>781743255</td>\n",
       "      <td>244106</td>\n",
       "      <td>Cerebellum</td>\n",
       "      <td>F13.19</td>\n",
       "      <td>44960</td>\n",
       "    </tr>\n",
       "    <tr>\n",
       "      <th>Cerebellum:F7.21:60811</th>\n",
       "      <td>12429841</td>\n",
       "      <td>IWHHTFYNELR</td>\n",
       "      <td>NaN</td>\n",
       "      <td>NaN</td>\n",
       "      <td>P60710; P68134; P68033; P63260</td>\n",
       "      <td>4</td>\n",
       "      <td>NaN</td>\n",
       "      <td>NaN</td>\n",
       "      <td>NaN</td>\n",
       "      <td>NaN</td>\n",
       "      <td>...</td>\n",
       "      <td>NaN</td>\n",
       "      <td>12</td>\n",
       "      <td>1042</td>\n",
       "      <td>704</td>\n",
       "      <td>1_3.msgp</td>\n",
       "      <td>781987361</td>\n",
       "      <td>7439</td>\n",
       "      <td>Cerebellum</td>\n",
       "      <td>F7.21</td>\n",
       "      <td>60811</td>\n",
       "    </tr>\n",
       "    <tr>\n",
       "      <th>Cerebellum:F8.2:19680</th>\n",
       "      <td>15211339</td>\n",
       "      <td>ILAPPGGR</td>\n",
       "      <td>NaN</td>\n",
       "      <td>NaN</td>\n",
       "      <td>Q9EQF6</td>\n",
       "      <td>2</td>\n",
       "      <td>NaN</td>\n",
       "      <td>NaN</td>\n",
       "      <td>NaN</td>\n",
       "      <td>NaN</td>\n",
       "      <td>...</td>\n",
       "      <td>NaN</td>\n",
       "      <td>85</td>\n",
       "      <td>3821</td>\n",
       "      <td>4622</td>\n",
       "      <td>1_3.msgp</td>\n",
       "      <td>781994800</td>\n",
       "      <td>42425</td>\n",
       "      <td>Cerebellum</td>\n",
       "      <td>F8.2</td>\n",
       "      <td>19680</td>\n",
       "    </tr>\n",
       "    <tr>\n",
       "      <th>Cerebellum:F7.2:23496</th>\n",
       "      <td>759668</td>\n",
       "      <td>IAGSIIK</td>\n",
       "      <td>NaN</td>\n",
       "      <td>NaN</td>\n",
       "      <td>A2ARZ3</td>\n",
       "      <td>2</td>\n",
       "      <td>NaN</td>\n",
       "      <td>NaN</td>\n",
       "      <td>NaN</td>\n",
       "      <td>NaN</td>\n",
       "      <td>...</td>\n",
       "      <td>NaN</td>\n",
       "      <td>32</td>\n",
       "      <td>747</td>\n",
       "      <td>887</td>\n",
       "      <td>1_3.msgp</td>\n",
       "      <td>782037225</td>\n",
       "      <td>10355</td>\n",
       "      <td>Cerebellum</td>\n",
       "      <td>F7.2</td>\n",
       "      <td>23496</td>\n",
       "    </tr>\n",
       "    <tr>\n",
       "      <th>Cerebellum:F13.1:39289</th>\n",
       "      <td>48443090</td>\n",
       "      <td>GDILTLLNSTNK</td>\n",
       "      <td>NaN</td>\n",
       "      <td>NaN</td>\n",
       "      <td>P16546</td>\n",
       "      <td>2</td>\n",
       "      <td>NaN</td>\n",
       "      <td>NaN</td>\n",
       "      <td>NaN</td>\n",
       "      <td>NaN</td>\n",
       "      <td>...</td>\n",
       "      <td>NaN</td>\n",
       "      <td>5</td>\n",
       "      <td>148</td>\n",
       "      <td>101</td>\n",
       "      <td>1_3.msgp</td>\n",
       "      <td>782047580</td>\n",
       "      <td>1893</td>\n",
       "      <td>Cerebellum</td>\n",
       "      <td>F13.1</td>\n",
       "      <td>39289</td>\n",
       "    </tr>\n",
       "  </tbody>\n",
       "</table>\n",
       "<p>3940 rows × 46 columns</p>\n",
       "</div>"
      ],
      "text/plain": [
       "                         PSMs Peptide ID Annotated Sequence Modifications  \\\n",
       "Spec Index                                                                  \n",
       "Cerebellum:F12.12:46468         41012819  AAEGISSDSLLSVPGQK           NaN   \n",
       "Cerebellum:F12.2:11100          34797085            GAGSVFR           NaN   \n",
       "Cerebellum:F10.2:5845           29752388           FHVEEEGK           NaN   \n",
       "Cerebellum:F13.6:22284          50301677           YTPLYTAR           NaN   \n",
       "Cerebellum:F7.8:14768            4315980            VVFEQTK           NaN   \n",
       "...                                  ...                ...           ...   \n",
       "Cerebellum:F13.19:44960         58034112       APVPASELLDAK           NaN   \n",
       "Cerebellum:F7.21:60811          12429841        IWHHTFYNELR           NaN   \n",
       "Cerebellum:F8.2:19680           15211339           ILAPPGGR           NaN   \n",
       "Cerebellum:F7.2:23496             759668            IAGSIIK           NaN   \n",
       "Cerebellum:F13.1:39289          48443090       GDILTLLNSTNK           NaN   \n",
       "\n",
       "                        Master Protein Accessions  \\\n",
       "Spec Index                                          \n",
       "Cerebellum:F12.12:46468                       NaN   \n",
       "Cerebellum:F12.2:11100                        NaN   \n",
       "Cerebellum:F10.2:5845                         NaN   \n",
       "Cerebellum:F13.6:22284                        NaN   \n",
       "Cerebellum:F7.8:14768                         NaN   \n",
       "...                                           ...   \n",
       "Cerebellum:F13.19:44960                       NaN   \n",
       "Cerebellum:F7.21:60811                        NaN   \n",
       "Cerebellum:F8.2:19680                         NaN   \n",
       "Cerebellum:F7.2:23496                         NaN   \n",
       "Cerebellum:F13.1:39289                        NaN   \n",
       "\n",
       "                                     Protein Accessions  Charge  DeltaScore  \\\n",
       "Spec Index                                                                    \n",
       "Cerebellum:F12.12:46468                          Q8BPN8       3         NaN   \n",
       "Cerebellum:F12.2:11100                           P62918       2         NaN   \n",
       "Cerebellum:F10.2:5845                    P09041; P09411       3         NaN   \n",
       "Cerebellum:F13.6:22284                           B2RQC2       2         NaN   \n",
       "Cerebellum:F7.8:14768                            P17751       2         NaN   \n",
       "...                                                 ...     ...         ...   \n",
       "Cerebellum:F13.19:44960                          Q9QXS1       2         NaN   \n",
       "Cerebellum:F7.21:60811   P60710; P68134; P68033; P63260       4         NaN   \n",
       "Cerebellum:F8.2:19680                            Q9EQF6       2         NaN   \n",
       "Cerebellum:F7.2:23496                            A2ARZ3       2         NaN   \n",
       "Cerebellum:F13.1:39289                           P16546       2         NaN   \n",
       "\n",
       "                         DeltaCn  Rank  Search Engine Rank  ...  \\\n",
       "Spec Index                                                  ...   \n",
       "Cerebellum:F12.12:46468      NaN   NaN                 NaN  ...   \n",
       "Cerebellum:F12.2:11100       NaN   NaN                 NaN  ...   \n",
       "Cerebellum:F10.2:5845        NaN   NaN                 NaN  ...   \n",
       "Cerebellum:F13.6:22284       NaN   NaN                 NaN  ...   \n",
       "Cerebellum:F7.8:14768        NaN   NaN                 NaN  ...   \n",
       "...                          ...   ...                 ...  ...   \n",
       "Cerebellum:F13.19:44960      NaN   NaN                 NaN  ...   \n",
       "Cerebellum:F7.21:60811       NaN   NaN                 NaN  ...   \n",
       "Cerebellum:F8.2:19680        NaN   NaN                 NaN  ...   \n",
       "Cerebellum:F7.2:23496        NaN   NaN                 NaN  ...   \n",
       "Cerebellum:F13.1:39289       NaN   NaN                 NaN  ...   \n",
       "\n",
       "                         PSM Ambiguity  Node Number  Relation Num  Edge Num  \\\n",
       "Spec Index                                                                    \n",
       "Cerebellum:F12.12:46468            NaN          184         70470    224055   \n",
       "Cerebellum:F12.2:11100             NaN           94          4828      6410   \n",
       "Cerebellum:F10.2:5845              NaN          138         20635     67037   \n",
       "Cerebellum:F13.6:22284             NaN          175         29732     95592   \n",
       "Cerebellum:F7.8:14768              NaN           35          1101      3475   \n",
       "...                                ...          ...           ...       ...   \n",
       "Cerebellum:F13.19:44960            NaN          101         13558     44080   \n",
       "Cerebellum:F7.21:60811             NaN           12          1042       704   \n",
       "Cerebellum:F8.2:19680              NaN           85          3821      4622   \n",
       "Cerebellum:F7.2:23496              NaN           32           747       887   \n",
       "Cerebellum:F13.1:39289             NaN            5           148       101   \n",
       "\n",
       "                         MSGP File Name  MSGP Datablock Pointer  \\\n",
       "Spec Index                                                        \n",
       "Cerebellum:F12.12:46468        1_3.msgp                       0   \n",
       "Cerebellum:F12.2:11100         1_3.msgp                 1165833   \n",
       "Cerebellum:F10.2:5845          1_3.msgp                 1219659   \n",
       "Cerebellum:F13.6:22284         1_3.msgp                 1578866   \n",
       "Cerebellum:F7.8:14768          1_3.msgp                 2094841   \n",
       "...                                 ...                     ...   \n",
       "Cerebellum:F13.19:44960        1_3.msgp               781743255   \n",
       "Cerebellum:F7.21:60811         1_3.msgp               781987361   \n",
       "Cerebellum:F8.2:19680          1_3.msgp               781994800   \n",
       "Cerebellum:F7.2:23496          1_3.msgp               782037225   \n",
       "Cerebellum:F13.1:39289         1_3.msgp               782047580   \n",
       "\n",
       "                        MSGP Datablock Length  Experiment Name Raw File ID  \\\n",
       "Spec Index                                                                   \n",
       "Cerebellum:F12.12:46468               1165833       Cerebellum      F12.12   \n",
       "Cerebellum:F12.2:11100                  53826       Cerebellum       F12.2   \n",
       "Cerebellum:F10.2:5845                  359207       Cerebellum       F10.2   \n",
       "Cerebellum:F13.6:22284                 515975       Cerebellum       F13.6   \n",
       "Cerebellum:F7.8:14768                   24313       Cerebellum        F7.8   \n",
       "...                                       ...              ...         ...   \n",
       "Cerebellum:F13.19:44960                244106       Cerebellum      F13.19   \n",
       "Cerebellum:F7.21:60811                   7439       Cerebellum       F7.21   \n",
       "Cerebellum:F8.2:19680                   42425       Cerebellum        F8.2   \n",
       "Cerebellum:F7.2:23496                   10355       Cerebellum        F7.2   \n",
       "Cerebellum:F13.1:39289                   1893       Cerebellum       F13.1   \n",
       "\n",
       "                         Spectrum ID  \n",
       "Spec Index                            \n",
       "Cerebellum:F12.12:46468        46468  \n",
       "Cerebellum:F12.2:11100         11100  \n",
       "Cerebellum:F10.2:5845           5845  \n",
       "Cerebellum:F13.6:22284         22284  \n",
       "Cerebellum:F7.8:14768          14768  \n",
       "...                              ...  \n",
       "Cerebellum:F13.19:44960        44960  \n",
       "Cerebellum:F7.21:60811         60811  \n",
       "Cerebellum:F8.2:19680          19680  \n",
       "Cerebellum:F7.2:23496          23496  \n",
       "Cerebellum:F13.1:39289         39289  \n",
       "\n",
       "[3940 rows x 46 columns]"
      ]
     },
     "execution_count": 100,
     "metadata": {},
     "output_type": "execute_result"
    }
   ],
   "source": [
    "spec_header"
   ]
  },
  {
   "cell_type": "code",
   "execution_count": 153,
   "id": "37c29bf3",
   "metadata": {},
   "outputs": [],
   "source": [
    "import json"
   ]
  },
  {
   "cell_type": "code",
   "execution_count": 154,
   "id": "b6bc680a",
   "metadata": {},
   "outputs": [],
   "source": [
    "with open('genova/utils/dictionary') as f:\n",
    "    dictionary = json.load(f)"
   ]
  },
  {
   "cell_type": "code",
   "execution_count": 168,
   "id": "c84d6578",
   "metadata": {},
   "outputs": [
    {
     "name": "stdout",
     "output_type": "stream",
     "text": [
      "50115\n"
     ]
    }
   ],
   "source": [
    "from itertools import combinations_with_replacement\n",
    "from genova.utils.BasicClass import Residual_seq\n",
    "\n",
    "all_edge_mass = []\n",
    "aalist = Residual_seq.output_aalist()\n",
    "for num in range(1,7):\n",
    "    for i in combinations_with_replacement(aalist,num):\n",
    "        all_edge_mass.append(Residual_seq(i).mass)\n",
    "all_edge_mass = np.unique(np.array(all_edge_mass))\n",
    "print(len(all_edge_mass))"
   ]
  },
  {
   "cell_type": "code",
   "execution_count": 164,
   "id": "20734dcc",
   "metadata": {},
   "outputs": [
    {
     "data": {
      "text/plain": [
       "112329"
      ]
     },
     "execution_count": 164,
     "metadata": {},
     "output_type": "execute_result"
    }
   ],
   "source": [
    "len(all_edge_mass)"
   ]
  },
  {
   "cell_type": "code",
   "execution_count": null,
   "id": "a8d1ae65",
   "metadata": {},
   "outputs": [],
   "source": []
  }
 ],
 "metadata": {
  "kernelspec": {
   "display_name": "genova_torch",
   "language": "python",
   "name": "genova_torch"
  },
  "language_info": {
   "codemirror_mode": {
    "name": "ipython",
    "version": 3
   },
   "file_extension": ".py",
   "mimetype": "text/x-python",
   "name": "python",
   "nbconvert_exporter": "python",
   "pygments_lexer": "ipython3",
   "version": "3.9.7"
  }
 },
 "nbformat": 4,
 "nbformat_minor": 5
}
